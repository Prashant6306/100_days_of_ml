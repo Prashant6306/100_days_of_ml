{
 "cells": [
  {
   "cell_type": "code",
   "execution_count": 1,
   "id": "e5551b5d",
   "metadata": {
    "_cell_guid": "b1076dfc-b9ad-4769-8c92-a6c4dae69d19",
    "_uuid": "8f2839f25d086af736a60e9eeb907d3b93b6e0e5",
    "execution": {
     "iopub.execute_input": "2022-07-19T05:40:53.169068Z",
     "iopub.status.busy": "2022-07-19T05:40:53.168305Z",
     "iopub.status.idle": "2022-07-19T05:40:53.186969Z",
     "shell.execute_reply": "2022-07-19T05:40:53.186095Z"
    },
    "papermill": {
     "duration": 0.031012,
     "end_time": "2022-07-19T05:40:53.189491",
     "exception": false,
     "start_time": "2022-07-19T05:40:53.158479",
     "status": "completed"
    },
    "tags": []
   },
   "outputs": [
    {
     "name": "stdout",
     "output_type": "stream",
     "text": [
      "/kaggle/input/customer/customer.csv\n"
     ]
    }
   ],
   "source": [
    "# This Python 3 environment comes with many helpful analytics libraries installed\n",
    "# It is defined by the kaggle/python Docker image: https://github.com/kaggle/docker-python\n",
    "# For example, here's several helpful packages to load\n",
    "\n",
    "import numpy as np # linear algebra\n",
    "import pandas as pd # data processing, CSV file I/O (e.g. pd.read_csv)\n",
    "\n",
    "# Input data files are available in the read-only \"../input/\" directory\n",
    "# For example, running this (by clicking run or pressing Shift+Enter) will list all files under the input directory\n",
    "\n",
    "import os\n",
    "for dirname, _, filenames in os.walk('/kaggle/input'):\n",
    "    for filename in filenames:\n",
    "        print(os.path.join(dirname, filename))\n",
    "\n",
    "# You can write up to 20GB to the current directory (/kaggle/working/) that gets preserved as output when you create a version using \"Save & Run All\" \n",
    "# You can also write temporary files to /kaggle/temp/, but they won't be saved outside of the current session"
   ]
  },
  {
   "cell_type": "code",
   "execution_count": 2,
   "id": "a50bd8fb",
   "metadata": {
    "execution": {
     "iopub.execute_input": "2022-07-19T05:40:53.205730Z",
     "iopub.status.busy": "2022-07-19T05:40:53.204853Z",
     "iopub.status.idle": "2022-07-19T05:40:53.209710Z",
     "shell.execute_reply": "2022-07-19T05:40:53.208691Z"
    },
    "papermill": {
     "duration": 0.015079,
     "end_time": "2022-07-19T05:40:53.211812",
     "exception": false,
     "start_time": "2022-07-19T05:40:53.196733",
     "status": "completed"
    },
    "tags": []
   },
   "outputs": [],
   "source": [
    "import numpy as np\n",
    "import pandas as pd"
   ]
  },
  {
   "cell_type": "code",
   "execution_count": 3,
   "id": "37397276",
   "metadata": {
    "execution": {
     "iopub.execute_input": "2022-07-19T05:40:53.228862Z",
     "iopub.status.busy": "2022-07-19T05:40:53.227934Z",
     "iopub.status.idle": "2022-07-19T05:40:53.239793Z",
     "shell.execute_reply": "2022-07-19T05:40:53.238975Z"
    },
    "papermill": {
     "duration": 0.022809,
     "end_time": "2022-07-19T05:40:53.241991",
     "exception": false,
     "start_time": "2022-07-19T05:40:53.219182",
     "status": "completed"
    },
    "tags": []
   },
   "outputs": [],
   "source": [
    "df=pd.read_csv(\"/kaggle/input/customer/customer.csv\")"
   ]
  },
  {
   "cell_type": "code",
   "execution_count": 4,
   "id": "cb030f42",
   "metadata": {
    "execution": {
     "iopub.execute_input": "2022-07-19T05:40:53.258369Z",
     "iopub.status.busy": "2022-07-19T05:40:53.257648Z",
     "iopub.status.idle": "2022-07-19T05:40:53.281210Z",
     "shell.execute_reply": "2022-07-19T05:40:53.280355Z"
    },
    "papermill": {
     "duration": 0.034211,
     "end_time": "2022-07-19T05:40:53.283321",
     "exception": false,
     "start_time": "2022-07-19T05:40:53.249110",
     "status": "completed"
    },
    "tags": []
   },
   "outputs": [
    {
     "data": {
      "text/html": [
       "<div>\n",
       "<style scoped>\n",
       "    .dataframe tbody tr th:only-of-type {\n",
       "        vertical-align: middle;\n",
       "    }\n",
       "\n",
       "    .dataframe tbody tr th {\n",
       "        vertical-align: top;\n",
       "    }\n",
       "\n",
       "    .dataframe thead th {\n",
       "        text-align: right;\n",
       "    }\n",
       "</style>\n",
       "<table border=\"1\" class=\"dataframe\">\n",
       "  <thead>\n",
       "    <tr style=\"text-align: right;\">\n",
       "      <th></th>\n",
       "      <th>age</th>\n",
       "      <th>gender</th>\n",
       "      <th>review</th>\n",
       "      <th>education</th>\n",
       "      <th>purchased</th>\n",
       "    </tr>\n",
       "  </thead>\n",
       "  <tbody>\n",
       "    <tr>\n",
       "      <th>9</th>\n",
       "      <td>74</td>\n",
       "      <td>Male</td>\n",
       "      <td>Good</td>\n",
       "      <td>UG</td>\n",
       "      <td>Yes</td>\n",
       "    </tr>\n",
       "    <tr>\n",
       "      <th>28</th>\n",
       "      <td>48</td>\n",
       "      <td>Male</td>\n",
       "      <td>Poor</td>\n",
       "      <td>School</td>\n",
       "      <td>No</td>\n",
       "    </tr>\n",
       "    <tr>\n",
       "      <th>43</th>\n",
       "      <td>27</td>\n",
       "      <td>Male</td>\n",
       "      <td>Poor</td>\n",
       "      <td>PG</td>\n",
       "      <td>No</td>\n",
       "    </tr>\n",
       "    <tr>\n",
       "      <th>25</th>\n",
       "      <td>57</td>\n",
       "      <td>Female</td>\n",
       "      <td>Good</td>\n",
       "      <td>School</td>\n",
       "      <td>No</td>\n",
       "    </tr>\n",
       "    <tr>\n",
       "      <th>19</th>\n",
       "      <td>97</td>\n",
       "      <td>Male</td>\n",
       "      <td>Poor</td>\n",
       "      <td>PG</td>\n",
       "      <td>Yes</td>\n",
       "    </tr>\n",
       "  </tbody>\n",
       "</table>\n",
       "</div>"
      ],
      "text/plain": [
       "    age  gender review education purchased\n",
       "9    74    Male   Good        UG       Yes\n",
       "28   48    Male   Poor    School        No\n",
       "43   27    Male   Poor        PG        No\n",
       "25   57  Female   Good    School        No\n",
       "19   97    Male   Poor        PG       Yes"
      ]
     },
     "execution_count": 4,
     "metadata": {},
     "output_type": "execute_result"
    }
   ],
   "source": [
    "df.sample(5)"
   ]
  },
  {
   "cell_type": "code",
   "execution_count": 5,
   "id": "578ab4ac",
   "metadata": {
    "execution": {
     "iopub.execute_input": "2022-07-19T05:40:53.300128Z",
     "iopub.status.busy": "2022-07-19T05:40:53.299504Z",
     "iopub.status.idle": "2022-07-19T05:40:53.304187Z",
     "shell.execute_reply": "2022-07-19T05:40:53.303407Z"
    },
    "papermill": {
     "duration": 0.015647,
     "end_time": "2022-07-19T05:40:53.306169",
     "exception": false,
     "start_time": "2022-07-19T05:40:53.290522",
     "status": "completed"
    },
    "tags": []
   },
   "outputs": [],
   "source": [
    "df=df.iloc[:,2:]"
   ]
  },
  {
   "cell_type": "code",
   "execution_count": 6,
   "id": "259b64ef",
   "metadata": {
    "execution": {
     "iopub.execute_input": "2022-07-19T05:40:53.322580Z",
     "iopub.status.busy": "2022-07-19T05:40:53.321964Z",
     "iopub.status.idle": "2022-07-19T05:40:53.331974Z",
     "shell.execute_reply": "2022-07-19T05:40:53.331234Z"
    },
    "papermill": {
     "duration": 0.02064,
     "end_time": "2022-07-19T05:40:53.334037",
     "exception": false,
     "start_time": "2022-07-19T05:40:53.313397",
     "status": "completed"
    },
    "tags": []
   },
   "outputs": [
    {
     "data": {
      "text/html": [
       "<div>\n",
       "<style scoped>\n",
       "    .dataframe tbody tr th:only-of-type {\n",
       "        vertical-align: middle;\n",
       "    }\n",
       "\n",
       "    .dataframe tbody tr th {\n",
       "        vertical-align: top;\n",
       "    }\n",
       "\n",
       "    .dataframe thead th {\n",
       "        text-align: right;\n",
       "    }\n",
       "</style>\n",
       "<table border=\"1\" class=\"dataframe\">\n",
       "  <thead>\n",
       "    <tr style=\"text-align: right;\">\n",
       "      <th></th>\n",
       "      <th>review</th>\n",
       "      <th>education</th>\n",
       "      <th>purchased</th>\n",
       "    </tr>\n",
       "  </thead>\n",
       "  <tbody>\n",
       "    <tr>\n",
       "      <th>30</th>\n",
       "      <td>Average</td>\n",
       "      <td>UG</td>\n",
       "      <td>No</td>\n",
       "    </tr>\n",
       "    <tr>\n",
       "      <th>20</th>\n",
       "      <td>Average</td>\n",
       "      <td>School</td>\n",
       "      <td>Yes</td>\n",
       "    </tr>\n",
       "    <tr>\n",
       "      <th>25</th>\n",
       "      <td>Good</td>\n",
       "      <td>School</td>\n",
       "      <td>No</td>\n",
       "    </tr>\n",
       "    <tr>\n",
       "      <th>43</th>\n",
       "      <td>Poor</td>\n",
       "      <td>PG</td>\n",
       "      <td>No</td>\n",
       "    </tr>\n",
       "    <tr>\n",
       "      <th>0</th>\n",
       "      <td>Average</td>\n",
       "      <td>School</td>\n",
       "      <td>No</td>\n",
       "    </tr>\n",
       "  </tbody>\n",
       "</table>\n",
       "</div>"
      ],
      "text/plain": [
       "     review education purchased\n",
       "30  Average        UG        No\n",
       "20  Average    School       Yes\n",
       "25     Good    School        No\n",
       "43     Poor        PG        No\n",
       "0   Average    School        No"
      ]
     },
     "execution_count": 6,
     "metadata": {},
     "output_type": "execute_result"
    }
   ],
   "source": [
    "df.sample(5)"
   ]
  },
  {
   "cell_type": "code",
   "execution_count": 7,
   "id": "428c435c",
   "metadata": {
    "execution": {
     "iopub.execute_input": "2022-07-19T05:40:53.350827Z",
     "iopub.status.busy": "2022-07-19T05:40:53.350230Z",
     "iopub.status.idle": "2022-07-19T05:40:54.383324Z",
     "shell.execute_reply": "2022-07-19T05:40:54.382223Z"
    },
    "papermill": {
     "duration": 1.044517,
     "end_time": "2022-07-19T05:40:54.386032",
     "exception": false,
     "start_time": "2022-07-19T05:40:53.341515",
     "status": "completed"
    },
    "tags": []
   },
   "outputs": [],
   "source": [
    "from sklearn.model_selection import train_test_split\n",
    "X_train,X_test,y_train,y_test=train_test_split(df.iloc[:,0:2],df.iloc[:,-1],\n",
    "                                                      test_size=0.2)"
   ]
  },
  {
   "cell_type": "code",
   "execution_count": 8,
   "id": "93825782",
   "metadata": {
    "execution": {
     "iopub.execute_input": "2022-07-19T05:40:54.402658Z",
     "iopub.status.busy": "2022-07-19T05:40:54.402254Z",
     "iopub.status.idle": "2022-07-19T05:40:54.409389Z",
     "shell.execute_reply": "2022-07-19T05:40:54.408311Z"
    },
    "papermill": {
     "duration": 0.018122,
     "end_time": "2022-07-19T05:40:54.411531",
     "exception": false,
     "start_time": "2022-07-19T05:40:54.393409",
     "status": "completed"
    },
    "tags": []
   },
   "outputs": [
    {
     "data": {
      "text/plain": [
       "((40, 2), (10, 2))"
      ]
     },
     "execution_count": 8,
     "metadata": {},
     "output_type": "execute_result"
    }
   ],
   "source": [
    "X_train.shape,X_test.shape"
   ]
  },
  {
   "cell_type": "markdown",
   "id": "78c8ef34",
   "metadata": {
    "papermill": {
     "duration": 0.007149,
     "end_time": "2022-07-19T05:40:54.426076",
     "exception": false,
     "start_time": "2022-07-19T05:40:54.418927",
     "status": "completed"
    },
    "tags": []
   },
   "source": [
    "# OrdinalEncoding"
   ]
  },
  {
   "cell_type": "code",
   "execution_count": 9,
   "id": "148d8541",
   "metadata": {
    "execution": {
     "iopub.execute_input": "2022-07-19T05:40:54.443371Z",
     "iopub.status.busy": "2022-07-19T05:40:54.442441Z",
     "iopub.status.idle": "2022-07-19T05:40:54.447012Z",
     "shell.execute_reply": "2022-07-19T05:40:54.446250Z"
    },
    "papermill": {
     "duration": 0.01527,
     "end_time": "2022-07-19T05:40:54.448977",
     "exception": false,
     "start_time": "2022-07-19T05:40:54.433707",
     "status": "completed"
    },
    "tags": []
   },
   "outputs": [],
   "source": [
    "from sklearn.preprocessing import OrdinalEncoder"
   ]
  },
  {
   "cell_type": "code",
   "execution_count": 10,
   "id": "a7862dc1",
   "metadata": {
    "execution": {
     "iopub.execute_input": "2022-07-19T05:40:54.465382Z",
     "iopub.status.busy": "2022-07-19T05:40:54.464965Z",
     "iopub.status.idle": "2022-07-19T05:40:54.469381Z",
     "shell.execute_reply": "2022-07-19T05:40:54.468684Z"
    },
    "papermill": {
     "duration": 0.01492,
     "end_time": "2022-07-19T05:40:54.471324",
     "exception": false,
     "start_time": "2022-07-19T05:40:54.456404",
     "status": "completed"
    },
    "tags": []
   },
   "outputs": [],
   "source": [
    "oe=OrdinalEncoder(categories=[[\"Poor\",\"Average\",\"Good\"],[\"School\",\"UG\",\"PG\"]])"
   ]
  },
  {
   "cell_type": "code",
   "execution_count": 11,
   "id": "241485fd",
   "metadata": {
    "execution": {
     "iopub.execute_input": "2022-07-19T05:40:54.487946Z",
     "iopub.status.busy": "2022-07-19T05:40:54.487419Z",
     "iopub.status.idle": "2022-07-19T05:40:54.496061Z",
     "shell.execute_reply": "2022-07-19T05:40:54.495007Z"
    },
    "papermill": {
     "duration": 0.019747,
     "end_time": "2022-07-19T05:40:54.498390",
     "exception": false,
     "start_time": "2022-07-19T05:40:54.478643",
     "status": "completed"
    },
    "tags": []
   },
   "outputs": [
    {
     "data": {
      "text/plain": [
       "OrdinalEncoder(categories=[['Poor', 'Average', 'Good'], ['School', 'UG', 'PG']])"
      ]
     },
     "execution_count": 11,
     "metadata": {},
     "output_type": "execute_result"
    }
   ],
   "source": [
    "oe.fit(X_train)"
   ]
  },
  {
   "cell_type": "code",
   "execution_count": 12,
   "id": "e4267dd9",
   "metadata": {
    "execution": {
     "iopub.execute_input": "2022-07-19T05:40:54.515925Z",
     "iopub.status.busy": "2022-07-19T05:40:54.515070Z",
     "iopub.status.idle": "2022-07-19T05:40:54.524725Z",
     "shell.execute_reply": "2022-07-19T05:40:54.523854Z"
    },
    "papermill": {
     "duration": 0.0213,
     "end_time": "2022-07-19T05:40:54.527145",
     "exception": false,
     "start_time": "2022-07-19T05:40:54.505845",
     "status": "completed"
    },
    "tags": []
   },
   "outputs": [],
   "source": [
    "X_train=oe.transform(X_train)\n",
    "X_test=oe.transform(X_test)"
   ]
  },
  {
   "cell_type": "code",
   "execution_count": 13,
   "id": "85cc60b1",
   "metadata": {
    "execution": {
     "iopub.execute_input": "2022-07-19T05:40:54.544588Z",
     "iopub.status.busy": "2022-07-19T05:40:54.543537Z",
     "iopub.status.idle": "2022-07-19T05:40:54.551908Z",
     "shell.execute_reply": "2022-07-19T05:40:54.550998Z"
    },
    "papermill": {
     "duration": 0.019354,
     "end_time": "2022-07-19T05:40:54.554100",
     "exception": false,
     "start_time": "2022-07-19T05:40:54.534746",
     "status": "completed"
    },
    "tags": []
   },
   "outputs": [
    {
     "data": {
      "text/plain": [
       "array([[2., 2.],\n",
       "       [0., 0.],\n",
       "       [1., 1.],\n",
       "       [1., 2.],\n",
       "       [1., 0.],\n",
       "       [0., 2.],\n",
       "       [1., 1.],\n",
       "       [1., 1.],\n",
       "       [2., 1.],\n",
       "       [2., 2.],\n",
       "       [0., 1.],\n",
       "       [1., 0.],\n",
       "       [2., 0.],\n",
       "       [0., 2.],\n",
       "       [0., 0.],\n",
       "       [0., 1.],\n",
       "       [0., 1.],\n",
       "       [2., 0.],\n",
       "       [2., 1.],\n",
       "       [1., 0.],\n",
       "       [1., 2.],\n",
       "       [2., 1.],\n",
       "       [0., 0.],\n",
       "       [2., 0.],\n",
       "       [1., 2.],\n",
       "       [0., 1.],\n",
       "       [2., 1.],\n",
       "       [1., 1.],\n",
       "       [2., 0.],\n",
       "       [2., 2.],\n",
       "       [1., 0.],\n",
       "       [2., 1.],\n",
       "       [1., 0.],\n",
       "       [0., 2.],\n",
       "       [1., 1.],\n",
       "       [0., 2.],\n",
       "       [0., 2.],\n",
       "       [0., 2.],\n",
       "       [0., 0.],\n",
       "       [2., 2.]])"
      ]
     },
     "execution_count": 13,
     "metadata": {},
     "output_type": "execute_result"
    }
   ],
   "source": [
    "X_train"
   ]
  },
  {
   "cell_type": "code",
   "execution_count": 14,
   "id": "552e8bef",
   "metadata": {
    "execution": {
     "iopub.execute_input": "2022-07-19T05:40:54.571925Z",
     "iopub.status.busy": "2022-07-19T05:40:54.571127Z",
     "iopub.status.idle": "2022-07-19T05:40:54.578076Z",
     "shell.execute_reply": "2022-07-19T05:40:54.577220Z"
    },
    "papermill": {
     "duration": 0.018414,
     "end_time": "2022-07-19T05:40:54.580320",
     "exception": false,
     "start_time": "2022-07-19T05:40:54.561906",
     "status": "completed"
    },
    "tags": []
   },
   "outputs": [
    {
     "data": {
      "text/plain": [
       "[array(['Poor', 'Average', 'Good'], dtype=object),\n",
       " array(['School', 'UG', 'PG'], dtype=object)]"
      ]
     },
     "execution_count": 14,
     "metadata": {},
     "output_type": "execute_result"
    }
   ],
   "source": [
    "oe.categories_"
   ]
  },
  {
   "cell_type": "markdown",
   "id": "3e6e3b00",
   "metadata": {
    "papermill": {
     "duration": 0.008227,
     "end_time": "2022-07-19T05:40:54.596582",
     "exception": false,
     "start_time": "2022-07-19T05:40:54.588355",
     "status": "completed"
    },
    "tags": []
   },
   "source": [
    "#  LabelEncoding"
   ]
  },
  {
   "cell_type": "code",
   "execution_count": 15,
   "id": "2763986b",
   "metadata": {
    "execution": {
     "iopub.execute_input": "2022-07-19T05:40:54.614452Z",
     "iopub.status.busy": "2022-07-19T05:40:54.613715Z",
     "iopub.status.idle": "2022-07-19T05:40:54.618623Z",
     "shell.execute_reply": "2022-07-19T05:40:54.617774Z"
    },
    "papermill": {
     "duration": 0.016427,
     "end_time": "2022-07-19T05:40:54.620816",
     "exception": false,
     "start_time": "2022-07-19T05:40:54.604389",
     "status": "completed"
    },
    "tags": []
   },
   "outputs": [],
   "source": [
    "from sklearn.preprocessing import LabelEncoder"
   ]
  },
  {
   "cell_type": "code",
   "execution_count": 16,
   "id": "0e24d638",
   "metadata": {
    "execution": {
     "iopub.execute_input": "2022-07-19T05:40:54.638935Z",
     "iopub.status.busy": "2022-07-19T05:40:54.638177Z",
     "iopub.status.idle": "2022-07-19T05:40:54.643138Z",
     "shell.execute_reply": "2022-07-19T05:40:54.642374Z"
    },
    "papermill": {
     "duration": 0.016689,
     "end_time": "2022-07-19T05:40:54.645338",
     "exception": false,
     "start_time": "2022-07-19T05:40:54.628649",
     "status": "completed"
    },
    "tags": []
   },
   "outputs": [],
   "source": [
    " le=LabelEncoder()"
   ]
  },
  {
   "cell_type": "code",
   "execution_count": 17,
   "id": "d3a2260f",
   "metadata": {
    "execution": {
     "iopub.execute_input": "2022-07-19T05:40:54.662539Z",
     "iopub.status.busy": "2022-07-19T05:40:54.661969Z",
     "iopub.status.idle": "2022-07-19T05:40:54.669637Z",
     "shell.execute_reply": "2022-07-19T05:40:54.668540Z"
    },
    "papermill": {
     "duration": 0.018951,
     "end_time": "2022-07-19T05:40:54.671983",
     "exception": false,
     "start_time": "2022-07-19T05:40:54.653032",
     "status": "completed"
    },
    "tags": []
   },
   "outputs": [
    {
     "data": {
      "text/plain": [
       "LabelEncoder()"
      ]
     },
     "execution_count": 17,
     "metadata": {},
     "output_type": "execute_result"
    }
   ],
   "source": [
    "le.fit(y_train)"
   ]
  },
  {
   "cell_type": "code",
   "execution_count": 18,
   "id": "e2532dbc",
   "metadata": {
    "execution": {
     "iopub.execute_input": "2022-07-19T05:40:54.689531Z",
     "iopub.status.busy": "2022-07-19T05:40:54.688925Z",
     "iopub.status.idle": "2022-07-19T05:40:54.695973Z",
     "shell.execute_reply": "2022-07-19T05:40:54.695189Z"
    },
    "papermill": {
     "duration": 0.018349,
     "end_time": "2022-07-19T05:40:54.698102",
     "exception": false,
     "start_time": "2022-07-19T05:40:54.679753",
     "status": "completed"
    },
    "tags": []
   },
   "outputs": [
    {
     "data": {
      "text/plain": [
       "array(['No', 'Yes'], dtype=object)"
      ]
     },
     "execution_count": 18,
     "metadata": {},
     "output_type": "execute_result"
    }
   ],
   "source": [
    "le.classes_"
   ]
  },
  {
   "cell_type": "code",
   "execution_count": 19,
   "id": "63bba519",
   "metadata": {
    "execution": {
     "iopub.execute_input": "2022-07-19T05:40:54.716204Z",
     "iopub.status.busy": "2022-07-19T05:40:54.715469Z",
     "iopub.status.idle": "2022-07-19T05:40:54.720605Z",
     "shell.execute_reply": "2022-07-19T05:40:54.719872Z"
    },
    "papermill": {
     "duration": 0.016748,
     "end_time": "2022-07-19T05:40:54.722784",
     "exception": false,
     "start_time": "2022-07-19T05:40:54.706036",
     "status": "completed"
    },
    "tags": []
   },
   "outputs": [],
   "source": [
    "y_train=le.transform(y_train)\n",
    "y_test=le.transform(y_test)"
   ]
  },
  {
   "cell_type": "code",
   "execution_count": 20,
   "id": "6f57cf4d",
   "metadata": {
    "execution": {
     "iopub.execute_input": "2022-07-19T05:40:54.744805Z",
     "iopub.status.busy": "2022-07-19T05:40:54.744055Z",
     "iopub.status.idle": "2022-07-19T05:40:54.750836Z",
     "shell.execute_reply": "2022-07-19T05:40:54.750032Z"
    },
    "papermill": {
     "duration": 0.020415,
     "end_time": "2022-07-19T05:40:54.753085",
     "exception": false,
     "start_time": "2022-07-19T05:40:54.732670",
     "status": "completed"
    },
    "tags": []
   },
   "outputs": [
    {
     "data": {
      "text/plain": [
       "array([1, 1, 0, 1, 0, 1, 1, 0, 0, 1, 0, 1, 0, 0, 1, 0, 1, 0, 1, 1, 1, 1,\n",
       "       1, 0, 0, 1, 1, 0, 0, 1, 0, 1, 0, 1, 0, 0, 0, 0, 0, 0])"
      ]
     },
     "execution_count": 20,
     "metadata": {},
     "output_type": "execute_result"
    }
   ],
   "source": [
    "y_train"
   ]
  },
  {
   "cell_type": "code",
   "execution_count": 21,
   "id": "506cdcfd",
   "metadata": {
    "execution": {
     "iopub.execute_input": "2022-07-19T05:40:54.771561Z",
     "iopub.status.busy": "2022-07-19T05:40:54.770791Z",
     "iopub.status.idle": "2022-07-19T05:40:54.777387Z",
     "shell.execute_reply": "2022-07-19T05:40:54.776548Z"
    },
    "papermill": {
     "duration": 0.018361,
     "end_time": "2022-07-19T05:40:54.779537",
     "exception": false,
     "start_time": "2022-07-19T05:40:54.761176",
     "status": "completed"
    },
    "tags": []
   },
   "outputs": [
    {
     "data": {
      "text/plain": [
       "array([1, 1, 1, 0, 1, 0, 0, 0, 1, 0])"
      ]
     },
     "execution_count": 21,
     "metadata": {},
     "output_type": "execute_result"
    }
   ],
   "source": [
    "y_test"
   ]
  },
  {
   "cell_type": "code",
   "execution_count": null,
   "id": "8adb3be2",
   "metadata": {
    "papermill": {
     "duration": 0.008094,
     "end_time": "2022-07-19T05:40:54.795835",
     "exception": false,
     "start_time": "2022-07-19T05:40:54.787741",
     "status": "completed"
    },
    "tags": []
   },
   "outputs": [],
   "source": []
  },
  {
   "cell_type": "code",
   "execution_count": null,
   "id": "7370b42e",
   "metadata": {
    "papermill": {
     "duration": 0.008015,
     "end_time": "2022-07-19T05:40:54.812052",
     "exception": false,
     "start_time": "2022-07-19T05:40:54.804037",
     "status": "completed"
    },
    "tags": []
   },
   "outputs": [],
   "source": []
  }
 ],
 "metadata": {
  "kernelspec": {
   "display_name": "Python 3",
   "language": "python",
   "name": "python3"
  },
  "language_info": {
   "codemirror_mode": {
    "name": "ipython",
    "version": 3
   },
   "file_extension": ".py",
   "mimetype": "text/x-python",
   "name": "python",
   "nbconvert_exporter": "python",
   "pygments_lexer": "ipython3",
   "version": "3.7.12"
  },
  "papermill": {
   "default_parameters": {},
   "duration": 12.238512,
   "end_time": "2022-07-19T05:40:55.541543",
   "environment_variables": {},
   "exception": null,
   "input_path": "__notebook__.ipynb",
   "output_path": "__notebook__.ipynb",
   "parameters": {},
   "start_time": "2022-07-19T05:40:43.303031",
   "version": "2.3.4"
  }
 },
 "nbformat": 4,
 "nbformat_minor": 5
}
