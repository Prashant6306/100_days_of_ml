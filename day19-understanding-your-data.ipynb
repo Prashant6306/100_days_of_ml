{
 "cells": [
  {
   "cell_type": "code",
   "execution_count": 1,
   "id": "db75bcc0",
   "metadata": {
    "_cell_guid": "b1076dfc-b9ad-4769-8c92-a6c4dae69d19",
    "_uuid": "8f2839f25d086af736a60e9eeb907d3b93b6e0e5",
    "execution": {
     "iopub.execute_input": "2022-07-14T17:31:50.431925Z",
     "iopub.status.busy": "2022-07-14T17:31:50.431283Z",
     "iopub.status.idle": "2022-07-14T17:31:50.452932Z",
     "shell.execute_reply": "2022-07-14T17:31:50.451673Z"
    },
    "papermill": {
     "duration": 0.034084,
     "end_time": "2022-07-14T17:31:50.455977",
     "exception": false,
     "start_time": "2022-07-14T17:31:50.421893",
     "status": "completed"
    },
    "tags": []
   },
   "outputs": [
    {
     "name": "stdout",
     "output_type": "stream",
     "text": [
      "/kaggle/input/day19understandingyourdata/train.csv\n"
     ]
    }
   ],
   "source": [
    "# This Python 3 environment comes with many helpful analytics libraries installed\n",
    "# It is defined by the kaggle/python Docker image: https://github.com/kaggle/docker-python\n",
    "# For example, here's several helpful packages to load\n",
    "\n",
    "import numpy as np # linear algebra\n",
    "import pandas as pd # data processing, CSV file I/O (e.g. pd.read_csv)\n",
    "\n",
    "# Input data files are available in the read-only \"../input/\" directory\n",
    "# For example, running this (by clicking run or pressing Shift+Enter) will list all files under the input directory\n",
    "\n",
    "import os\n",
    "for dirname, _, filenames in os.walk('/kaggle/input'):\n",
    "    for filename in filenames:\n",
    "        print(os.path.join(dirname, filename))\n",
    "\n",
    "# You can write up to 20GB to the current directory (/kaggle/working/) that gets preserved as output when you create a version using \"Save & Run All\" \n",
    "# You can also write temporary files to /kaggle/temp/, but they won't be saved outside of the current session"
   ]
  },
  {
   "cell_type": "code",
   "execution_count": 2,
   "id": "ffcc69b8",
   "metadata": {
    "execution": {
     "iopub.execute_input": "2022-07-14T17:31:50.469014Z",
     "iopub.status.busy": "2022-07-14T17:31:50.468070Z",
     "iopub.status.idle": "2022-07-14T17:31:50.473183Z",
     "shell.execute_reply": "2022-07-14T17:31:50.472427Z"
    },
    "papermill": {
     "duration": 0.013422,
     "end_time": "2022-07-14T17:31:50.475338",
     "exception": false,
     "start_time": "2022-07-14T17:31:50.461916",
     "status": "completed"
    },
    "tags": []
   },
   "outputs": [],
   "source": [
    "import pandas as pd"
   ]
  },
  {
   "cell_type": "code",
   "execution_count": 3,
   "id": "deabe734",
   "metadata": {
    "execution": {
     "iopub.execute_input": "2022-07-14T17:31:50.487196Z",
     "iopub.status.busy": "2022-07-14T17:31:50.486543Z",
     "iopub.status.idle": "2022-07-14T17:31:50.507142Z",
     "shell.execute_reply": "2022-07-14T17:31:50.506035Z"
    },
    "papermill": {
     "duration": 0.02952,
     "end_time": "2022-07-14T17:31:50.509828",
     "exception": false,
     "start_time": "2022-07-14T17:31:50.480308",
     "status": "completed"
    },
    "tags": []
   },
   "outputs": [],
   "source": [
    "df=pd.read_csv(\"/kaggle/input/day19understandingyourdata/train.csv\")"
   ]
  },
  {
   "cell_type": "markdown",
   "id": "cb09956f",
   "metadata": {
    "papermill": {
     "duration": 0.004968,
     "end_time": "2022-07-14T17:31:50.519953",
     "exception": false,
     "start_time": "2022-07-14T17:31:50.514985",
     "status": "completed"
    },
    "tags": []
   },
   "source": [
    "# How big is the data?"
   ]
  },
  {
   "cell_type": "code",
   "execution_count": 4,
   "id": "65faa8eb",
   "metadata": {
    "execution": {
     "iopub.execute_input": "2022-07-14T17:31:50.532598Z",
     "iopub.status.busy": "2022-07-14T17:31:50.531994Z",
     "iopub.status.idle": "2022-07-14T17:31:50.539939Z",
     "shell.execute_reply": "2022-07-14T17:31:50.538842Z"
    },
    "papermill": {
     "duration": 0.016925,
     "end_time": "2022-07-14T17:31:50.542031",
     "exception": false,
     "start_time": "2022-07-14T17:31:50.525106",
     "status": "completed"
    },
    "tags": []
   },
   "outputs": [
    {
     "data": {
      "text/plain": [
       "(891, 12)"
      ]
     },
     "execution_count": 4,
     "metadata": {},
     "output_type": "execute_result"
    }
   ],
   "source": [
    "df.shape"
   ]
  },
  {
   "cell_type": "markdown",
   "id": "a2992f57",
   "metadata": {
    "papermill": {
     "duration": 0.004793,
     "end_time": "2022-07-14T17:31:50.551906",
     "exception": false,
     "start_time": "2022-07-14T17:31:50.547113",
     "status": "completed"
    },
    "tags": []
   },
   "source": [
    "# How does the data look like?"
   ]
  },
  {
   "cell_type": "code",
   "execution_count": 5,
   "id": "dfea6558",
   "metadata": {
    "execution": {
     "iopub.execute_input": "2022-07-14T17:31:50.564118Z",
     "iopub.status.busy": "2022-07-14T17:31:50.563258Z",
     "iopub.status.idle": "2022-07-14T17:31:50.589516Z",
     "shell.execute_reply": "2022-07-14T17:31:50.588683Z"
    },
    "papermill": {
     "duration": 0.035039,
     "end_time": "2022-07-14T17:31:50.591947",
     "exception": false,
     "start_time": "2022-07-14T17:31:50.556908",
     "status": "completed"
    },
    "tags": []
   },
   "outputs": [
    {
     "data": {
      "text/html": [
       "<div>\n",
       "<style scoped>\n",
       "    .dataframe tbody tr th:only-of-type {\n",
       "        vertical-align: middle;\n",
       "    }\n",
       "\n",
       "    .dataframe tbody tr th {\n",
       "        vertical-align: top;\n",
       "    }\n",
       "\n",
       "    .dataframe thead th {\n",
       "        text-align: right;\n",
       "    }\n",
       "</style>\n",
       "<table border=\"1\" class=\"dataframe\">\n",
       "  <thead>\n",
       "    <tr style=\"text-align: right;\">\n",
       "      <th></th>\n",
       "      <th>PassengerId</th>\n",
       "      <th>Survived</th>\n",
       "      <th>Pclass</th>\n",
       "      <th>Name</th>\n",
       "      <th>Sex</th>\n",
       "      <th>Age</th>\n",
       "      <th>SibSp</th>\n",
       "      <th>Parch</th>\n",
       "      <th>Ticket</th>\n",
       "      <th>Fare</th>\n",
       "      <th>Cabin</th>\n",
       "      <th>Embarked</th>\n",
       "    </tr>\n",
       "  </thead>\n",
       "  <tbody>\n",
       "    <tr>\n",
       "      <th>671</th>\n",
       "      <td>672</td>\n",
       "      <td>0</td>\n",
       "      <td>1</td>\n",
       "      <td>Davidson, Mr. Thornton</td>\n",
       "      <td>male</td>\n",
       "      <td>31.0</td>\n",
       "      <td>1</td>\n",
       "      <td>0</td>\n",
       "      <td>F.C. 12750</td>\n",
       "      <td>52.00</td>\n",
       "      <td>B71</td>\n",
       "      <td>S</td>\n",
       "    </tr>\n",
       "    <tr>\n",
       "      <th>511</th>\n",
       "      <td>512</td>\n",
       "      <td>0</td>\n",
       "      <td>3</td>\n",
       "      <td>Webber, Mr. James</td>\n",
       "      <td>male</td>\n",
       "      <td>NaN</td>\n",
       "      <td>0</td>\n",
       "      <td>0</td>\n",
       "      <td>SOTON/OQ 3101316</td>\n",
       "      <td>8.05</td>\n",
       "      <td>NaN</td>\n",
       "      <td>S</td>\n",
       "    </tr>\n",
       "    <tr>\n",
       "      <th>763</th>\n",
       "      <td>764</td>\n",
       "      <td>1</td>\n",
       "      <td>1</td>\n",
       "      <td>Carter, Mrs. William Ernest (Lucile Polk)</td>\n",
       "      <td>female</td>\n",
       "      <td>36.0</td>\n",
       "      <td>1</td>\n",
       "      <td>2</td>\n",
       "      <td>113760</td>\n",
       "      <td>120.00</td>\n",
       "      <td>B96 B98</td>\n",
       "      <td>S</td>\n",
       "    </tr>\n",
       "    <tr>\n",
       "      <th>752</th>\n",
       "      <td>753</td>\n",
       "      <td>0</td>\n",
       "      <td>3</td>\n",
       "      <td>Vande Velde, Mr. Johannes Joseph</td>\n",
       "      <td>male</td>\n",
       "      <td>33.0</td>\n",
       "      <td>0</td>\n",
       "      <td>0</td>\n",
       "      <td>345780</td>\n",
       "      <td>9.50</td>\n",
       "      <td>NaN</td>\n",
       "      <td>S</td>\n",
       "    </tr>\n",
       "    <tr>\n",
       "      <th>385</th>\n",
       "      <td>386</td>\n",
       "      <td>0</td>\n",
       "      <td>2</td>\n",
       "      <td>Davies, Mr. Charles Henry</td>\n",
       "      <td>male</td>\n",
       "      <td>18.0</td>\n",
       "      <td>0</td>\n",
       "      <td>0</td>\n",
       "      <td>S.O.C. 14879</td>\n",
       "      <td>73.50</td>\n",
       "      <td>NaN</td>\n",
       "      <td>S</td>\n",
       "    </tr>\n",
       "  </tbody>\n",
       "</table>\n",
       "</div>"
      ],
      "text/plain": [
       "     PassengerId  Survived  Pclass                                       Name  \\\n",
       "671          672         0       1                     Davidson, Mr. Thornton   \n",
       "511          512         0       3                          Webber, Mr. James   \n",
       "763          764         1       1  Carter, Mrs. William Ernest (Lucile Polk)   \n",
       "752          753         0       3           Vande Velde, Mr. Johannes Joseph   \n",
       "385          386         0       2                  Davies, Mr. Charles Henry   \n",
       "\n",
       "        Sex   Age  SibSp  Parch            Ticket    Fare    Cabin Embarked  \n",
       "671    male  31.0      1      0        F.C. 12750   52.00      B71        S  \n",
       "511    male   NaN      0      0  SOTON/OQ 3101316    8.05      NaN        S  \n",
       "763  female  36.0      1      2            113760  120.00  B96 B98        S  \n",
       "752    male  33.0      0      0            345780    9.50      NaN        S  \n",
       "385    male  18.0      0      0      S.O.C. 14879   73.50      NaN        S  "
      ]
     },
     "execution_count": 5,
     "metadata": {},
     "output_type": "execute_result"
    }
   ],
   "source": [
    "df.sample(5)"
   ]
  },
  {
   "cell_type": "markdown",
   "id": "b063b39a",
   "metadata": {
    "papermill": {
     "duration": 0.005078,
     "end_time": "2022-07-14T17:31:50.602431",
     "exception": false,
     "start_time": "2022-07-14T17:31:50.597353",
     "status": "completed"
    },
    "tags": []
   },
   "source": [
    "# What is the data type of cols?"
   ]
  },
  {
   "cell_type": "code",
   "execution_count": 6,
   "id": "19f17381",
   "metadata": {
    "execution": {
     "iopub.execute_input": "2022-07-14T17:31:50.614838Z",
     "iopub.status.busy": "2022-07-14T17:31:50.614449Z",
     "iopub.status.idle": "2022-07-14T17:31:50.642565Z",
     "shell.execute_reply": "2022-07-14T17:31:50.641297Z"
    },
    "papermill": {
     "duration": 0.037333,
     "end_time": "2022-07-14T17:31:50.645069",
     "exception": false,
     "start_time": "2022-07-14T17:31:50.607736",
     "status": "completed"
    },
    "tags": []
   },
   "outputs": [
    {
     "name": "stdout",
     "output_type": "stream",
     "text": [
      "<class 'pandas.core.frame.DataFrame'>\n",
      "RangeIndex: 891 entries, 0 to 890\n",
      "Data columns (total 12 columns):\n",
      " #   Column       Non-Null Count  Dtype  \n",
      "---  ------       --------------  -----  \n",
      " 0   PassengerId  891 non-null    int64  \n",
      " 1   Survived     891 non-null    int64  \n",
      " 2   Pclass       891 non-null    int64  \n",
      " 3   Name         891 non-null    object \n",
      " 4   Sex          891 non-null    object \n",
      " 5   Age          714 non-null    float64\n",
      " 6   SibSp        891 non-null    int64  \n",
      " 7   Parch        891 non-null    int64  \n",
      " 8   Ticket       891 non-null    object \n",
      " 9   Fare         891 non-null    float64\n",
      " 10  Cabin        204 non-null    object \n",
      " 11  Embarked     889 non-null    object \n",
      "dtypes: float64(2), int64(5), object(5)\n",
      "memory usage: 83.7+ KB\n"
     ]
    }
   ],
   "source": [
    "df.info()"
   ]
  },
  {
   "cell_type": "markdown",
   "id": "402f7af3",
   "metadata": {
    "papermill": {
     "duration": 0.005174,
     "end_time": "2022-07-14T17:31:50.655884",
     "exception": false,
     "start_time": "2022-07-14T17:31:50.650710",
     "status": "completed"
    },
    "tags": []
   },
   "source": [
    "# Are there any missing values?"
   ]
  },
  {
   "cell_type": "code",
   "execution_count": 7,
   "id": "872fe9f2",
   "metadata": {
    "execution": {
     "iopub.execute_input": "2022-07-14T17:31:50.669218Z",
     "iopub.status.busy": "2022-07-14T17:31:50.668496Z",
     "iopub.status.idle": "2022-07-14T17:31:50.678175Z",
     "shell.execute_reply": "2022-07-14T17:31:50.677296Z"
    },
    "papermill": {
     "duration": 0.018941,
     "end_time": "2022-07-14T17:31:50.680327",
     "exception": false,
     "start_time": "2022-07-14T17:31:50.661386",
     "status": "completed"
    },
    "tags": []
   },
   "outputs": [
    {
     "data": {
      "text/plain": [
       "PassengerId      0\n",
       "Survived         0\n",
       "Pclass           0\n",
       "Name             0\n",
       "Sex              0\n",
       "Age            177\n",
       "SibSp            0\n",
       "Parch            0\n",
       "Ticket           0\n",
       "Fare             0\n",
       "Cabin          687\n",
       "Embarked         2\n",
       "dtype: int64"
      ]
     },
     "execution_count": 7,
     "metadata": {},
     "output_type": "execute_result"
    }
   ],
   "source": [
    "df.isnull().sum()"
   ]
  },
  {
   "cell_type": "markdown",
   "id": "7a064ea1",
   "metadata": {
    "papermill": {
     "duration": 0.005302,
     "end_time": "2022-07-14T17:31:50.691260",
     "exception": false,
     "start_time": "2022-07-14T17:31:50.685958",
     "status": "completed"
    },
    "tags": []
   },
   "source": [
    "# How does the data look mathematically?"
   ]
  },
  {
   "cell_type": "code",
   "execution_count": 8,
   "id": "f742deaa",
   "metadata": {
    "execution": {
     "iopub.execute_input": "2022-07-14T17:31:50.704945Z",
     "iopub.status.busy": "2022-07-14T17:31:50.704133Z",
     "iopub.status.idle": "2022-07-14T17:31:50.738896Z",
     "shell.execute_reply": "2022-07-14T17:31:50.737632Z"
    },
    "papermill": {
     "duration": 0.044461,
     "end_time": "2022-07-14T17:31:50.741381",
     "exception": false,
     "start_time": "2022-07-14T17:31:50.696920",
     "status": "completed"
    },
    "tags": []
   },
   "outputs": [
    {
     "data": {
      "text/html": [
       "<div>\n",
       "<style scoped>\n",
       "    .dataframe tbody tr th:only-of-type {\n",
       "        vertical-align: middle;\n",
       "    }\n",
       "\n",
       "    .dataframe tbody tr th {\n",
       "        vertical-align: top;\n",
       "    }\n",
       "\n",
       "    .dataframe thead th {\n",
       "        text-align: right;\n",
       "    }\n",
       "</style>\n",
       "<table border=\"1\" class=\"dataframe\">\n",
       "  <thead>\n",
       "    <tr style=\"text-align: right;\">\n",
       "      <th></th>\n",
       "      <th>PassengerId</th>\n",
       "      <th>Survived</th>\n",
       "      <th>Pclass</th>\n",
       "      <th>Age</th>\n",
       "      <th>SibSp</th>\n",
       "      <th>Parch</th>\n",
       "      <th>Fare</th>\n",
       "    </tr>\n",
       "  </thead>\n",
       "  <tbody>\n",
       "    <tr>\n",
       "      <th>count</th>\n",
       "      <td>891.000000</td>\n",
       "      <td>891.000000</td>\n",
       "      <td>891.000000</td>\n",
       "      <td>714.000000</td>\n",
       "      <td>891.000000</td>\n",
       "      <td>891.000000</td>\n",
       "      <td>891.000000</td>\n",
       "    </tr>\n",
       "    <tr>\n",
       "      <th>mean</th>\n",
       "      <td>446.000000</td>\n",
       "      <td>0.383838</td>\n",
       "      <td>2.308642</td>\n",
       "      <td>29.699118</td>\n",
       "      <td>0.523008</td>\n",
       "      <td>0.381594</td>\n",
       "      <td>32.204208</td>\n",
       "    </tr>\n",
       "    <tr>\n",
       "      <th>std</th>\n",
       "      <td>257.353842</td>\n",
       "      <td>0.486592</td>\n",
       "      <td>0.836071</td>\n",
       "      <td>14.526497</td>\n",
       "      <td>1.102743</td>\n",
       "      <td>0.806057</td>\n",
       "      <td>49.693429</td>\n",
       "    </tr>\n",
       "    <tr>\n",
       "      <th>min</th>\n",
       "      <td>1.000000</td>\n",
       "      <td>0.000000</td>\n",
       "      <td>1.000000</td>\n",
       "      <td>0.420000</td>\n",
       "      <td>0.000000</td>\n",
       "      <td>0.000000</td>\n",
       "      <td>0.000000</td>\n",
       "    </tr>\n",
       "    <tr>\n",
       "      <th>25%</th>\n",
       "      <td>223.500000</td>\n",
       "      <td>0.000000</td>\n",
       "      <td>2.000000</td>\n",
       "      <td>20.125000</td>\n",
       "      <td>0.000000</td>\n",
       "      <td>0.000000</td>\n",
       "      <td>7.910400</td>\n",
       "    </tr>\n",
       "    <tr>\n",
       "      <th>50%</th>\n",
       "      <td>446.000000</td>\n",
       "      <td>0.000000</td>\n",
       "      <td>3.000000</td>\n",
       "      <td>28.000000</td>\n",
       "      <td>0.000000</td>\n",
       "      <td>0.000000</td>\n",
       "      <td>14.454200</td>\n",
       "    </tr>\n",
       "    <tr>\n",
       "      <th>75%</th>\n",
       "      <td>668.500000</td>\n",
       "      <td>1.000000</td>\n",
       "      <td>3.000000</td>\n",
       "      <td>38.000000</td>\n",
       "      <td>1.000000</td>\n",
       "      <td>0.000000</td>\n",
       "      <td>31.000000</td>\n",
       "    </tr>\n",
       "    <tr>\n",
       "      <th>max</th>\n",
       "      <td>891.000000</td>\n",
       "      <td>1.000000</td>\n",
       "      <td>3.000000</td>\n",
       "      <td>80.000000</td>\n",
       "      <td>8.000000</td>\n",
       "      <td>6.000000</td>\n",
       "      <td>512.329200</td>\n",
       "    </tr>\n",
       "  </tbody>\n",
       "</table>\n",
       "</div>"
      ],
      "text/plain": [
       "       PassengerId    Survived      Pclass         Age       SibSp  \\\n",
       "count   891.000000  891.000000  891.000000  714.000000  891.000000   \n",
       "mean    446.000000    0.383838    2.308642   29.699118    0.523008   \n",
       "std     257.353842    0.486592    0.836071   14.526497    1.102743   \n",
       "min       1.000000    0.000000    1.000000    0.420000    0.000000   \n",
       "25%     223.500000    0.000000    2.000000   20.125000    0.000000   \n",
       "50%     446.000000    0.000000    3.000000   28.000000    0.000000   \n",
       "75%     668.500000    1.000000    3.000000   38.000000    1.000000   \n",
       "max     891.000000    1.000000    3.000000   80.000000    8.000000   \n",
       "\n",
       "            Parch        Fare  \n",
       "count  891.000000  891.000000  \n",
       "mean     0.381594   32.204208  \n",
       "std      0.806057   49.693429  \n",
       "min      0.000000    0.000000  \n",
       "25%      0.000000    7.910400  \n",
       "50%      0.000000   14.454200  \n",
       "75%      0.000000   31.000000  \n",
       "max      6.000000  512.329200  "
      ]
     },
     "execution_count": 8,
     "metadata": {},
     "output_type": "execute_result"
    }
   ],
   "source": [
    "df.describe()"
   ]
  },
  {
   "cell_type": "markdown",
   "id": "b0139e0e",
   "metadata": {
    "papermill": {
     "duration": 0.005585,
     "end_time": "2022-07-14T17:31:50.753029",
     "exception": false,
     "start_time": "2022-07-14T17:31:50.747444",
     "status": "completed"
    },
    "tags": []
   },
   "source": [
    "# Are there duplicate values?"
   ]
  },
  {
   "cell_type": "code",
   "execution_count": 9,
   "id": "214e1ad1",
   "metadata": {
    "execution": {
     "iopub.execute_input": "2022-07-14T17:31:50.767244Z",
     "iopub.status.busy": "2022-07-14T17:31:50.766442Z",
     "iopub.status.idle": "2022-07-14T17:31:50.778751Z",
     "shell.execute_reply": "2022-07-14T17:31:50.777697Z"
    },
    "papermill": {
     "duration": 0.021989,
     "end_time": "2022-07-14T17:31:50.781015",
     "exception": false,
     "start_time": "2022-07-14T17:31:50.759026",
     "status": "completed"
    },
    "tags": []
   },
   "outputs": [
    {
     "data": {
      "text/plain": [
       "0"
      ]
     },
     "execution_count": 9,
     "metadata": {},
     "output_type": "execute_result"
    }
   ],
   "source": [
    "df.duplicated().sum()"
   ]
  },
  {
   "cell_type": "markdown",
   "id": "3db90d44",
   "metadata": {
    "papermill": {
     "duration": 0.005706,
     "end_time": "2022-07-14T17:31:50.792698",
     "exception": false,
     "start_time": "2022-07-14T17:31:50.786992",
     "status": "completed"
    },
    "tags": []
   },
   "source": [
    "# How is the correlection between columns?"
   ]
  },
  {
   "cell_type": "code",
   "execution_count": 10,
   "id": "a8cedeab",
   "metadata": {
    "execution": {
     "iopub.execute_input": "2022-07-14T17:31:50.807171Z",
     "iopub.status.busy": "2022-07-14T17:31:50.806361Z",
     "iopub.status.idle": "2022-07-14T17:31:50.824045Z",
     "shell.execute_reply": "2022-07-14T17:31:50.822854Z"
    },
    "papermill": {
     "duration": 0.027811,
     "end_time": "2022-07-14T17:31:50.826374",
     "exception": false,
     "start_time": "2022-07-14T17:31:50.798563",
     "status": "completed"
    },
    "tags": []
   },
   "outputs": [
    {
     "data": {
      "text/html": [
       "<div>\n",
       "<style scoped>\n",
       "    .dataframe tbody tr th:only-of-type {\n",
       "        vertical-align: middle;\n",
       "    }\n",
       "\n",
       "    .dataframe tbody tr th {\n",
       "        vertical-align: top;\n",
       "    }\n",
       "\n",
       "    .dataframe thead th {\n",
       "        text-align: right;\n",
       "    }\n",
       "</style>\n",
       "<table border=\"1\" class=\"dataframe\">\n",
       "  <thead>\n",
       "    <tr style=\"text-align: right;\">\n",
       "      <th></th>\n",
       "      <th>PassengerId</th>\n",
       "      <th>Survived</th>\n",
       "      <th>Pclass</th>\n",
       "      <th>Age</th>\n",
       "      <th>SibSp</th>\n",
       "      <th>Parch</th>\n",
       "      <th>Fare</th>\n",
       "    </tr>\n",
       "  </thead>\n",
       "  <tbody>\n",
       "    <tr>\n",
       "      <th>PassengerId</th>\n",
       "      <td>1.000000</td>\n",
       "      <td>-0.005007</td>\n",
       "      <td>-0.035144</td>\n",
       "      <td>0.036847</td>\n",
       "      <td>-0.057527</td>\n",
       "      <td>-0.001652</td>\n",
       "      <td>0.012658</td>\n",
       "    </tr>\n",
       "    <tr>\n",
       "      <th>Survived</th>\n",
       "      <td>-0.005007</td>\n",
       "      <td>1.000000</td>\n",
       "      <td>-0.338481</td>\n",
       "      <td>-0.077221</td>\n",
       "      <td>-0.035322</td>\n",
       "      <td>0.081629</td>\n",
       "      <td>0.257307</td>\n",
       "    </tr>\n",
       "    <tr>\n",
       "      <th>Pclass</th>\n",
       "      <td>-0.035144</td>\n",
       "      <td>-0.338481</td>\n",
       "      <td>1.000000</td>\n",
       "      <td>-0.369226</td>\n",
       "      <td>0.083081</td>\n",
       "      <td>0.018443</td>\n",
       "      <td>-0.549500</td>\n",
       "    </tr>\n",
       "    <tr>\n",
       "      <th>Age</th>\n",
       "      <td>0.036847</td>\n",
       "      <td>-0.077221</td>\n",
       "      <td>-0.369226</td>\n",
       "      <td>1.000000</td>\n",
       "      <td>-0.308247</td>\n",
       "      <td>-0.189119</td>\n",
       "      <td>0.096067</td>\n",
       "    </tr>\n",
       "    <tr>\n",
       "      <th>SibSp</th>\n",
       "      <td>-0.057527</td>\n",
       "      <td>-0.035322</td>\n",
       "      <td>0.083081</td>\n",
       "      <td>-0.308247</td>\n",
       "      <td>1.000000</td>\n",
       "      <td>0.414838</td>\n",
       "      <td>0.159651</td>\n",
       "    </tr>\n",
       "    <tr>\n",
       "      <th>Parch</th>\n",
       "      <td>-0.001652</td>\n",
       "      <td>0.081629</td>\n",
       "      <td>0.018443</td>\n",
       "      <td>-0.189119</td>\n",
       "      <td>0.414838</td>\n",
       "      <td>1.000000</td>\n",
       "      <td>0.216225</td>\n",
       "    </tr>\n",
       "    <tr>\n",
       "      <th>Fare</th>\n",
       "      <td>0.012658</td>\n",
       "      <td>0.257307</td>\n",
       "      <td>-0.549500</td>\n",
       "      <td>0.096067</td>\n",
       "      <td>0.159651</td>\n",
       "      <td>0.216225</td>\n",
       "      <td>1.000000</td>\n",
       "    </tr>\n",
       "  </tbody>\n",
       "</table>\n",
       "</div>"
      ],
      "text/plain": [
       "             PassengerId  Survived    Pclass       Age     SibSp     Parch  \\\n",
       "PassengerId     1.000000 -0.005007 -0.035144  0.036847 -0.057527 -0.001652   \n",
       "Survived       -0.005007  1.000000 -0.338481 -0.077221 -0.035322  0.081629   \n",
       "Pclass         -0.035144 -0.338481  1.000000 -0.369226  0.083081  0.018443   \n",
       "Age             0.036847 -0.077221 -0.369226  1.000000 -0.308247 -0.189119   \n",
       "SibSp          -0.057527 -0.035322  0.083081 -0.308247  1.000000  0.414838   \n",
       "Parch          -0.001652  0.081629  0.018443 -0.189119  0.414838  1.000000   \n",
       "Fare            0.012658  0.257307 -0.549500  0.096067  0.159651  0.216225   \n",
       "\n",
       "                 Fare  \n",
       "PassengerId  0.012658  \n",
       "Survived     0.257307  \n",
       "Pclass      -0.549500  \n",
       "Age          0.096067  \n",
       "SibSp        0.159651  \n",
       "Parch        0.216225  \n",
       "Fare         1.000000  "
      ]
     },
     "execution_count": 10,
     "metadata": {},
     "output_type": "execute_result"
    }
   ],
   "source": [
    "df.corr()"
   ]
  },
  {
   "cell_type": "code",
   "execution_count": null,
   "id": "44e50f6a",
   "metadata": {
    "papermill": {
     "duration": 0.006401,
     "end_time": "2022-07-14T17:31:50.839567",
     "exception": false,
     "start_time": "2022-07-14T17:31:50.833166",
     "status": "completed"
    },
    "tags": []
   },
   "outputs": [],
   "source": []
  }
 ],
 "metadata": {
  "kernelspec": {
   "display_name": "Python 3",
   "language": "python",
   "name": "python3"
  },
  "language_info": {
   "codemirror_mode": {
    "name": "ipython",
    "version": 3
   },
   "file_extension": ".py",
   "mimetype": "text/x-python",
   "name": "python",
   "nbconvert_exporter": "python",
   "pygments_lexer": "ipython3",
   "version": "3.7.12"
  },
  "papermill": {
   "default_parameters": {},
   "duration": 12.133085,
   "end_time": "2022-07-14T17:31:51.568216",
   "environment_variables": {},
   "exception": null,
   "input_path": "__notebook__.ipynb",
   "output_path": "__notebook__.ipynb",
   "parameters": {},
   "start_time": "2022-07-14T17:31:39.435131",
   "version": "2.3.4"
  }
 },
 "nbformat": 4,
 "nbformat_minor": 5
}
