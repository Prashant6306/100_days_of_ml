{
 "cells": [
  {
   "cell_type": "code",
   "execution_count": 1,
   "id": "e05d1987",
   "metadata": {
    "_cell_guid": "b1076dfc-b9ad-4769-8c92-a6c4dae69d19",
    "_uuid": "8f2839f25d086af736a60e9eeb907d3b93b6e0e5",
    "execution": {
     "iopub.execute_input": "2022-08-25T13:59:27.359344Z",
     "iopub.status.busy": "2022-08-25T13:59:27.358625Z",
     "iopub.status.idle": "2022-08-25T13:59:27.374969Z",
     "shell.execute_reply": "2022-08-25T13:59:27.374107Z"
    },
    "papermill": {
     "duration": 0.029747,
     "end_time": "2022-08-25T13:59:27.376738",
     "exception": false,
     "start_time": "2022-08-25T13:59:27.346991",
     "status": "completed"
    },
    "tags": []
   },
   "outputs": [
    {
     "name": "stdout",
     "output_type": "stream",
     "text": [
      "/kaggle/input/day20-1/train.csv\n"
     ]
    }
   ],
   "source": [
    "# This Python 3 environment comes with many helpful analytics libraries installed\n",
    "# It is defined by the kaggle/python Docker image: https://github.com/kaggle/docker-python\n",
    "# For example, here's several helpful packages to load\n",
    "\n",
    "import numpy as np # linear algebra\n",
    "import pandas as pd # data processing, CSV file I/O (e.g. pd.read_csv)\n",
    "\n",
    "# Input data files are available in the read-only \"../input/\" directory\n",
    "# For example, running this (by clicking run or pressing Shift+Enter) will list all files under the input directory\n",
    "\n",
    "import os\n",
    "for dirname, _, filenames in os.walk('/kaggle/input'):\n",
    "    for filename in filenames:\n",
    "        print(os.path.join(dirname, filename))\n",
    "\n",
    "# You can write up to 20GB to the current directory (/kaggle/working/) that gets preserved as output when you create a version using \"Save & Run All\" \n",
    "# You can also write temporary files to /kaggle/temp/, but they won't be saved outside of the current session"
   ]
  },
  {
   "cell_type": "code",
   "execution_count": 2,
   "id": "09433920",
   "metadata": {
    "execution": {
     "iopub.execute_input": "2022-08-25T13:59:27.396113Z",
     "iopub.status.busy": "2022-08-25T13:59:27.395573Z",
     "iopub.status.idle": "2022-08-25T13:59:28.415370Z",
     "shell.execute_reply": "2022-08-25T13:59:28.414731Z"
    },
    "papermill": {
     "duration": 1.031325,
     "end_time": "2022-08-25T13:59:28.417289",
     "exception": false,
     "start_time": "2022-08-25T13:59:27.385964",
     "status": "completed"
    },
    "tags": []
   },
   "outputs": [],
   "source": [
    "import pandas as pd\n",
    "import numpy as np\n",
    "import matplotlib.pyplot as plt\n",
    "from sklearn.model_selection import train_test_split\n",
    "from sklearn.tree import DecisionTreeClassifier\n",
    "from sklearn.metrics import accuracy_score\n",
    "from sklearn.model_selection import cross_val_score\n",
    "from sklearn.preprocessing import KBinsDiscretizer\n",
    "from sklearn.compose import ColumnTransformer"
   ]
  },
  {
   "cell_type": "code",
   "execution_count": 3,
   "id": "3eb3433f",
   "metadata": {
    "execution": {
     "iopub.execute_input": "2022-08-25T13:59:28.437078Z",
     "iopub.status.busy": "2022-08-25T13:59:28.436323Z",
     "iopub.status.idle": "2022-08-25T13:59:28.452947Z",
     "shell.execute_reply": "2022-08-25T13:59:28.452150Z"
    },
    "papermill": {
     "duration": 0.028343,
     "end_time": "2022-08-25T13:59:28.454884",
     "exception": false,
     "start_time": "2022-08-25T13:59:28.426541",
     "status": "completed"
    },
    "tags": []
   },
   "outputs": [],
   "source": [
    "df=pd.read_csv(\"/kaggle/input/day20-1/train.csv\",usecols=[\"Age\",\"Fare\",\"Survived\"])"
   ]
  },
  {
   "cell_type": "code",
   "execution_count": 4,
   "id": "ab3c1848",
   "metadata": {
    "execution": {
     "iopub.execute_input": "2022-08-25T13:59:28.475641Z",
     "iopub.status.busy": "2022-08-25T13:59:28.475102Z",
     "iopub.status.idle": "2022-08-25T13:59:28.485347Z",
     "shell.execute_reply": "2022-08-25T13:59:28.484820Z"
    },
    "papermill": {
     "duration": 0.022041,
     "end_time": "2022-08-25T13:59:28.487023",
     "exception": false,
     "start_time": "2022-08-25T13:59:28.464982",
     "status": "completed"
    },
    "tags": []
   },
   "outputs": [],
   "source": [
    "df.dropna(inplace=True)"
   ]
  },
  {
   "cell_type": "code",
   "execution_count": 5,
   "id": "debe6ff9",
   "metadata": {
    "execution": {
     "iopub.execute_input": "2022-08-25T13:59:28.506341Z",
     "iopub.status.busy": "2022-08-25T13:59:28.505893Z",
     "iopub.status.idle": "2022-08-25T13:59:28.511901Z",
     "shell.execute_reply": "2022-08-25T13:59:28.511352Z"
    },
    "papermill": {
     "duration": 0.017199,
     "end_time": "2022-08-25T13:59:28.513268",
     "exception": false,
     "start_time": "2022-08-25T13:59:28.496069",
     "status": "completed"
    },
    "tags": []
   },
   "outputs": [
    {
     "data": {
      "text/plain": [
       "(714, 3)"
      ]
     },
     "execution_count": 5,
     "metadata": {},
     "output_type": "execute_result"
    }
   ],
   "source": [
    "df.shape"
   ]
  },
  {
   "cell_type": "code",
   "execution_count": 6,
   "id": "faec4a92",
   "metadata": {
    "execution": {
     "iopub.execute_input": "2022-08-25T13:59:28.532500Z",
     "iopub.status.busy": "2022-08-25T13:59:28.531981Z",
     "iopub.status.idle": "2022-08-25T13:59:28.542048Z",
     "shell.execute_reply": "2022-08-25T13:59:28.541516Z"
    },
    "papermill": {
     "duration": 0.021097,
     "end_time": "2022-08-25T13:59:28.543425",
     "exception": false,
     "start_time": "2022-08-25T13:59:28.522328",
     "status": "completed"
    },
    "tags": []
   },
   "outputs": [
    {
     "data": {
      "text/html": [
       "<div>\n",
       "<style scoped>\n",
       "    .dataframe tbody tr th:only-of-type {\n",
       "        vertical-align: middle;\n",
       "    }\n",
       "\n",
       "    .dataframe tbody tr th {\n",
       "        vertical-align: top;\n",
       "    }\n",
       "\n",
       "    .dataframe thead th {\n",
       "        text-align: right;\n",
       "    }\n",
       "</style>\n",
       "<table border=\"1\" class=\"dataframe\">\n",
       "  <thead>\n",
       "    <tr style=\"text-align: right;\">\n",
       "      <th></th>\n",
       "      <th>Survived</th>\n",
       "      <th>Age</th>\n",
       "      <th>Fare</th>\n",
       "    </tr>\n",
       "  </thead>\n",
       "  <tbody>\n",
       "    <tr>\n",
       "      <th>0</th>\n",
       "      <td>0</td>\n",
       "      <td>22.0</td>\n",
       "      <td>7.2500</td>\n",
       "    </tr>\n",
       "    <tr>\n",
       "      <th>1</th>\n",
       "      <td>1</td>\n",
       "      <td>38.0</td>\n",
       "      <td>71.2833</td>\n",
       "    </tr>\n",
       "    <tr>\n",
       "      <th>2</th>\n",
       "      <td>1</td>\n",
       "      <td>26.0</td>\n",
       "      <td>7.9250</td>\n",
       "    </tr>\n",
       "    <tr>\n",
       "      <th>3</th>\n",
       "      <td>1</td>\n",
       "      <td>35.0</td>\n",
       "      <td>53.1000</td>\n",
       "    </tr>\n",
       "    <tr>\n",
       "      <th>4</th>\n",
       "      <td>0</td>\n",
       "      <td>35.0</td>\n",
       "      <td>8.0500</td>\n",
       "    </tr>\n",
       "  </tbody>\n",
       "</table>\n",
       "</div>"
      ],
      "text/plain": [
       "   Survived   Age     Fare\n",
       "0         0  22.0   7.2500\n",
       "1         1  38.0  71.2833\n",
       "2         1  26.0   7.9250\n",
       "3         1  35.0  53.1000\n",
       "4         0  35.0   8.0500"
      ]
     },
     "execution_count": 6,
     "metadata": {},
     "output_type": "execute_result"
    }
   ],
   "source": [
    "df.head()"
   ]
  },
  {
   "cell_type": "code",
   "execution_count": 7,
   "id": "082ebe7f",
   "metadata": {
    "execution": {
     "iopub.execute_input": "2022-08-25T13:59:28.563005Z",
     "iopub.status.busy": "2022-08-25T13:59:28.562461Z",
     "iopub.status.idle": "2022-08-25T13:59:28.566015Z",
     "shell.execute_reply": "2022-08-25T13:59:28.565501Z"
    },
    "papermill": {
     "duration": 0.014748,
     "end_time": "2022-08-25T13:59:28.567407",
     "exception": false,
     "start_time": "2022-08-25T13:59:28.552659",
     "status": "completed"
    },
    "tags": []
   },
   "outputs": [],
   "source": [
    "X=df.iloc[:,1:]\n",
    "y=df.iloc[:,0]"
   ]
  },
  {
   "cell_type": "code",
   "execution_count": 8,
   "id": "72e1763f",
   "metadata": {
    "execution": {
     "iopub.execute_input": "2022-08-25T13:59:28.587091Z",
     "iopub.status.busy": "2022-08-25T13:59:28.586400Z",
     "iopub.status.idle": "2022-08-25T13:59:28.591720Z",
     "shell.execute_reply": "2022-08-25T13:59:28.591016Z"
    },
    "papermill": {
     "duration": 0.016691,
     "end_time": "2022-08-25T13:59:28.593373",
     "exception": false,
     "start_time": "2022-08-25T13:59:28.576682",
     "status": "completed"
    },
    "tags": []
   },
   "outputs": [],
   "source": [
    "X_train,X_test,y_train,y_test=train_test_split(X,y,test_size=0.2,random_state=42)"
   ]
  },
  {
   "cell_type": "code",
   "execution_count": 9,
   "id": "1b958535",
   "metadata": {
    "execution": {
     "iopub.execute_input": "2022-08-25T13:59:28.612807Z",
     "iopub.status.busy": "2022-08-25T13:59:28.612577Z",
     "iopub.status.idle": "2022-08-25T13:59:28.620154Z",
     "shell.execute_reply": "2022-08-25T13:59:28.619535Z"
    },
    "papermill": {
     "duration": 0.019045,
     "end_time": "2022-08-25T13:59:28.621640",
     "exception": false,
     "start_time": "2022-08-25T13:59:28.602595",
     "status": "completed"
    },
    "tags": []
   },
   "outputs": [
    {
     "data": {
      "text/html": [
       "<div>\n",
       "<style scoped>\n",
       "    .dataframe tbody tr th:only-of-type {\n",
       "        vertical-align: middle;\n",
       "    }\n",
       "\n",
       "    .dataframe tbody tr th {\n",
       "        vertical-align: top;\n",
       "    }\n",
       "\n",
       "    .dataframe thead th {\n",
       "        text-align: right;\n",
       "    }\n",
       "</style>\n",
       "<table border=\"1\" class=\"dataframe\">\n",
       "  <thead>\n",
       "    <tr style=\"text-align: right;\">\n",
       "      <th></th>\n",
       "      <th>Age</th>\n",
       "      <th>Fare</th>\n",
       "    </tr>\n",
       "  </thead>\n",
       "  <tbody>\n",
       "    <tr>\n",
       "      <th>328</th>\n",
       "      <td>31.0</td>\n",
       "      <td>20.5250</td>\n",
       "    </tr>\n",
       "    <tr>\n",
       "      <th>73</th>\n",
       "      <td>26.0</td>\n",
       "      <td>14.4542</td>\n",
       "    </tr>\n",
       "    <tr>\n",
       "      <th>253</th>\n",
       "      <td>30.0</td>\n",
       "      <td>16.1000</td>\n",
       "    </tr>\n",
       "    <tr>\n",
       "      <th>719</th>\n",
       "      <td>33.0</td>\n",
       "      <td>7.7750</td>\n",
       "    </tr>\n",
       "    <tr>\n",
       "      <th>666</th>\n",
       "      <td>25.0</td>\n",
       "      <td>13.0000</td>\n",
       "    </tr>\n",
       "  </tbody>\n",
       "</table>\n",
       "</div>"
      ],
      "text/plain": [
       "      Age     Fare\n",
       "328  31.0  20.5250\n",
       "73   26.0  14.4542\n",
       "253  30.0  16.1000\n",
       "719  33.0   7.7750\n",
       "666  25.0  13.0000"
      ]
     },
     "execution_count": 9,
     "metadata": {},
     "output_type": "execute_result"
    }
   ],
   "source": [
    "X_train.head()"
   ]
  },
  {
   "cell_type": "code",
   "execution_count": 10,
   "id": "cb841b5e",
   "metadata": {
    "execution": {
     "iopub.execute_input": "2022-08-25T13:59:28.641918Z",
     "iopub.status.busy": "2022-08-25T13:59:28.641203Z",
     "iopub.status.idle": "2022-08-25T13:59:28.645172Z",
     "shell.execute_reply": "2022-08-25T13:59:28.644623Z"
    },
    "papermill": {
     "duration": 0.015825,
     "end_time": "2022-08-25T13:59:28.646775",
     "exception": false,
     "start_time": "2022-08-25T13:59:28.630950",
     "status": "completed"
    },
    "tags": []
   },
   "outputs": [],
   "source": [
    "clf=DecisionTreeClassifier()"
   ]
  },
  {
   "cell_type": "code",
   "execution_count": 11,
   "id": "e7fa18f0",
   "metadata": {
    "execution": {
     "iopub.execute_input": "2022-08-25T13:59:28.666631Z",
     "iopub.status.busy": "2022-08-25T13:59:28.666194Z",
     "iopub.status.idle": "2022-08-25T13:59:28.674191Z",
     "shell.execute_reply": "2022-08-25T13:59:28.673655Z"
    },
    "papermill": {
     "duration": 0.019766,
     "end_time": "2022-08-25T13:59:28.675925",
     "exception": false,
     "start_time": "2022-08-25T13:59:28.656159",
     "status": "completed"
    },
    "tags": []
   },
   "outputs": [],
   "source": [
    "clf.fit(X_train,y_train)\n",
    "y_pred=clf.predict(X_test)"
   ]
  },
  {
   "cell_type": "code",
   "execution_count": 12,
   "id": "c989d885",
   "metadata": {
    "execution": {
     "iopub.execute_input": "2022-08-25T13:59:28.696030Z",
     "iopub.status.busy": "2022-08-25T13:59:28.695641Z",
     "iopub.status.idle": "2022-08-25T13:59:28.700460Z",
     "shell.execute_reply": "2022-08-25T13:59:28.699752Z"
    },
    "papermill": {
     "duration": 0.016617,
     "end_time": "2022-08-25T13:59:28.702034",
     "exception": false,
     "start_time": "2022-08-25T13:59:28.685417",
     "status": "completed"
    },
    "tags": []
   },
   "outputs": [
    {
     "data": {
      "text/plain": [
       "0.6293706293706294"
      ]
     },
     "execution_count": 12,
     "metadata": {},
     "output_type": "execute_result"
    }
   ],
   "source": [
    "accuracy_score(y_pred,y_test)"
   ]
  },
  {
   "cell_type": "code",
   "execution_count": 13,
   "id": "a2a566e4",
   "metadata": {
    "execution": {
     "iopub.execute_input": "2022-08-25T13:59:28.721749Z",
     "iopub.status.busy": "2022-08-25T13:59:28.721469Z",
     "iopub.status.idle": "2022-08-25T13:59:28.769348Z",
     "shell.execute_reply": "2022-08-25T13:59:28.768707Z"
    },
    "papermill": {
     "duration": 0.060152,
     "end_time": "2022-08-25T13:59:28.771576",
     "exception": false,
     "start_time": "2022-08-25T13:59:28.711424",
     "status": "completed"
    },
    "tags": []
   },
   "outputs": [
    {
     "data": {
      "text/plain": [
       "0.6302816901408451"
      ]
     },
     "execution_count": 13,
     "metadata": {},
     "output_type": "execute_result"
    }
   ],
   "source": [
    "np.mean(cross_val_score(DecisionTreeClassifier(),X,y,cv=10,scoring=\"accuracy\"))"
   ]
  },
  {
   "cell_type": "code",
   "execution_count": 14,
   "id": "7be7e1d8",
   "metadata": {
    "execution": {
     "iopub.execute_input": "2022-08-25T13:59:28.793285Z",
     "iopub.status.busy": "2022-08-25T13:59:28.792970Z",
     "iopub.status.idle": "2022-08-25T13:59:28.797319Z",
     "shell.execute_reply": "2022-08-25T13:59:28.796465Z"
    },
    "papermill": {
     "duration": 0.016786,
     "end_time": "2022-08-25T13:59:28.799078",
     "exception": false,
     "start_time": "2022-08-25T13:59:28.782292",
     "status": "completed"
    },
    "tags": []
   },
   "outputs": [],
   "source": [
    "kbin_age=KBinsDiscretizer(n_bins=15,encode=\"ordinal\",strategy=\"quantile\")\n",
    "kbin_fare=KBinsDiscretizer(n_bins=15,encode=\"ordinal\",strategy=\"quantile\")  "
   ]
  },
  {
   "cell_type": "code",
   "execution_count": 15,
   "id": "9d778d1e",
   "metadata": {
    "execution": {
     "iopub.execute_input": "2022-08-25T13:59:28.819509Z",
     "iopub.status.busy": "2022-08-25T13:59:28.819211Z",
     "iopub.status.idle": "2022-08-25T13:59:28.823115Z",
     "shell.execute_reply": "2022-08-25T13:59:28.822297Z"
    },
    "papermill": {
     "duration": 0.016237,
     "end_time": "2022-08-25T13:59:28.825002",
     "exception": false,
     "start_time": "2022-08-25T13:59:28.808765",
     "status": "completed"
    },
    "tags": []
   },
   "outputs": [],
   "source": [
    "trf=ColumnTransformer([(\"first\",kbin_age,[0]),\n",
    "                      (\"second\",kbin_fare,[1])])"
   ]
  },
  {
   "cell_type": "code",
   "execution_count": 16,
   "id": "c8e93bc5",
   "metadata": {
    "execution": {
     "iopub.execute_input": "2022-08-25T13:59:28.846637Z",
     "iopub.status.busy": "2022-08-25T13:59:28.846289Z",
     "iopub.status.idle": "2022-08-25T13:59:28.851913Z",
     "shell.execute_reply": "2022-08-25T13:59:28.851008Z"
    },
    "papermill": {
     "duration": 0.018133,
     "end_time": "2022-08-25T13:59:28.853604",
     "exception": false,
     "start_time": "2022-08-25T13:59:28.835471",
     "status": "completed"
    },
    "tags": []
   },
   "outputs": [
    {
     "data": {
      "text/plain": [
       "\"output = pd.DataFrame({\\n    'age':X_train['Age'],\\n    'age_trf':X_train_trf[:,0],\\n    'fare':X_train['Fare'],\\n    'fare_trf':X_train_trf[:,1]\\n})\""
      ]
     },
     "execution_count": 16,
     "metadata": {},
     "output_type": "execute_result"
    }
   ],
   "source": [
    "\"\"\"output = pd.DataFrame({\n",
    "    'age':X_train['Age'],\n",
    "    'age_trf':X_train_trf[:,0],\n",
    "    'fare':X_train['Fare'],\n",
    "    'fare_trf':X_train_trf[:,1]\n",
    "})\"\"\""
   ]
  },
  {
   "cell_type": "code",
   "execution_count": 17,
   "id": "acedff87",
   "metadata": {
    "execution": {
     "iopub.execute_input": "2022-08-25T13:59:28.874357Z",
     "iopub.status.busy": "2022-08-25T13:59:28.874062Z",
     "iopub.status.idle": "2022-08-25T13:59:28.877199Z",
     "shell.execute_reply": "2022-08-25T13:59:28.876642Z"
    },
    "papermill": {
     "duration": 0.015367,
     "end_time": "2022-08-25T13:59:28.878656",
     "exception": false,
     "start_time": "2022-08-25T13:59:28.863289",
     "status": "completed"
    },
    "tags": []
   },
   "outputs": [],
   "source": [
    "#output['age_labels'] = pd.cut(x=X_train['Age'],\n",
    "                                    #bins=trf.named_transformers_['first'].bin_edges_[0].tolist())\n",
    "#output['fare_labels'] = pd.cut(x=X_train['Fare'],\n",
    "                                    #bins=trf.named_transformers_['second'].bin_edges_[0].tolist())"
   ]
  },
  {
   "cell_type": "code",
   "execution_count": 18,
   "id": "9d749913",
   "metadata": {
    "execution": {
     "iopub.execute_input": "2022-08-25T13:59:28.900064Z",
     "iopub.status.busy": "2022-08-25T13:59:28.899517Z",
     "iopub.status.idle": "2022-08-25T13:59:28.902630Z",
     "shell.execute_reply": "2022-08-25T13:59:28.902054Z"
    },
    "papermill": {
     "duration": 0.015584,
     "end_time": "2022-08-25T13:59:28.904048",
     "exception": false,
     "start_time": "2022-08-25T13:59:28.888464",
     "status": "completed"
    },
    "tags": []
   },
   "outputs": [],
   "source": [
    "#output.sample(5)"
   ]
  },
  {
   "cell_type": "code",
   "execution_count": 19,
   "id": "e22cc43c",
   "metadata": {
    "execution": {
     "iopub.execute_input": "2022-08-25T13:59:28.925172Z",
     "iopub.status.busy": "2022-08-25T13:59:28.924700Z",
     "iopub.status.idle": "2022-08-25T13:59:28.942411Z",
     "shell.execute_reply": "2022-08-25T13:59:28.941524Z"
    },
    "papermill": {
     "duration": 0.030224,
     "end_time": "2022-08-25T13:59:28.944021",
     "exception": false,
     "start_time": "2022-08-25T13:59:28.913797",
     "status": "completed"
    },
    "tags": []
   },
   "outputs": [],
   "source": [
    "X_train_trf=trf.fit_transform(X_train)\n",
    "X_test_trf=trf.fit_transform(X_test)"
   ]
  },
  {
   "cell_type": "code",
   "execution_count": 20,
   "id": "8eca8368",
   "metadata": {
    "execution": {
     "iopub.execute_input": "2022-08-25T13:59:28.965293Z",
     "iopub.status.busy": "2022-08-25T13:59:28.964880Z",
     "iopub.status.idle": "2022-08-25T13:59:28.971301Z",
     "shell.execute_reply": "2022-08-25T13:59:28.970772Z"
    },
    "papermill": {
     "duration": 0.018934,
     "end_time": "2022-08-25T13:59:28.972808",
     "exception": false,
     "start_time": "2022-08-25T13:59:28.953874",
     "status": "completed"
    },
    "tags": []
   },
   "outputs": [
    {
     "data": {
      "text/plain": [
       "{'first': KBinsDiscretizer(encode='ordinal', n_bins=15),\n",
       " 'second': KBinsDiscretizer(encode='ordinal', n_bins=15)}"
      ]
     },
     "execution_count": 20,
     "metadata": {},
     "output_type": "execute_result"
    }
   ],
   "source": [
    "trf.named_transformers_"
   ]
  },
  {
   "cell_type": "code",
   "execution_count": 21,
   "id": "bc225bce",
   "metadata": {
    "execution": {
     "iopub.execute_input": "2022-08-25T13:59:28.995622Z",
     "iopub.status.busy": "2022-08-25T13:59:28.995236Z",
     "iopub.status.idle": "2022-08-25T13:59:29.000747Z",
     "shell.execute_reply": "2022-08-25T13:59:28.999936Z"
    },
    "papermill": {
     "duration": 0.018595,
     "end_time": "2022-08-25T13:59:29.002513",
     "exception": false,
     "start_time": "2022-08-25T13:59:28.983918",
     "status": "completed"
    },
    "tags": []
   },
   "outputs": [
    {
     "data": {
      "text/plain": [
       "array([15])"
      ]
     },
     "execution_count": 21,
     "metadata": {},
     "output_type": "execute_result"
    }
   ],
   "source": [
    "trf.named_transformers_[\"second\"].n_bins_"
   ]
  },
  {
   "cell_type": "code",
   "execution_count": 22,
   "id": "9f62dc13",
   "metadata": {
    "execution": {
     "iopub.execute_input": "2022-08-25T13:59:29.025190Z",
     "iopub.status.busy": "2022-08-25T13:59:29.024744Z",
     "iopub.status.idle": "2022-08-25T13:59:29.030769Z",
     "shell.execute_reply": "2022-08-25T13:59:29.030097Z"
    },
    "papermill": {
     "duration": 0.019264,
     "end_time": "2022-08-25T13:59:29.032241",
     "exception": false,
     "start_time": "2022-08-25T13:59:29.012977",
     "status": "completed"
    },
    "tags": []
   },
   "outputs": [
    {
     "data": {
      "text/plain": [
       "array([array([  0.        ,   7.17166667,   7.77333333,   7.925     ,\n",
       "                8.05      ,   9.5       ,  10.5       ,  13.        ,\n",
       "               17.69333333,  22.62      ,  26.35276667,  31.275     ,\n",
       "               38.1       ,  53.22666667,  79.27666667, 512.3292    ])],\n",
       "      dtype=object)"
      ]
     },
     "execution_count": 22,
     "metadata": {},
     "output_type": "execute_result"
    }
   ],
   "source": [
    "trf.named_transformers_[\"second\"].bin_edges_"
   ]
  },
  {
   "cell_type": "code",
   "execution_count": 23,
   "id": "d6c80cb1",
   "metadata": {
    "execution": {
     "iopub.execute_input": "2022-08-25T13:59:29.053836Z",
     "iopub.status.busy": "2022-08-25T13:59:29.053293Z",
     "iopub.status.idle": "2022-08-25T13:59:29.057931Z",
     "shell.execute_reply": "2022-08-25T13:59:29.057350Z"
    },
    "papermill": {
     "duration": 0.017153,
     "end_time": "2022-08-25T13:59:29.059383",
     "exception": false,
     "start_time": "2022-08-25T13:59:29.042230",
     "status": "completed"
    },
    "tags": []
   },
   "outputs": [],
   "source": [
    "clf=DecisionTreeClassifier()\n",
    "clf.fit(X_train_trf,y_train)\n",
    "y_pred2=clf.predict(X_test_trf)"
   ]
  },
  {
   "cell_type": "code",
   "execution_count": 24,
   "id": "97f62ffc",
   "metadata": {
    "execution": {
     "iopub.execute_input": "2022-08-25T13:59:29.080691Z",
     "iopub.status.busy": "2022-08-25T13:59:29.080289Z",
     "iopub.status.idle": "2022-08-25T13:59:29.085389Z",
     "shell.execute_reply": "2022-08-25T13:59:29.084767Z"
    },
    "papermill": {
     "duration": 0.017439,
     "end_time": "2022-08-25T13:59:29.086870",
     "exception": false,
     "start_time": "2022-08-25T13:59:29.069431",
     "status": "completed"
    },
    "tags": []
   },
   "outputs": [
    {
     "data": {
      "text/plain": [
       "0.6503496503496503"
      ]
     },
     "execution_count": 24,
     "metadata": {},
     "output_type": "execute_result"
    }
   ],
   "source": [
    "accuracy_score(y_test,y_pred2)"
   ]
  },
  {
   "cell_type": "code",
   "execution_count": 25,
   "id": "c9f267da",
   "metadata": {
    "execution": {
     "iopub.execute_input": "2022-08-25T13:59:29.108303Z",
     "iopub.status.busy": "2022-08-25T13:59:29.107843Z",
     "iopub.status.idle": "2022-08-25T13:59:29.116009Z",
     "shell.execute_reply": "2022-08-25T13:59:29.115302Z"
    },
    "papermill": {
     "duration": 0.020872,
     "end_time": "2022-08-25T13:59:29.117768",
     "exception": false,
     "start_time": "2022-08-25T13:59:29.096896",
     "status": "completed"
    },
    "tags": []
   },
   "outputs": [],
   "source": [
    "def discretize(bins,strategy):\n",
    "    kbin_age = KBinsDiscretizer(n_bins=bins,encode='ordinal',strategy=strategy)\n",
    "    kbin_fare = KBinsDiscretizer(n_bins=bins,encode='ordinal',strategy=strategy)\n",
    "    \n",
    "    trf = ColumnTransformer([\n",
    "        ('first',kbin_age,[0]),\n",
    "        ('second',kbin_fare,[1])\n",
    "    ])\n",
    "    \n",
    "    X_trf = trf.fit_transform(X)\n",
    "    print(np.mean(cross_val_score(DecisionTreeClassifier(),X,y,cv=10,scoring='accuracy')))\n",
    "    \n",
    "    plt.figure(figsize=(14,4))\n",
    "    plt.subplot(121)\n",
    "    plt.hist(X['Age'])\n",
    "    plt.title(\"Before\")\n",
    "\n",
    "    plt.subplot(122)\n",
    "    plt.hist(X_trf[:,0],color='red')\n",
    "    plt.title(\"After\")\n",
    "\n",
    "    plt.show()\n",
    "    \n",
    "    plt.figure(figsize=(14,4))\n",
    "    plt.subplot(121)\n",
    "    plt.hist(X['Fare'])\n",
    "    plt.title(\"Before\")\n",
    "\n",
    "    plt.subplot(122)\n",
    "    plt.hist(X_trf[:,1],color='red')\n",
    "    plt.title(\"Fare\")\n",
    "\n",
    "    plt.show()"
   ]
  },
  {
   "cell_type": "code",
   "execution_count": 26,
   "id": "f5f0cb73",
   "metadata": {
    "execution": {
     "iopub.execute_input": "2022-08-25T13:59:29.139294Z",
     "iopub.status.busy": "2022-08-25T13:59:29.138811Z",
     "iopub.status.idle": "2022-08-25T13:59:29.893262Z",
     "shell.execute_reply": "2022-08-25T13:59:29.892329Z"
    },
    "papermill": {
     "duration": 0.767491,
     "end_time": "2022-08-25T13:59:29.895289",
     "exception": false,
     "start_time": "2022-08-25T13:59:29.127798",
     "status": "completed"
    },
    "tags": []
   },
   "outputs": [
    {
     "name": "stdout",
     "output_type": "stream",
     "text": [
      "0.6331181533646322\n"
     ]
    },
    {
     "data": {
      "image/png": "[encoded data removed]",
      "text/plain": [
       "<Figure size 1008x288 with 2 Axes>"
      ]
     },
     "metadata": {
      "needs_background": "light"
     },
     "output_type": "display_data"
    },
    {
     "data": {
      "image/png": "[encoded data removed]",
      "text/plain": [
       "<Figure size 1008x288 with 2 Axes>"
      ]
     },
     "metadata": {
      "needs_background": "light"
     },
     "output_type": "display_data"
    }
   ],
   "source": [
    "discretize(5,'kmeans')"
   ]
  },
  {
   "cell_type": "markdown",
   "id": "9ddee684",
   "metadata": {
    "papermill": {
     "duration": 0.010261,
     "end_time": "2022-08-25T13:59:29.916393",
     "exception": false,
     "start_time": "2022-08-25T13:59:29.906132",
     "status": "completed"
    },
    "tags": []
   },
   "source": [
    "# Custom based Binning"
   ]
  },
  {
   "cell_type": "markdown",
   "id": "c0f0ff66",
   "metadata": {
    "papermill": {
     "duration": 0.010254,
     "end_time": "2022-08-25T13:59:29.937072",
     "exception": false,
     "start_time": "2022-08-25T13:59:29.926818",
     "status": "completed"
    },
    "tags": []
   },
   "source": [
    "# Binarization"
   ]
  },
  {
   "cell_type": "code",
   "execution_count": 27,
   "id": "39de1649",
   "metadata": {
    "execution": {
     "iopub.execute_input": "2022-08-25T13:59:29.959424Z",
     "iopub.status.busy": "2022-08-25T13:59:29.958743Z",
     "iopub.status.idle": "2022-08-25T13:59:29.966082Z",
     "shell.execute_reply": "2022-08-25T13:59:29.965522Z"
    },
    "papermill": {
     "duration": 0.020305,
     "end_time": "2022-08-25T13:59:29.967720",
     "exception": false,
     "start_time": "2022-08-25T13:59:29.947415",
     "status": "completed"
    },
    "tags": []
   },
   "outputs": [],
   "source": [
    "df=pd.read_csv(\"/kaggle/input/day20-1/train.csv\",usecols=[\"Age\",\"Fare\",\"SibSp\",\"Parch\",\"Survived\"])"
   ]
  },
  {
   "cell_type": "code",
   "execution_count": 28,
   "id": "9b4e1f7c",
   "metadata": {
    "execution": {
     "iopub.execute_input": "2022-08-25T13:59:29.991698Z",
     "iopub.status.busy": "2022-08-25T13:59:29.990821Z",
     "iopub.status.idle": "2022-08-25T13:59:29.997115Z",
     "shell.execute_reply": "2022-08-25T13:59:29.996527Z"
    },
    "papermill": {
     "duration": 0.020505,
     "end_time": "2022-08-25T13:59:29.998825",
     "exception": false,
     "start_time": "2022-08-25T13:59:29.978320",
     "status": "completed"
    },
    "tags": []
   },
   "outputs": [],
   "source": [
    "df.dropna(inplace=True)"
   ]
  },
  {
   "cell_type": "code",
   "execution_count": 29,
   "id": "486fda5b",
   "metadata": {
    "execution": {
     "iopub.execute_input": "2022-08-25T13:59:30.022137Z",
     "iopub.status.busy": "2022-08-25T13:59:30.021591Z",
     "iopub.status.idle": "2022-08-25T13:59:30.031379Z",
     "shell.execute_reply": "2022-08-25T13:59:30.030741Z"
    },
    "papermill": {
     "duration": 0.023134,
     "end_time": "2022-08-25T13:59:30.033040",
     "exception": false,
     "start_time": "2022-08-25T13:59:30.009906",
     "status": "completed"
    },
    "tags": []
   },
   "outputs": [
    {
     "data": {
      "text/html": [
       "<div>\n",
       "<style scoped>\n",
       "    .dataframe tbody tr th:only-of-type {\n",
       "        vertical-align: middle;\n",
       "    }\n",
       "\n",
       "    .dataframe tbody tr th {\n",
       "        vertical-align: top;\n",
       "    }\n",
       "\n",
       "    .dataframe thead th {\n",
       "        text-align: right;\n",
       "    }\n",
       "</style>\n",
       "<table border=\"1\" class=\"dataframe\">\n",
       "  <thead>\n",
       "    <tr style=\"text-align: right;\">\n",
       "      <th></th>\n",
       "      <th>Survived</th>\n",
       "      <th>Age</th>\n",
       "      <th>SibSp</th>\n",
       "      <th>Parch</th>\n",
       "      <th>Fare</th>\n",
       "    </tr>\n",
       "  </thead>\n",
       "  <tbody>\n",
       "    <tr>\n",
       "      <th>0</th>\n",
       "      <td>0</td>\n",
       "      <td>22.0</td>\n",
       "      <td>1</td>\n",
       "      <td>0</td>\n",
       "      <td>7.2500</td>\n",
       "    </tr>\n",
       "    <tr>\n",
       "      <th>1</th>\n",
       "      <td>1</td>\n",
       "      <td>38.0</td>\n",
       "      <td>1</td>\n",
       "      <td>0</td>\n",
       "      <td>71.2833</td>\n",
       "    </tr>\n",
       "    <tr>\n",
       "      <th>2</th>\n",
       "      <td>1</td>\n",
       "      <td>26.0</td>\n",
       "      <td>0</td>\n",
       "      <td>0</td>\n",
       "      <td>7.9250</td>\n",
       "    </tr>\n",
       "    <tr>\n",
       "      <th>3</th>\n",
       "      <td>1</td>\n",
       "      <td>35.0</td>\n",
       "      <td>1</td>\n",
       "      <td>0</td>\n",
       "      <td>53.1000</td>\n",
       "    </tr>\n",
       "    <tr>\n",
       "      <th>4</th>\n",
       "      <td>0</td>\n",
       "      <td>35.0</td>\n",
       "      <td>0</td>\n",
       "      <td>0</td>\n",
       "      <td>8.0500</td>\n",
       "    </tr>\n",
       "  </tbody>\n",
       "</table>\n",
       "</div>"
      ],
      "text/plain": [
       "   Survived   Age  SibSp  Parch     Fare\n",
       "0         0  22.0      1      0   7.2500\n",
       "1         1  38.0      1      0  71.2833\n",
       "2         1  26.0      0      0   7.9250\n",
       "3         1  35.0      1      0  53.1000\n",
       "4         0  35.0      0      0   8.0500"
      ]
     },
     "execution_count": 29,
     "metadata": {},
     "output_type": "execute_result"
    }
   ],
   "source": [
    " df.head()"
   ]
  },
  {
   "cell_type": "code",
   "execution_count": 30,
   "id": "5d1d4ac3",
   "metadata": {
    "execution": {
     "iopub.execute_input": "2022-08-25T13:59:30.057042Z",
     "iopub.status.busy": "2022-08-25T13:59:30.056445Z",
     "iopub.status.idle": "2022-08-25T13:59:30.061749Z",
     "shell.execute_reply": "2022-08-25T13:59:30.060927Z"
    },
    "papermill": {
     "duration": 0.019182,
     "end_time": "2022-08-25T13:59:30.063693",
     "exception": false,
     "start_time": "2022-08-25T13:59:30.044511",
     "status": "completed"
    },
    "tags": []
   },
   "outputs": [],
   "source": [
    "df[\"Family\"]=df[\"SibSp\"]+df[\"Parch\"]"
   ]
  },
  {
   "cell_type": "code",
   "execution_count": 31,
   "id": "c5915e97",
   "metadata": {
    "execution": {
     "iopub.execute_input": "2022-08-25T13:59:30.087023Z",
     "iopub.status.busy": "2022-08-25T13:59:30.086532Z",
     "iopub.status.idle": "2022-08-25T13:59:30.096749Z",
     "shell.execute_reply": "2022-08-25T13:59:30.095948Z"
    },
    "papermill": {
     "duration": 0.023609,
     "end_time": "2022-08-25T13:59:30.098408",
     "exception": false,
     "start_time": "2022-08-25T13:59:30.074799",
     "status": "completed"
    },
    "tags": []
   },
   "outputs": [
    {
     "data": {
      "text/html": [
       "<div>\n",
       "<style scoped>\n",
       "    .dataframe tbody tr th:only-of-type {\n",
       "        vertical-align: middle;\n",
       "    }\n",
       "\n",
       "    .dataframe tbody tr th {\n",
       "        vertical-align: top;\n",
       "    }\n",
       "\n",
       "    .dataframe thead th {\n",
       "        text-align: right;\n",
       "    }\n",
       "</style>\n",
       "<table border=\"1\" class=\"dataframe\">\n",
       "  <thead>\n",
       "    <tr style=\"text-align: right;\">\n",
       "      <th></th>\n",
       "      <th>Survived</th>\n",
       "      <th>Age</th>\n",
       "      <th>SibSp</th>\n",
       "      <th>Parch</th>\n",
       "      <th>Fare</th>\n",
       "      <th>Family</th>\n",
       "    </tr>\n",
       "  </thead>\n",
       "  <tbody>\n",
       "    <tr>\n",
       "      <th>0</th>\n",
       "      <td>0</td>\n",
       "      <td>22.0</td>\n",
       "      <td>1</td>\n",
       "      <td>0</td>\n",
       "      <td>7.2500</td>\n",
       "      <td>1</td>\n",
       "    </tr>\n",
       "    <tr>\n",
       "      <th>1</th>\n",
       "      <td>1</td>\n",
       "      <td>38.0</td>\n",
       "      <td>1</td>\n",
       "      <td>0</td>\n",
       "      <td>71.2833</td>\n",
       "      <td>1</td>\n",
       "    </tr>\n",
       "    <tr>\n",
       "      <th>2</th>\n",
       "      <td>1</td>\n",
       "      <td>26.0</td>\n",
       "      <td>0</td>\n",
       "      <td>0</td>\n",
       "      <td>7.9250</td>\n",
       "      <td>0</td>\n",
       "    </tr>\n",
       "    <tr>\n",
       "      <th>3</th>\n",
       "      <td>1</td>\n",
       "      <td>35.0</td>\n",
       "      <td>1</td>\n",
       "      <td>0</td>\n",
       "      <td>53.1000</td>\n",
       "      <td>1</td>\n",
       "    </tr>\n",
       "    <tr>\n",
       "      <th>4</th>\n",
       "      <td>0</td>\n",
       "      <td>35.0</td>\n",
       "      <td>0</td>\n",
       "      <td>0</td>\n",
       "      <td>8.0500</td>\n",
       "      <td>0</td>\n",
       "    </tr>\n",
       "  </tbody>\n",
       "</table>\n",
       "</div>"
      ],
      "text/plain": [
       "   Survived   Age  SibSp  Parch     Fare  Family\n",
       "0         0  22.0      1      0   7.2500       1\n",
       "1         1  38.0      1      0  71.2833       1\n",
       "2         1  26.0      0      0   7.9250       0\n",
       "3         1  35.0      1      0  53.1000       1\n",
       "4         0  35.0      0      0   8.0500       0"
      ]
     },
     "execution_count": 31,
     "metadata": {},
     "output_type": "execute_result"
    }
   ],
   "source": [
    "df.head()"
   ]
  },
  {
   "cell_type": "code",
   "execution_count": 32,
   "id": "f87df809",
   "metadata": {
    "execution": {
     "iopub.execute_input": "2022-08-25T13:59:30.121077Z",
     "iopub.status.busy": "2022-08-25T13:59:30.120823Z",
     "iopub.status.idle": "2022-08-25T13:59:30.126184Z",
     "shell.execute_reply": "2022-08-25T13:59:30.125614Z"
    },
    "papermill": {
     "duration": 0.018439,
     "end_time": "2022-08-25T13:59:30.127650",
     "exception": false,
     "start_time": "2022-08-25T13:59:30.109211",
     "status": "completed"
    },
    "tags": []
   },
   "outputs": [],
   "source": [
    "df.drop(columns=[\"SibSp\",\"Parch\"],inplace=True)"
   ]
  },
  {
   "cell_type": "code",
   "execution_count": 33,
   "id": "3e7f2b15",
   "metadata": {
    "execution": {
     "iopub.execute_input": "2022-08-25T13:59:30.150613Z",
     "iopub.status.busy": "2022-08-25T13:59:30.149901Z",
     "iopub.status.idle": "2022-08-25T13:59:30.159310Z",
     "shell.execute_reply": "2022-08-25T13:59:30.158652Z"
    },
    "papermill": {
     "duration": 0.022545,
     "end_time": "2022-08-25T13:59:30.160988",
     "exception": false,
     "start_time": "2022-08-25T13:59:30.138443",
     "status": "completed"
    },
    "tags": []
   },
   "outputs": [
    {
     "data": {
      "text/html": [
       "<div>\n",
       "<style scoped>\n",
       "    .dataframe tbody tr th:only-of-type {\n",
       "        vertical-align: middle;\n",
       "    }\n",
       "\n",
       "    .dataframe tbody tr th {\n",
       "        vertical-align: top;\n",
       "    }\n",
       "\n",
       "    .dataframe thead th {\n",
       "        text-align: right;\n",
       "    }\n",
       "</style>\n",
       "<table border=\"1\" class=\"dataframe\">\n",
       "  <thead>\n",
       "    <tr style=\"text-align: right;\">\n",
       "      <th></th>\n",
       "      <th>Survived</th>\n",
       "      <th>Age</th>\n",
       "      <th>Fare</th>\n",
       "      <th>Family</th>\n",
       "    </tr>\n",
       "  </thead>\n",
       "  <tbody>\n",
       "    <tr>\n",
       "      <th>0</th>\n",
       "      <td>0</td>\n",
       "      <td>22.0</td>\n",
       "      <td>7.2500</td>\n",
       "      <td>1</td>\n",
       "    </tr>\n",
       "    <tr>\n",
       "      <th>1</th>\n",
       "      <td>1</td>\n",
       "      <td>38.0</td>\n",
       "      <td>71.2833</td>\n",
       "      <td>1</td>\n",
       "    </tr>\n",
       "    <tr>\n",
       "      <th>2</th>\n",
       "      <td>1</td>\n",
       "      <td>26.0</td>\n",
       "      <td>7.9250</td>\n",
       "      <td>0</td>\n",
       "    </tr>\n",
       "    <tr>\n",
       "      <th>3</th>\n",
       "      <td>1</td>\n",
       "      <td>35.0</td>\n",
       "      <td>53.1000</td>\n",
       "      <td>1</td>\n",
       "    </tr>\n",
       "    <tr>\n",
       "      <th>4</th>\n",
       "      <td>0</td>\n",
       "      <td>35.0</td>\n",
       "      <td>8.0500</td>\n",
       "      <td>0</td>\n",
       "    </tr>\n",
       "  </tbody>\n",
       "</table>\n",
       "</div>"
      ],
      "text/plain": [
       "   Survived   Age     Fare  Family\n",
       "0         0  22.0   7.2500       1\n",
       "1         1  38.0  71.2833       1\n",
       "2         1  26.0   7.9250       0\n",
       "3         1  35.0  53.1000       1\n",
       "4         0  35.0   8.0500       0"
      ]
     },
     "execution_count": 33,
     "metadata": {},
     "output_type": "execute_result"
    }
   ],
   "source": [
    "df.head()"
   ]
  },
  {
   "cell_type": "code",
   "execution_count": 34,
   "id": "6814f7be",
   "metadata": {
    "execution": {
     "iopub.execute_input": "2022-08-25T13:59:30.185006Z",
     "iopub.status.busy": "2022-08-25T13:59:30.184232Z",
     "iopub.status.idle": "2022-08-25T13:59:30.188988Z",
     "shell.execute_reply": "2022-08-25T13:59:30.188191Z"
    },
    "papermill": {
     "duration": 0.018089,
     "end_time": "2022-08-25T13:59:30.190516",
     "exception": false,
     "start_time": "2022-08-25T13:59:30.172427",
     "status": "completed"
    },
    "tags": []
   },
   "outputs": [],
   "source": [
    "X=df.drop(columns=[\"Survived\"])\n",
    "y=df[\"Survived\"]"
   ]
  },
  {
   "cell_type": "code",
   "execution_count": 35,
   "id": "23ca16f2",
   "metadata": {
    "execution": {
     "iopub.execute_input": "2022-08-25T13:59:30.213539Z",
     "iopub.status.busy": "2022-08-25T13:59:30.212914Z",
     "iopub.status.idle": "2022-08-25T13:59:30.217400Z",
     "shell.execute_reply": "2022-08-25T13:59:30.216867Z"
    },
    "papermill": {
     "duration": 0.017696,
     "end_time": "2022-08-25T13:59:30.219068",
     "exception": false,
     "start_time": "2022-08-25T13:59:30.201372",
     "status": "completed"
    },
    "tags": []
   },
   "outputs": [],
   "source": [
    "X_train,X_test,y_train,y_test=train_test_split(X,y,test_size=0.2,random_state=42)"
   ]
  },
  {
   "cell_type": "code",
   "execution_count": 36,
   "id": "12c3e3a0",
   "metadata": {
    "execution": {
     "iopub.execute_input": "2022-08-25T13:59:30.242015Z",
     "iopub.status.busy": "2022-08-25T13:59:30.241433Z",
     "iopub.status.idle": "2022-08-25T13:59:30.250159Z",
     "shell.execute_reply": "2022-08-25T13:59:30.249528Z"
    },
    "papermill": {
     "duration": 0.021665,
     "end_time": "2022-08-25T13:59:30.251600",
     "exception": false,
     "start_time": "2022-08-25T13:59:30.229935",
     "status": "completed"
    },
    "tags": []
   },
   "outputs": [
    {
     "data": {
      "text/html": [
       "<div>\n",
       "<style scoped>\n",
       "    .dataframe tbody tr th:only-of-type {\n",
       "        vertical-align: middle;\n",
       "    }\n",
       "\n",
       "    .dataframe tbody tr th {\n",
       "        vertical-align: top;\n",
       "    }\n",
       "\n",
       "    .dataframe thead th {\n",
       "        text-align: right;\n",
       "    }\n",
       "</style>\n",
       "<table border=\"1\" class=\"dataframe\">\n",
       "  <thead>\n",
       "    <tr style=\"text-align: right;\">\n",
       "      <th></th>\n",
       "      <th>Age</th>\n",
       "      <th>Fare</th>\n",
       "      <th>Family</th>\n",
       "    </tr>\n",
       "  </thead>\n",
       "  <tbody>\n",
       "    <tr>\n",
       "      <th>328</th>\n",
       "      <td>31.0</td>\n",
       "      <td>20.5250</td>\n",
       "      <td>2</td>\n",
       "    </tr>\n",
       "    <tr>\n",
       "      <th>73</th>\n",
       "      <td>26.0</td>\n",
       "      <td>14.4542</td>\n",
       "      <td>1</td>\n",
       "    </tr>\n",
       "    <tr>\n",
       "      <th>253</th>\n",
       "      <td>30.0</td>\n",
       "      <td>16.1000</td>\n",
       "      <td>1</td>\n",
       "    </tr>\n",
       "    <tr>\n",
       "      <th>719</th>\n",
       "      <td>33.0</td>\n",
       "      <td>7.7750</td>\n",
       "      <td>0</td>\n",
       "    </tr>\n",
       "    <tr>\n",
       "      <th>666</th>\n",
       "      <td>25.0</td>\n",
       "      <td>13.0000</td>\n",
       "      <td>0</td>\n",
       "    </tr>\n",
       "  </tbody>\n",
       "</table>\n",
       "</div>"
      ],
      "text/plain": [
       "      Age     Fare  Family\n",
       "328  31.0  20.5250       2\n",
       "73   26.0  14.4542       1\n",
       "253  30.0  16.1000       1\n",
       "719  33.0   7.7750       0\n",
       "666  25.0  13.0000       0"
      ]
     },
     "execution_count": 36,
     "metadata": {},
     "output_type": "execute_result"
    }
   ],
   "source": [
    "X_train.head()"
   ]
  },
  {
   "cell_type": "code",
   "execution_count": 37,
   "id": "cac5a197",
   "metadata": {
    "execution": {
     "iopub.execute_input": "2022-08-25T13:59:30.274772Z",
     "iopub.status.busy": "2022-08-25T13:59:30.274290Z",
     "iopub.status.idle": "2022-08-25T13:59:30.283375Z",
     "shell.execute_reply": "2022-08-25T13:59:30.282819Z"
    },
    "papermill": {
     "duration": 0.022271,
     "end_time": "2022-08-25T13:59:30.284821",
     "exception": false,
     "start_time": "2022-08-25T13:59:30.262550",
     "status": "completed"
    },
    "tags": []
   },
   "outputs": [
    {
     "data": {
      "text/plain": [
       "0.6223776223776224"
      ]
     },
     "execution_count": 37,
     "metadata": {},
     "output_type": "execute_result"
    }
   ],
   "source": [
    "clf=DecisionTreeClassifier()\n",
    "clf.fit(X_train,y_train)\n",
    "y_pred=clf.predict(X_test)\n",
    "accuracy_score(y_test,y_pred)"
   ]
  },
  {
   "cell_type": "code",
   "execution_count": 38,
   "id": "0327c62d",
   "metadata": {
    "execution": {
     "iopub.execute_input": "2022-08-25T13:59:30.308348Z",
     "iopub.status.busy": "2022-08-25T13:59:30.307817Z",
     "iopub.status.idle": "2022-08-25T13:59:30.357467Z",
     "shell.execute_reply": "2022-08-25T13:59:30.356704Z"
    },
    "papermill": {
     "duration": 0.063348,
     "end_time": "2022-08-25T13:59:30.359193",
     "exception": false,
     "start_time": "2022-08-25T13:59:30.295845",
     "status": "completed"
    },
    "tags": []
   },
   "outputs": [
    {
     "data": {
      "text/plain": [
       "0.6443075117370892"
      ]
     },
     "execution_count": 38,
     "metadata": {},
     "output_type": "execute_result"
    }
   ],
   "source": [
    "np.mean(cross_val_score(DecisionTreeClassifier(),X,y,cv=10,scoring=\"accuracy\"))"
   ]
  },
  {
   "cell_type": "code",
   "execution_count": 39,
   "id": "21eb7980",
   "metadata": {
    "execution": {
     "iopub.execute_input": "2022-08-25T13:59:30.382939Z",
     "iopub.status.busy": "2022-08-25T13:59:30.382693Z",
     "iopub.status.idle": "2022-08-25T13:59:30.386052Z",
     "shell.execute_reply": "2022-08-25T13:59:30.385258Z"
    },
    "papermill": {
     "duration": 0.016843,
     "end_time": "2022-08-25T13:59:30.387561",
     "exception": false,
     "start_time": "2022-08-25T13:59:30.370718",
     "status": "completed"
    },
    "tags": []
   },
   "outputs": [],
   "source": [
    "from sklearn.preprocessing import Binarizer"
   ]
  },
  {
   "cell_type": "code",
   "execution_count": 40,
   "id": "423bc400",
   "metadata": {
    "execution": {
     "iopub.execute_input": "2022-08-25T13:59:30.410913Z",
     "iopub.status.busy": "2022-08-25T13:59:30.410473Z",
     "iopub.status.idle": "2022-08-25T13:59:30.413976Z",
     "shell.execute_reply": "2022-08-25T13:59:30.413223Z"
    },
    "papermill": {
     "duration": 0.016719,
     "end_time": "2022-08-25T13:59:30.415410",
     "exception": false,
     "start_time": "2022-08-25T13:59:30.398691",
     "status": "completed"
    },
    "tags": []
   },
   "outputs": [],
   "source": [
    "trf=ColumnTransformer([(\"Bin\",Binarizer(copy=False),[\"Family\"])],remainder=\"passthrough\")"
   ]
  },
  {
   "cell_type": "code",
   "execution_count": 41,
   "id": "c1a1425f",
   "metadata": {
    "execution": {
     "iopub.execute_input": "2022-08-25T13:59:30.438764Z",
     "iopub.status.busy": "2022-08-25T13:59:30.438325Z",
     "iopub.status.idle": "2022-08-25T13:59:30.448021Z",
     "shell.execute_reply": "2022-08-25T13:59:30.447451Z"
    },
    "papermill": {
     "duration": 0.023106,
     "end_time": "2022-08-25T13:59:30.449644",
     "exception": false,
     "start_time": "2022-08-25T13:59:30.426538",
     "status": "completed"
    },
    "tags": []
   },
   "outputs": [],
   "source": [
    "X_train_trf=trf.fit_transform(X_train)\n",
    "X_test_trf=trf.fit_transform(X_test)"
   ]
  },
  {
   "cell_type": "code",
   "execution_count": 42,
   "id": "a13c9e69",
   "metadata": {
    "execution": {
     "iopub.execute_input": "2022-08-25T13:59:30.473041Z",
     "iopub.status.busy": "2022-08-25T13:59:30.472473Z",
     "iopub.status.idle": "2022-08-25T13:59:30.483256Z",
     "shell.execute_reply": "2022-08-25T13:59:30.482728Z"
    },
    "papermill": {
     "duration": 0.023902,
     "end_time": "2022-08-25T13:59:30.484670",
     "exception": false,
     "start_time": "2022-08-25T13:59:30.460768",
     "status": "completed"
    },
    "tags": []
   },
   "outputs": [
    {
     "data": {
      "text/html": [
       "<div>\n",
       "<style scoped>\n",
       "    .dataframe tbody tr th:only-of-type {\n",
       "        vertical-align: middle;\n",
       "    }\n",
       "\n",
       "    .dataframe tbody tr th {\n",
       "        vertical-align: top;\n",
       "    }\n",
       "\n",
       "    .dataframe thead th {\n",
       "        text-align: right;\n",
       "    }\n",
       "</style>\n",
       "<table border=\"1\" class=\"dataframe\">\n",
       "  <thead>\n",
       "    <tr style=\"text-align: right;\">\n",
       "      <th></th>\n",
       "      <th>Family</th>\n",
       "      <th>Age</th>\n",
       "      <th>Fare</th>\n",
       "    </tr>\n",
       "  </thead>\n",
       "  <tbody>\n",
       "    <tr>\n",
       "      <th>0</th>\n",
       "      <td>1.0</td>\n",
       "      <td>31.0</td>\n",
       "      <td>20.5250</td>\n",
       "    </tr>\n",
       "    <tr>\n",
       "      <th>1</th>\n",
       "      <td>1.0</td>\n",
       "      <td>26.0</td>\n",
       "      <td>14.4542</td>\n",
       "    </tr>\n",
       "    <tr>\n",
       "      <th>2</th>\n",
       "      <td>1.0</td>\n",
       "      <td>30.0</td>\n",
       "      <td>16.1000</td>\n",
       "    </tr>\n",
       "    <tr>\n",
       "      <th>3</th>\n",
       "      <td>0.0</td>\n",
       "      <td>33.0</td>\n",
       "      <td>7.7750</td>\n",
       "    </tr>\n",
       "    <tr>\n",
       "      <th>4</th>\n",
       "      <td>0.0</td>\n",
       "      <td>25.0</td>\n",
       "      <td>13.0000</td>\n",
       "    </tr>\n",
       "    <tr>\n",
       "      <th>...</th>\n",
       "      <td>...</td>\n",
       "      <td>...</td>\n",
       "      <td>...</td>\n",
       "    </tr>\n",
       "    <tr>\n",
       "      <th>566</th>\n",
       "      <td>1.0</td>\n",
       "      <td>46.0</td>\n",
       "      <td>61.1750</td>\n",
       "    </tr>\n",
       "    <tr>\n",
       "      <th>567</th>\n",
       "      <td>0.0</td>\n",
       "      <td>25.0</td>\n",
       "      <td>13.0000</td>\n",
       "    </tr>\n",
       "    <tr>\n",
       "      <th>568</th>\n",
       "      <td>0.0</td>\n",
       "      <td>41.0</td>\n",
       "      <td>134.5000</td>\n",
       "    </tr>\n",
       "    <tr>\n",
       "      <th>569</th>\n",
       "      <td>1.0</td>\n",
       "      <td>33.0</td>\n",
       "      <td>20.5250</td>\n",
       "    </tr>\n",
       "    <tr>\n",
       "      <th>570</th>\n",
       "      <td>0.0</td>\n",
       "      <td>33.0</td>\n",
       "      <td>7.8958</td>\n",
       "    </tr>\n",
       "  </tbody>\n",
       "</table>\n",
       "<p>571 rows × 3 columns</p>\n",
       "</div>"
      ],
      "text/plain": [
       "     Family   Age      Fare\n",
       "0       1.0  31.0   20.5250\n",
       "1       1.0  26.0   14.4542\n",
       "2       1.0  30.0   16.1000\n",
       "3       0.0  33.0    7.7750\n",
       "4       0.0  25.0   13.0000\n",
       "..      ...   ...       ...\n",
       "566     1.0  46.0   61.1750\n",
       "567     0.0  25.0   13.0000\n",
       "568     0.0  41.0  134.5000\n",
       "569     1.0  33.0   20.5250\n",
       "570     0.0  33.0    7.8958\n",
       "\n",
       "[571 rows x 3 columns]"
      ]
     },
     "execution_count": 42,
     "metadata": {},
     "output_type": "execute_result"
    }
   ],
   "source": [
    "pd.DataFrame(X_train_trf,columns=[\"Family\",\"Age\",\"Fare\"])"
   ]
  },
  {
   "cell_type": "code",
   "execution_count": 43,
   "id": "39c46fc5",
   "metadata": {
    "execution": {
     "iopub.execute_input": "2022-08-25T13:59:30.508353Z",
     "iopub.status.busy": "2022-08-25T13:59:30.507834Z",
     "iopub.status.idle": "2022-08-25T13:59:30.514356Z",
     "shell.execute_reply": "2022-08-25T13:59:30.513833Z"
    },
    "papermill": {
     "duration": 0.019833,
     "end_time": "2022-08-25T13:59:30.515757",
     "exception": false,
     "start_time": "2022-08-25T13:59:30.495924",
     "status": "completed"
    },
    "tags": []
   },
   "outputs": [
    {
     "data": {
      "text/plain": [
       "0.6363636363636364"
      ]
     },
     "execution_count": 43,
     "metadata": {},
     "output_type": "execute_result"
    }
   ],
   "source": [
    "clf = DecisionTreeClassifier()\n",
    "clf.fit(X_train_trf,y_train)\n",
    "y_pred2 = clf.predict(X_test_trf)\n",
    "\n",
    "accuracy_score(y_test,y_pred2)"
   ]
  },
  {
   "cell_type": "code",
   "execution_count": 44,
   "id": "8dbfcb94",
   "metadata": {
    "execution": {
     "iopub.execute_input": "2022-08-25T13:59:30.539553Z",
     "iopub.status.busy": "2022-08-25T13:59:30.539145Z",
     "iopub.status.idle": "2022-08-25T13:59:30.571110Z",
     "shell.execute_reply": "2022-08-25T13:59:30.570116Z"
    },
    "papermill": {
     "duration": 0.046306,
     "end_time": "2022-08-25T13:59:30.573350",
     "exception": false,
     "start_time": "2022-08-25T13:59:30.527044",
     "status": "completed"
    },
    "tags": []
   },
   "outputs": [
    {
     "data": {
      "text/plain": [
       "0.6317683881064162"
      ]
     },
     "execution_count": 44,
     "metadata": {},
     "output_type": "execute_result"
    }
   ],
   "source": [
    "X_trf = trf.fit_transform(X)\n",
    "np.mean(cross_val_score(DecisionTreeClassifier(),X_trf,y,cv=10,scoring='accuracy'))"
   ]
  },
  {
   "cell_type": "code",
   "execution_count": null,
   "id": "18262961",
   "metadata": {
    "papermill": {
     "duration": 0.012121,
     "end_time": "2022-08-25T13:59:30.600015",
     "exception": false,
     "start_time": "2022-08-25T13:59:30.587894",
     "status": "completed"
    },
    "tags": []
   },
   "outputs": [],
   "source": []
  },
  {
   "cell_type": "code",
   "execution_count": null,
   "id": "2b219831",
   "metadata": {
    "papermill": {
     "duration": 0.011642,
     "end_time": "2022-08-25T13:59:30.626192",
     "exception": false,
     "start_time": "2022-08-25T13:59:30.614550",
     "status": "completed"
    },
    "tags": []
   },
   "outputs": [],
   "source": []
  },
  {
   "cell_type": "code",
   "execution_count": null,
   "id": "808be011",
   "metadata": {
    "papermill": {
     "duration": 0.011427,
     "end_time": "2022-08-25T13:59:30.649423",
     "exception": false,
     "start_time": "2022-08-25T13:59:30.637996",
     "status": "completed"
    },
    "tags": []
   },
   "outputs": [],
   "source": []
  }
 ],
 "metadata": {
  "kernelspec": {
   "display_name": "Python 3",
   "language": "python",
   "name": "python3"
  },
  "language_info": {
   "codemirror_mode": {
    "name": "ipython",
    "version": 3
   },
   "file_extension": ".py",
   "mimetype": "text/x-python",
   "name": "python",
   "nbconvert_exporter": "python",
   "pygments_lexer": "ipython3",
   "version": "3.7.12"
  },
  "papermill": {
   "default_parameters": {},
   "duration": 10.859283,
   "end_time": "2022-08-25T13:59:31.279036",
   "environment_variables": {},
   "exception": null,
   "input_path": "__notebook__.ipynb",
   "output_path": "__notebook__.ipynb",
   "parameters": {},
   "start_time": "2022-08-25T13:59:20.419753",
   "version": "2.3.4"
  }
 },
 "nbformat": 4,
 "nbformat_minor": 5
}
