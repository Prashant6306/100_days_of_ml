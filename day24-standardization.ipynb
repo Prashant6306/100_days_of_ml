{
 "cells": [
  {
   "cell_type": "code",
   "execution_count": 1,
   "id": "b86797dc",
   "metadata": {
    "_cell_guid": "b1076dfc-b9ad-4769-8c92-a6c4dae69d19",
    "_uuid": "8f2839f25d086af736a60e9eeb907d3b93b6e0e5",
    "execution": {
     "iopub.execute_input": "2022-07-17T13:04:49.916191Z",
     "iopub.status.busy": "2022-07-17T13:04:49.914523Z",
     "iopub.status.idle": "2022-07-17T13:04:49.935891Z",
     "shell.execute_reply": "2022-07-17T13:04:49.934670Z"
    },
    "papermill": {
     "duration": 0.038767,
     "end_time": "2022-07-17T13:04:49.938620",
     "exception": false,
     "start_time": "2022-07-17T13:04:49.899853",
     "status": "completed"
    },
    "tags": []
   },
   "outputs": [
    {
     "name": "stdout",
     "output_type": "stream",
     "text": [
      "/kaggle/input/day24standardization/Social_Network_Ads.csv\n"
     ]
    }
   ],
   "source": [
    "# This Python 3 environment comes with many helpful analytics libraries installed\n",
    "# It is defined by the kaggle/python Docker image: https://github.com/kaggle/docker-python\n",
    "# For example, here's several helpful packages to load\n",
    "\n",
    "import numpy as np # linear algebra\n",
    "import pandas as pd # data processing, CSV file I/O (e.g. pd.read_csv)\n",
    "\n",
    "# Input data files are available in the read-only \"../input/\" directory\n",
    "# For example, running this (by clicking run or pressing Shift+Enter) will list all files under the input directory\n",
    "\n",
    "import os\n",
    "for dirname, _, filenames in os.walk('/kaggle/input'):\n",
    "    for filename in filenames:\n",
    "        print(os.path.join(dirname, filename))\n",
    "\n",
    "# You can write up to 20GB to the current directory (/kaggle/working/) that gets preserved as output when you create a version using \"Save & Run All\" \n",
    "# You can also write temporary files to /kaggle/temp/, but they won't be saved outside of the current session"
   ]
  },
  {
   "cell_type": "code",
   "execution_count": 2,
   "id": "f6653f65",
   "metadata": {
    "execution": {
     "iopub.execute_input": "2022-07-17T13:04:49.963612Z",
     "iopub.status.busy": "2022-07-17T13:04:49.963239Z",
     "iopub.status.idle": "2022-07-17T13:04:51.226731Z",
     "shell.execute_reply": "2022-07-17T13:04:51.225711Z"
    },
    "papermill": {
     "duration": 1.278867,
     "end_time": "2022-07-17T13:04:51.229293",
     "exception": false,
     "start_time": "2022-07-17T13:04:49.950426",
     "status": "completed"
    },
    "tags": []
   },
   "outputs": [],
   "source": [
    "import numpy as np\n",
    "import pandas as pd\n",
    "import matplotlib.pyplot as plt\n",
    "import seaborn as sns"
   ]
  },
  {
   "cell_type": "code",
   "execution_count": 3,
   "id": "352822a0",
   "metadata": {
    "execution": {
     "iopub.execute_input": "2022-07-17T13:04:51.254884Z",
     "iopub.status.busy": "2022-07-17T13:04:51.254286Z",
     "iopub.status.idle": "2022-07-17T13:04:51.267844Z",
     "shell.execute_reply": "2022-07-17T13:04:51.266669Z"
    },
    "papermill": {
     "duration": 0.028982,
     "end_time": "2022-07-17T13:04:51.270269",
     "exception": false,
     "start_time": "2022-07-17T13:04:51.241287",
     "status": "completed"
    },
    "tags": []
   },
   "outputs": [],
   "source": [
    "df=pd.read_csv(\"/kaggle/input/day24standardization/Social_Network_Ads.csv\")"
   ]
  },
  {
   "cell_type": "code",
   "execution_count": 4,
   "id": "43a48b86",
   "metadata": {
    "execution": {
     "iopub.execute_input": "2022-07-17T13:04:51.295400Z",
     "iopub.status.busy": "2022-07-17T13:04:51.294752Z",
     "iopub.status.idle": "2022-07-17T13:04:51.302681Z",
     "shell.execute_reply": "2022-07-17T13:04:51.301641Z"
    },
    "papermill": {
     "duration": 0.023088,
     "end_time": "2022-07-17T13:04:51.304953",
     "exception": false,
     "start_time": "2022-07-17T13:04:51.281865",
     "status": "completed"
    },
    "tags": []
   },
   "outputs": [
    {
     "data": {
      "text/plain": [
       "(400, 5)"
      ]
     },
     "execution_count": 4,
     "metadata": {},
     "output_type": "execute_result"
    }
   ],
   "source": [
    "df.shape"
   ]
  },
  {
   "cell_type": "code",
   "execution_count": 5,
   "id": "0d2ef428",
   "metadata": {
    "execution": {
     "iopub.execute_input": "2022-07-17T13:04:51.331894Z",
     "iopub.status.busy": "2022-07-17T13:04:51.330891Z",
     "iopub.status.idle": "2022-07-17T13:04:51.351945Z",
     "shell.execute_reply": "2022-07-17T13:04:51.350764Z"
    },
    "papermill": {
     "duration": 0.037177,
     "end_time": "2022-07-17T13:04:51.354311",
     "exception": false,
     "start_time": "2022-07-17T13:04:51.317134",
     "status": "completed"
    },
    "tags": []
   },
   "outputs": [
    {
     "data": {
      "text/html": [
       "<div>\n",
       "<style scoped>\n",
       "    .dataframe tbody tr th:only-of-type {\n",
       "        vertical-align: middle;\n",
       "    }\n",
       "\n",
       "    .dataframe tbody tr th {\n",
       "        vertical-align: top;\n",
       "    }\n",
       "\n",
       "    .dataframe thead th {\n",
       "        text-align: right;\n",
       "    }\n",
       "</style>\n",
       "<table border=\"1\" class=\"dataframe\">\n",
       "  <thead>\n",
       "    <tr style=\"text-align: right;\">\n",
       "      <th></th>\n",
       "      <th>User ID</th>\n",
       "      <th>Gender</th>\n",
       "      <th>Age</th>\n",
       "      <th>EstimatedSalary</th>\n",
       "      <th>Purchased</th>\n",
       "    </tr>\n",
       "  </thead>\n",
       "  <tbody>\n",
       "    <tr>\n",
       "      <th>262</th>\n",
       "      <td>15672821</td>\n",
       "      <td>Female</td>\n",
       "      <td>55</td>\n",
       "      <td>125000</td>\n",
       "      <td>1</td>\n",
       "    </tr>\n",
       "    <tr>\n",
       "      <th>126</th>\n",
       "      <td>15610801</td>\n",
       "      <td>Male</td>\n",
       "      <td>42</td>\n",
       "      <td>65000</td>\n",
       "      <td>0</td>\n",
       "    </tr>\n",
       "    <tr>\n",
       "      <th>179</th>\n",
       "      <td>15673367</td>\n",
       "      <td>Female</td>\n",
       "      <td>31</td>\n",
       "      <td>34000</td>\n",
       "      <td>0</td>\n",
       "    </tr>\n",
       "    <tr>\n",
       "      <th>381</th>\n",
       "      <td>15670615</td>\n",
       "      <td>Male</td>\n",
       "      <td>48</td>\n",
       "      <td>33000</td>\n",
       "      <td>1</td>\n",
       "    </tr>\n",
       "    <tr>\n",
       "      <th>16</th>\n",
       "      <td>15733883</td>\n",
       "      <td>Male</td>\n",
       "      <td>47</td>\n",
       "      <td>25000</td>\n",
       "      <td>1</td>\n",
       "    </tr>\n",
       "  </tbody>\n",
       "</table>\n",
       "</div>"
      ],
      "text/plain": [
       "      User ID  Gender  Age  EstimatedSalary  Purchased\n",
       "262  15672821  Female   55           125000          1\n",
       "126  15610801    Male   42            65000          0\n",
       "179  15673367  Female   31            34000          0\n",
       "381  15670615    Male   48            33000          1\n",
       "16   15733883    Male   47            25000          1"
      ]
     },
     "execution_count": 5,
     "metadata": {},
     "output_type": "execute_result"
    }
   ],
   "source": [
    "df.sample(5)"
   ]
  },
  {
   "cell_type": "code",
   "execution_count": 6,
   "id": "9bd52091",
   "metadata": {
    "execution": {
     "iopub.execute_input": "2022-07-17T13:04:51.380916Z",
     "iopub.status.busy": "2022-07-17T13:04:51.380134Z",
     "iopub.status.idle": "2022-07-17T13:04:51.389434Z",
     "shell.execute_reply": "2022-07-17T13:04:51.388498Z"
    },
    "papermill": {
     "duration": 0.025009,
     "end_time": "2022-07-17T13:04:51.391737",
     "exception": false,
     "start_time": "2022-07-17T13:04:51.366728",
     "status": "completed"
    },
    "tags": []
   },
   "outputs": [],
   "source": [
    "df1=df.drop([\"User ID\",\t\"Gender\"],axis=1)"
   ]
  },
  {
   "cell_type": "code",
   "execution_count": 7,
   "id": "b619f3f9",
   "metadata": {
    "execution": {
     "iopub.execute_input": "2022-07-17T13:04:51.418499Z",
     "iopub.status.busy": "2022-07-17T13:04:51.417892Z",
     "iopub.status.idle": "2022-07-17T13:04:51.428448Z",
     "shell.execute_reply": "2022-07-17T13:04:51.427476Z"
    },
    "papermill": {
     "duration": 0.02634,
     "end_time": "2022-07-17T13:04:51.430609",
     "exception": false,
     "start_time": "2022-07-17T13:04:51.404269",
     "status": "completed"
    },
    "tags": []
   },
   "outputs": [
    {
     "data": {
      "text/html": [
       "<div>\n",
       "<style scoped>\n",
       "    .dataframe tbody tr th:only-of-type {\n",
       "        vertical-align: middle;\n",
       "    }\n",
       "\n",
       "    .dataframe tbody tr th {\n",
       "        vertical-align: top;\n",
       "    }\n",
       "\n",
       "    .dataframe thead th {\n",
       "        text-align: right;\n",
       "    }\n",
       "</style>\n",
       "<table border=\"1\" class=\"dataframe\">\n",
       "  <thead>\n",
       "    <tr style=\"text-align: right;\">\n",
       "      <th></th>\n",
       "      <th>Age</th>\n",
       "      <th>EstimatedSalary</th>\n",
       "      <th>Purchased</th>\n",
       "    </tr>\n",
       "  </thead>\n",
       "  <tbody>\n",
       "    <tr>\n",
       "      <th>16</th>\n",
       "      <td>47</td>\n",
       "      <td>25000</td>\n",
       "      <td>1</td>\n",
       "    </tr>\n",
       "    <tr>\n",
       "      <th>155</th>\n",
       "      <td>31</td>\n",
       "      <td>15000</td>\n",
       "      <td>0</td>\n",
       "    </tr>\n",
       "    <tr>\n",
       "      <th>230</th>\n",
       "      <td>35</td>\n",
       "      <td>147000</td>\n",
       "      <td>1</td>\n",
       "    </tr>\n",
       "    <tr>\n",
       "      <th>200</th>\n",
       "      <td>35</td>\n",
       "      <td>39000</td>\n",
       "      <td>0</td>\n",
       "    </tr>\n",
       "    <tr>\n",
       "      <th>391</th>\n",
       "      <td>47</td>\n",
       "      <td>23000</td>\n",
       "      <td>1</td>\n",
       "    </tr>\n",
       "  </tbody>\n",
       "</table>\n",
       "</div>"
      ],
      "text/plain": [
       "     Age  EstimatedSalary  Purchased\n",
       "16    47            25000          1\n",
       "155   31            15000          0\n",
       "230   35           147000          1\n",
       "200   35            39000          0\n",
       "391   47            23000          1"
      ]
     },
     "execution_count": 7,
     "metadata": {},
     "output_type": "execute_result"
    }
   ],
   "source": [
    "df1.sample(5)"
   ]
  },
  {
   "cell_type": "markdown",
   "id": "b88c504d",
   "metadata": {
    "papermill": {
     "duration": 0.012036,
     "end_time": "2022-07-17T13:04:51.454473",
     "exception": false,
     "start_time": "2022-07-17T13:04:51.442437",
     "status": "completed"
    },
    "tags": []
   },
   "source": [
    "# Train-Test Split"
   ]
  },
  {
   "cell_type": "code",
   "execution_count": 8,
   "id": "d96e11d0",
   "metadata": {
    "execution": {
     "iopub.execute_input": "2022-07-17T13:04:51.480954Z",
     "iopub.status.busy": "2022-07-17T13:04:51.480214Z",
     "iopub.status.idle": "2022-07-17T13:04:51.706232Z",
     "shell.execute_reply": "2022-07-17T13:04:51.705047Z"
    },
    "papermill": {
     "duration": 0.242345,
     "end_time": "2022-07-17T13:04:51.709036",
     "exception": false,
     "start_time": "2022-07-17T13:04:51.466691",
     "status": "completed"
    },
    "tags": []
   },
   "outputs": [],
   "source": [
    "from sklearn.model_selection import train_test_split\n",
    "\n",
    "X_train,X_test,y_train,y_test=train_test_split(df1.drop([\"Purchased\"],axis=1),df[\"Purchased\"],test_size=0.3,random_state=0)"
   ]
  },
  {
   "cell_type": "code",
   "execution_count": 9,
   "id": "32e062c3",
   "metadata": {
    "execution": {
     "iopub.execute_input": "2022-07-17T13:04:51.735426Z",
     "iopub.status.busy": "2022-07-17T13:04:51.735046Z",
     "iopub.status.idle": "2022-07-17T13:04:51.742344Z",
     "shell.execute_reply": "2022-07-17T13:04:51.741200Z"
    },
    "papermill": {
     "duration": 0.023117,
     "end_time": "2022-07-17T13:04:51.744492",
     "exception": false,
     "start_time": "2022-07-17T13:04:51.721375",
     "status": "completed"
    },
    "tags": []
   },
   "outputs": [
    {
     "data": {
      "text/plain": [
       "((280, 2), (120, 2))"
      ]
     },
     "execution_count": 9,
     "metadata": {},
     "output_type": "execute_result"
    }
   ],
   "source": [
    "X_train.shape, X_test.shape"
   ]
  },
  {
   "cell_type": "markdown",
   "id": "b270ba03",
   "metadata": {
    "papermill": {
     "duration": 0.011838,
     "end_time": "2022-07-17T13:04:51.768840",
     "exception": false,
     "start_time": "2022-07-17T13:04:51.757002",
     "status": "completed"
    },
    "tags": []
   },
   "source": [
    "# StandardScaler"
   ]
  },
  {
   "cell_type": "code",
   "execution_count": 10,
   "id": "1f668b82",
   "metadata": {
    "execution": {
     "iopub.execute_input": "2022-07-17T13:04:51.795256Z",
     "iopub.status.busy": "2022-07-17T13:04:51.794128Z",
     "iopub.status.idle": "2022-07-17T13:04:51.803998Z",
     "shell.execute_reply": "2022-07-17T13:04:51.803223Z"
    },
    "papermill": {
     "duration": 0.025797,
     "end_time": "2022-07-17T13:04:51.806619",
     "exception": false,
     "start_time": "2022-07-17T13:04:51.780822",
     "status": "completed"
    },
    "tags": []
   },
   "outputs": [],
   "source": [
    "from sklearn.preprocessing import StandardScaler\n",
    "\n",
    "scaler=StandardScaler()\n",
    "scaler.fit(X_train)\n",
    "\n",
    "X_train_scaled=scaler.transform(X_train)\n",
    "X_test_scaled=scaler.transform(X_test)"
   ]
  },
  {
   "cell_type": "code",
   "execution_count": 11,
   "id": "bf040144",
   "metadata": {
    "execution": {
     "iopub.execute_input": "2022-07-17T13:04:51.834030Z",
     "iopub.status.busy": "2022-07-17T13:04:51.833441Z",
     "iopub.status.idle": "2022-07-17T13:04:51.838719Z",
     "shell.execute_reply": "2022-07-17T13:04:51.837896Z"
    },
    "papermill": {
     "duration": 0.021795,
     "end_time": "2022-07-17T13:04:51.840836",
     "exception": false,
     "start_time": "2022-07-17T13:04:51.819041",
     "status": "completed"
    },
    "tags": []
   },
   "outputs": [],
   "source": [
    "X_train_scaled=pd.DataFrame(X_train_scaled,columns=X_train.columns)\n",
    "X_test_scaled=pd.DataFrame(X_test_scaled,columns=X_test.columns)"
   ]
  },
  {
   "cell_type": "code",
   "execution_count": 12,
   "id": "5546f1a7",
   "metadata": {
    "execution": {
     "iopub.execute_input": "2022-07-17T13:04:51.866786Z",
     "iopub.status.busy": "2022-07-17T13:04:51.866396Z",
     "iopub.status.idle": "2022-07-17T13:04:51.892359Z",
     "shell.execute_reply": "2022-07-17T13:04:51.891489Z"
    },
    "papermill": {
     "duration": 0.041579,
     "end_time": "2022-07-17T13:04:51.894509",
     "exception": false,
     "start_time": "2022-07-17T13:04:51.852930",
     "status": "completed"
    },
    "tags": []
   },
   "outputs": [
    {
     "data": {
      "text/html": [
       "<div>\n",
       "<style scoped>\n",
       "    .dataframe tbody tr th:only-of-type {\n",
       "        vertical-align: middle;\n",
       "    }\n",
       "\n",
       "    .dataframe tbody tr th {\n",
       "        vertical-align: top;\n",
       "    }\n",
       "\n",
       "    .dataframe thead th {\n",
       "        text-align: right;\n",
       "    }\n",
       "</style>\n",
       "<table border=\"1\" class=\"dataframe\">\n",
       "  <thead>\n",
       "    <tr style=\"text-align: right;\">\n",
       "      <th></th>\n",
       "      <th>Age</th>\n",
       "      <th>EstimatedSalary</th>\n",
       "    </tr>\n",
       "  </thead>\n",
       "  <tbody>\n",
       "    <tr>\n",
       "      <th>count</th>\n",
       "      <td>280.0</td>\n",
       "      <td>280.0</td>\n",
       "    </tr>\n",
       "    <tr>\n",
       "      <th>mean</th>\n",
       "      <td>0.0</td>\n",
       "      <td>0.0</td>\n",
       "    </tr>\n",
       "    <tr>\n",
       "      <th>std</th>\n",
       "      <td>1.0</td>\n",
       "      <td>1.0</td>\n",
       "    </tr>\n",
       "    <tr>\n",
       "      <th>min</th>\n",
       "      <td>-2.0</td>\n",
       "      <td>-2.0</td>\n",
       "    </tr>\n",
       "    <tr>\n",
       "      <th>25%</th>\n",
       "      <td>-1.0</td>\n",
       "      <td>-1.0</td>\n",
       "    </tr>\n",
       "    <tr>\n",
       "      <th>50%</th>\n",
       "      <td>-0.0</td>\n",
       "      <td>0.0</td>\n",
       "    </tr>\n",
       "    <tr>\n",
       "      <th>75%</th>\n",
       "      <td>1.0</td>\n",
       "      <td>1.0</td>\n",
       "    </tr>\n",
       "    <tr>\n",
       "      <th>max</th>\n",
       "      <td>2.0</td>\n",
       "      <td>2.0</td>\n",
       "    </tr>\n",
       "  </tbody>\n",
       "</table>\n",
       "</div>"
      ],
      "text/plain": [
       "         Age  EstimatedSalary\n",
       "count  280.0            280.0\n",
       "mean     0.0              0.0\n",
       "std      1.0              1.0\n",
       "min     -2.0             -2.0\n",
       "25%     -1.0             -1.0\n",
       "50%     -0.0              0.0\n",
       "75%      1.0              1.0\n",
       "max      2.0              2.0"
      ]
     },
     "execution_count": 12,
     "metadata": {},
     "output_type": "execute_result"
    }
   ],
   "source": [
    "np.round(X_train_scaled.describe())"
   ]
  },
  {
   "cell_type": "code",
   "execution_count": 13,
   "id": "3354e756",
   "metadata": {
    "execution": {
     "iopub.execute_input": "2022-07-17T13:04:51.921903Z",
     "iopub.status.busy": "2022-07-17T13:04:51.921324Z",
     "iopub.status.idle": "2022-07-17T13:04:51.939483Z",
     "shell.execute_reply": "2022-07-17T13:04:51.938627Z"
    },
    "papermill": {
     "duration": 0.034343,
     "end_time": "2022-07-17T13:04:51.941798",
     "exception": false,
     "start_time": "2022-07-17T13:04:51.907455",
     "status": "completed"
    },
    "tags": []
   },
   "outputs": [
    {
     "data": {
      "text/html": [
       "<div>\n",
       "<style scoped>\n",
       "    .dataframe tbody tr th:only-of-type {\n",
       "        vertical-align: middle;\n",
       "    }\n",
       "\n",
       "    .dataframe tbody tr th {\n",
       "        vertical-align: top;\n",
       "    }\n",
       "\n",
       "    .dataframe thead th {\n",
       "        text-align: right;\n",
       "    }\n",
       "</style>\n",
       "<table border=\"1\" class=\"dataframe\">\n",
       "  <thead>\n",
       "    <tr style=\"text-align: right;\">\n",
       "      <th></th>\n",
       "      <th>Age</th>\n",
       "      <th>EstimatedSalary</th>\n",
       "    </tr>\n",
       "  </thead>\n",
       "  <tbody>\n",
       "    <tr>\n",
       "      <th>count</th>\n",
       "      <td>280.0</td>\n",
       "      <td>280.0</td>\n",
       "    </tr>\n",
       "    <tr>\n",
       "      <th>mean</th>\n",
       "      <td>38.0</td>\n",
       "      <td>69807.0</td>\n",
       "    </tr>\n",
       "    <tr>\n",
       "      <th>std</th>\n",
       "      <td>10.0</td>\n",
       "      <td>34641.0</td>\n",
       "    </tr>\n",
       "    <tr>\n",
       "      <th>min</th>\n",
       "      <td>18.0</td>\n",
       "      <td>15000.0</td>\n",
       "    </tr>\n",
       "    <tr>\n",
       "      <th>25%</th>\n",
       "      <td>30.0</td>\n",
       "      <td>43000.0</td>\n",
       "    </tr>\n",
       "    <tr>\n",
       "      <th>50%</th>\n",
       "      <td>37.0</td>\n",
       "      <td>70500.0</td>\n",
       "    </tr>\n",
       "    <tr>\n",
       "      <th>75%</th>\n",
       "      <td>46.0</td>\n",
       "      <td>88000.0</td>\n",
       "    </tr>\n",
       "    <tr>\n",
       "      <th>max</th>\n",
       "      <td>60.0</td>\n",
       "      <td>150000.0</td>\n",
       "    </tr>\n",
       "  </tbody>\n",
       "</table>\n",
       "</div>"
      ],
      "text/plain": [
       "         Age  EstimatedSalary\n",
       "count  280.0            280.0\n",
       "mean    38.0          69807.0\n",
       "std     10.0          34641.0\n",
       "min     18.0          15000.0\n",
       "25%     30.0          43000.0\n",
       "50%     37.0          70500.0\n",
       "75%     46.0          88000.0\n",
       "max     60.0         150000.0"
      ]
     },
     "execution_count": 13,
     "metadata": {},
     "output_type": "execute_result"
    }
   ],
   "source": [
    "np.round(X_train.describe())"
   ]
  },
  {
   "cell_type": "markdown",
   "id": "397a2c1c",
   "metadata": {
    "papermill": {
     "duration": 0.012295,
     "end_time": "2022-07-17T13:04:51.967109",
     "exception": false,
     "start_time": "2022-07-17T13:04:51.954814",
     "status": "completed"
    },
    "tags": []
   },
   "source": [
    "# Effect of Scaling"
   ]
  },
  {
   "cell_type": "code",
   "execution_count": 14,
   "id": "50f624a2",
   "metadata": {
    "execution": {
     "iopub.execute_input": "2022-07-17T13:04:51.996452Z",
     "iopub.status.busy": "2022-07-17T13:04:51.995817Z",
     "iopub.status.idle": "2022-07-17T13:04:52.368479Z",
     "shell.execute_reply": "2022-07-17T13:04:52.367340Z"
    },
    "papermill": {
     "duration": 0.39062,
     "end_time": "2022-07-17T13:04:52.371082",
     "exception": false,
     "start_time": "2022-07-17T13:04:51.980462",
     "status": "completed"
    },
    "tags": []
   },
   "outputs": [
    {
     "data": {
      "image/png": "[encoded data removed]",
      "text/plain": [
       "<Figure size 864x360 with 2 Axes>"
      ]
     },
     "metadata": {
      "needs_background": "light"
     },
     "output_type": "display_data"
    }
   ],
   "source": [
    "fig,(ax1,ax2)=plt.subplots(ncols=2,figsize=(12,5))\n",
    "\n",
    "ax1.scatter(X_train[\"Age\"],X_train[\"EstimatedSalary\"])\n",
    "ax1.set_title(\"Before scaling\")\n",
    "\n",
    "ax2.scatter(X_train_scaled[\"Age\"],X_train_scaled[\"EstimatedSalary\"],color=\"red\")\n",
    "ax2.set_title(\"After scaling\")\n",
    "plt.show()"
   ]
  },
  {
   "cell_type": "code",
   "execution_count": 15,
   "id": "99de2972",
   "metadata": {
    "execution": {
     "iopub.execute_input": "2022-07-17T13:04:52.401095Z",
     "iopub.status.busy": "2022-07-17T13:04:52.400502Z",
     "iopub.status.idle": "2022-07-17T13:04:52.404651Z",
     "shell.execute_reply": "2022-07-17T13:04:52.403685Z"
    },
    "papermill": {
     "duration": 0.021871,
     "end_time": "2022-07-17T13:04:52.406918",
     "exception": false,
     "start_time": "2022-07-17T13:04:52.385047",
     "status": "completed"
    },
    "tags": []
   },
   "outputs": [],
   "source": [
    "import seaborn as sns"
   ]
  },
  {
   "cell_type": "code",
   "execution_count": 16,
   "id": "d5fd1a1d",
   "metadata": {
    "execution": {
     "iopub.execute_input": "2022-07-17T13:04:52.435283Z",
     "iopub.status.busy": "2022-07-17T13:04:52.434860Z",
     "iopub.status.idle": "2022-07-17T13:04:52.842305Z",
     "shell.execute_reply": "2022-07-17T13:04:52.841389Z"
    },
    "papermill": {
     "duration": 0.424337,
     "end_time": "2022-07-17T13:04:52.844429",
     "exception": false,
     "start_time": "2022-07-17T13:04:52.420092",
     "status": "completed"
    },
    "tags": []
   },
   "outputs": [
    {
     "data": {
      "image/png": "[encoded data removed]",
      "text/plain": [
       "<Figure size 864x360 with 2 Axes>"
      ]
     },
     "metadata": {
      "needs_background": "light"
     },
     "output_type": "display_data"
    }
   ],
   "source": [
    "fig, (ax1, ax2) = plt.subplots(ncols=2, figsize=(12, 5))\n",
    "\n",
    "# before scaling\n",
    "ax1.set_title('Before Scaling')\n",
    "sns.kdeplot(X_train['Age'], ax=ax1)\n",
    "sns.kdeplot(X_train['EstimatedSalary'], ax=ax1)\n",
    "\n",
    "# after scaling\n",
    "ax2.set_title('After Standard Scaling')\n",
    "sns.kdeplot(X_train_scaled['Age'], ax=ax2)\n",
    "sns.kdeplot(X_train_scaled['EstimatedSalary'], ax=ax2)\n",
    "plt.show()"
   ]
  },
  {
   "cell_type": "markdown",
   "id": "3785eb70",
   "metadata": {
    "papermill": {
     "duration": 0.013975,
     "end_time": "2022-07-17T13:04:52.872429",
     "exception": false,
     "start_time": "2022-07-17T13:04:52.858454",
     "status": "completed"
    },
    "tags": []
   },
   "source": [
    "# Comparison of Distributions"
   ]
  },
  {
   "cell_type": "code",
   "execution_count": 17,
   "id": "b3787d49",
   "metadata": {
    "execution": {
     "iopub.execute_input": "2022-07-17T13:04:52.902492Z",
     "iopub.status.busy": "2022-07-17T13:04:52.901908Z",
     "iopub.status.idle": "2022-07-17T13:04:53.262725Z",
     "shell.execute_reply": "2022-07-17T13:04:53.261665Z"
    },
    "papermill": {
     "duration": 0.378251,
     "end_time": "2022-07-17T13:04:53.264943",
     "exception": false,
     "start_time": "2022-07-17T13:04:52.886692",
     "status": "completed"
    },
    "tags": []
   },
   "outputs": [
    {
     "data": {
      "image/png": "[encoded data removed]",
      "text/plain": [
       "<Figure size 864x360 with 2 Axes>"
      ]
     },
     "metadata": {
      "needs_background": "light"
     },
     "output_type": "display_data"
    }
   ],
   "source": [
    "fig, (ax1, ax2) = plt.subplots(ncols=2, figsize=(12, 5))\n",
    "\n",
    "# before scaling\n",
    "ax1.set_title('Age Distribution Before Scaling')\n",
    "sns.kdeplot(X_train['Age'], ax=ax1)\n",
    "\n",
    "# after scaling\n",
    "ax2.set_title('Age Distribution After Standard Scaling')\n",
    "sns.kdeplot(X_train_scaled['Age'], ax=ax2)\n",
    "plt.show()"
   ]
  },
  {
   "cell_type": "code",
   "execution_count": 18,
   "id": "edbbfc10",
   "metadata": {
    "execution": {
     "iopub.execute_input": "2022-07-17T13:04:53.296871Z",
     "iopub.status.busy": "2022-07-17T13:04:53.296206Z",
     "iopub.status.idle": "2022-07-17T13:04:53.645495Z",
     "shell.execute_reply": "2022-07-17T13:04:53.644237Z"
    },
    "papermill": {
     "duration": 0.367849,
     "end_time": "2022-07-17T13:04:53.647965",
     "exception": false,
     "start_time": "2022-07-17T13:04:53.280116",
     "status": "completed"
    },
    "tags": []
   },
   "outputs": [
    {
     "data": {
      "image/png": "[encoded data removed]",
      "text/plain": [
       "<Figure size 864x360 with 2 Axes>"
      ]
     },
     "metadata": {
      "needs_background": "light"
     },
     "output_type": "display_data"
    }
   ],
   "source": [
    "fig,(ax1,ax2)=plt.subplots(ncols=2,figsize=(12,5))\n",
    "\n",
    "ax1.set_title(\"EstimatedSalary distribution before scaling\")\n",
    "sns.kdeplot(X_train[\"EstimatedSalary\"],ax=ax1)\n",
    "\n",
    "ax2.set_title(\"EstimatedSalary distribution after scaling\")\n",
    "sns.kdeplot(X_train_scaled[\"EstimatedSalary\"],ax=ax2)\n",
    "\n",
    "plt.show()"
   ]
  },
  {
   "cell_type": "markdown",
   "id": "e410166f",
   "metadata": {
    "papermill": {
     "duration": 0.014785,
     "end_time": "2022-07-17T13:04:53.677949",
     "exception": false,
     "start_time": "2022-07-17T13:04:53.663164",
     "status": "completed"
    },
    "tags": []
   },
   "source": [
    "# Why scaling is important?"
   ]
  },
  {
   "cell_type": "code",
   "execution_count": 19,
   "id": "2f61a634",
   "metadata": {
    "execution": {
     "iopub.execute_input": "2022-07-17T13:04:53.710759Z",
     "iopub.status.busy": "2022-07-17T13:04:53.710356Z",
     "iopub.status.idle": "2022-07-17T13:04:53.797361Z",
     "shell.execute_reply": "2022-07-17T13:04:53.796399Z"
    },
    "papermill": {
     "duration": 0.106438,
     "end_time": "2022-07-17T13:04:53.800005",
     "exception": false,
     "start_time": "2022-07-17T13:04:53.693567",
     "status": "completed"
    },
    "tags": []
   },
   "outputs": [],
   "source": [
    "from sklearn.linear_model import LogisticRegression"
   ]
  },
  {
   "cell_type": "code",
   "execution_count": 20,
   "id": "7b9ff4bf",
   "metadata": {
    "execution": {
     "iopub.execute_input": "2022-07-17T13:04:53.834345Z",
     "iopub.status.busy": "2022-07-17T13:04:53.833271Z",
     "iopub.status.idle": "2022-07-17T13:04:53.839055Z",
     "shell.execute_reply": "2022-07-17T13:04:53.838202Z"
    },
    "papermill": {
     "duration": 0.024859,
     "end_time": "2022-07-17T13:04:53.841391",
     "exception": false,
     "start_time": "2022-07-17T13:04:53.816532",
     "status": "completed"
    },
    "tags": []
   },
   "outputs": [],
   "source": [
    "lr=LogisticRegression()\n",
    "lr_scaled=LogisticRegression()"
   ]
  },
  {
   "cell_type": "code",
   "execution_count": 21,
   "id": "e26f8ae5",
   "metadata": {
    "execution": {
     "iopub.execute_input": "2022-07-17T13:04:53.873426Z",
     "iopub.status.busy": "2022-07-17T13:04:53.872774Z",
     "iopub.status.idle": "2022-07-17T13:04:53.891287Z",
     "shell.execute_reply": "2022-07-17T13:04:53.890350Z"
    },
    "papermill": {
     "duration": 0.036977,
     "end_time": "2022-07-17T13:04:53.893610",
     "exception": false,
     "start_time": "2022-07-17T13:04:53.856633",
     "status": "completed"
    },
    "tags": []
   },
   "outputs": [
    {
     "data": {
      "text/plain": [
       "LogisticRegression()"
      ]
     },
     "execution_count": 21,
     "metadata": {},
     "output_type": "execute_result"
    }
   ],
   "source": [
    "lr.fit(X_train,y_train)\n",
    "lr_scaled.fit(X_train_scaled,y_train)"
   ]
  },
  {
   "cell_type": "code",
   "execution_count": 22,
   "id": "3e3570e9",
   "metadata": {
    "execution": {
     "iopub.execute_input": "2022-07-17T13:04:53.927353Z",
     "iopub.status.busy": "2022-07-17T13:04:53.926644Z",
     "iopub.status.idle": "2022-07-17T13:04:53.934046Z",
     "shell.execute_reply": "2022-07-17T13:04:53.933176Z"
    },
    "papermill": {
     "duration": 0.027007,
     "end_time": "2022-07-17T13:04:53.936521",
     "exception": false,
     "start_time": "2022-07-17T13:04:53.909514",
     "status": "completed"
    },
    "tags": []
   },
   "outputs": [],
   "source": [
    "y_pred=lr.predict(X_test)\n",
    "y_pred_scaled=lr_scaled.predict(X_test_scaled)"
   ]
  },
  {
   "cell_type": "code",
   "execution_count": 23,
   "id": "c402c812",
   "metadata": {
    "execution": {
     "iopub.execute_input": "2022-07-17T13:04:53.970400Z",
     "iopub.status.busy": "2022-07-17T13:04:53.969697Z",
     "iopub.status.idle": "2022-07-17T13:04:53.974273Z",
     "shell.execute_reply": "2022-07-17T13:04:53.973330Z"
    },
    "papermill": {
     "duration": 0.024425,
     "end_time": "2022-07-17T13:04:53.976661",
     "exception": false,
     "start_time": "2022-07-17T13:04:53.952236",
     "status": "completed"
    },
    "tags": []
   },
   "outputs": [],
   "source": [
    "from sklearn.metrics import accuracy_score"
   ]
  },
  {
   "cell_type": "code",
   "execution_count": 24,
   "id": "fedbaf6a",
   "metadata": {
    "execution": {
     "iopub.execute_input": "2022-07-17T13:04:54.010941Z",
     "iopub.status.busy": "2022-07-17T13:04:54.010278Z",
     "iopub.status.idle": "2022-07-17T13:04:54.017204Z",
     "shell.execute_reply": "2022-07-17T13:04:54.015529Z"
    },
    "papermill": {
     "duration": 0.027246,
     "end_time": "2022-07-17T13:04:54.019698",
     "exception": false,
     "start_time": "2022-07-17T13:04:53.992452",
     "status": "completed"
    },
    "tags": []
   },
   "outputs": [
    {
     "name": "stdout",
     "output_type": "stream",
     "text": [
      "Actual 0.6583333333333333\n",
      "scaled 0.8666666666666667\n"
     ]
    }
   ],
   "source": [
    "print(\"Actual\",accuracy_score(y_test,y_pred))\n",
    "print(\"scaled\",accuracy_score(y_test,y_pred_scaled))"
   ]
  },
  {
   "cell_type": "code",
   "execution_count": 25,
   "id": "cb2aee6e",
   "metadata": {
    "execution": {
     "iopub.execute_input": "2022-07-17T13:04:54.052764Z",
     "iopub.status.busy": "2022-07-17T13:04:54.051820Z",
     "iopub.status.idle": "2022-07-17T13:04:54.138782Z",
     "shell.execute_reply": "2022-07-17T13:04:54.137734Z"
    },
    "papermill": {
     "duration": 0.106037,
     "end_time": "2022-07-17T13:04:54.141308",
     "exception": false,
     "start_time": "2022-07-17T13:04:54.035271",
     "status": "completed"
    },
    "tags": []
   },
   "outputs": [],
   "source": [
    "from sklearn.tree import DecisionTreeClassifier"
   ]
  },
  {
   "cell_type": "code",
   "execution_count": 26,
   "id": "82ff46d0",
   "metadata": {
    "execution": {
     "iopub.execute_input": "2022-07-17T13:04:54.174808Z",
     "iopub.status.busy": "2022-07-17T13:04:54.173716Z",
     "iopub.status.idle": "2022-07-17T13:04:54.178444Z",
     "shell.execute_reply": "2022-07-17T13:04:54.177585Z"
    },
    "papermill": {
     "duration": 0.023187,
     "end_time": "2022-07-17T13:04:54.180374",
     "exception": false,
     "start_time": "2022-07-17T13:04:54.157187",
     "status": "completed"
    },
    "tags": []
   },
   "outputs": [],
   "source": [
    "dt=DecisionTreeClassifier()\n",
    "dt_scaled=DecisionTreeClassifier()"
   ]
  },
  {
   "cell_type": "code",
   "execution_count": 27,
   "id": "c237a0d6",
   "metadata": {
    "execution": {
     "iopub.execute_input": "2022-07-17T13:04:54.213482Z",
     "iopub.status.busy": "2022-07-17T13:04:54.212470Z",
     "iopub.status.idle": "2022-07-17T13:04:54.226720Z",
     "shell.execute_reply": "2022-07-17T13:04:54.225847Z"
    },
    "papermill": {
     "duration": 0.032992,
     "end_time": "2022-07-17T13:04:54.228942",
     "exception": false,
     "start_time": "2022-07-17T13:04:54.195950",
     "status": "completed"
    },
    "tags": []
   },
   "outputs": [
    {
     "data": {
      "text/plain": [
       "DecisionTreeClassifier()"
      ]
     },
     "execution_count": 27,
     "metadata": {},
     "output_type": "execute_result"
    }
   ],
   "source": [
    "dt.fit(X_train,y_train)\n",
    "dt_scaled.fit(X_train_scaled,y_train)"
   ]
  },
  {
   "cell_type": "code",
   "execution_count": 28,
   "id": "d665d0d5",
   "metadata": {
    "execution": {
     "iopub.execute_input": "2022-07-17T13:04:54.262210Z",
     "iopub.status.busy": "2022-07-17T13:04:54.261256Z",
     "iopub.status.idle": "2022-07-17T13:04:54.270543Z",
     "shell.execute_reply": "2022-07-17T13:04:54.269232Z"
    },
    "papermill": {
     "duration": 0.028878,
     "end_time": "2022-07-17T13:04:54.273514",
     "exception": false,
     "start_time": "2022-07-17T13:04:54.244636",
     "status": "completed"
    },
    "tags": []
   },
   "outputs": [],
   "source": [
    "y_pred=dt.predict(X_test)\n",
    "y_pred_scaled=dt_scaled.predict(X_test_scaled)"
   ]
  },
  {
   "cell_type": "code",
   "execution_count": 29,
   "id": "355924ea",
   "metadata": {
    "execution": {
     "iopub.execute_input": "2022-07-17T13:04:54.307630Z",
     "iopub.status.busy": "2022-07-17T13:04:54.306669Z",
     "iopub.status.idle": "2022-07-17T13:04:54.312365Z",
     "shell.execute_reply": "2022-07-17T13:04:54.311009Z"
    },
    "papermill": {
     "duration": 0.024785,
     "end_time": "2022-07-17T13:04:54.314541",
     "exception": false,
     "start_time": "2022-07-17T13:04:54.289756",
     "status": "completed"
    },
    "tags": []
   },
   "outputs": [],
   "source": [
    "from sklearn.metrics import accuracy_score"
   ]
  },
  {
   "cell_type": "code",
   "execution_count": 30,
   "id": "85e9a568",
   "metadata": {
    "execution": {
     "iopub.execute_input": "2022-07-17T13:04:54.347980Z",
     "iopub.status.busy": "2022-07-17T13:04:54.347242Z",
     "iopub.status.idle": "2022-07-17T13:04:54.355359Z",
     "shell.execute_reply": "2022-07-17T13:04:54.353952Z"
    },
    "papermill": {
     "duration": 0.028952,
     "end_time": "2022-07-17T13:04:54.359254",
     "exception": false,
     "start_time": "2022-07-17T13:04:54.330302",
     "status": "completed"
    },
    "tags": []
   },
   "outputs": [
    {
     "name": "stdout",
     "output_type": "stream",
     "text": [
      "Actual 0.8666666666666667\n",
      "Scaled 0.8666666666666667\n"
     ]
    }
   ],
   "source": [
    "print(\"Actual\",accuracy_score(y_test,y_pred))\n",
    "print(\"Scaled\",accuracy_score(y_test,y_pred_scaled))"
   ]
  },
  {
   "cell_type": "markdown",
   "id": "5708eb0f",
   "metadata": {
    "papermill": {
     "duration": 0.015256,
     "end_time": "2022-07-17T13:04:54.390307",
     "exception": false,
     "start_time": "2022-07-17T13:04:54.375051",
     "status": "completed"
    },
    "tags": []
   },
   "source": [
    "# Effect of Outlier"
   ]
  },
  {
   "cell_type": "code",
   "execution_count": 31,
   "id": "ef0dedb5",
   "metadata": {
    "execution": {
     "iopub.execute_input": "2022-07-17T13:04:54.423643Z",
     "iopub.status.busy": "2022-07-17T13:04:54.422870Z",
     "iopub.status.idle": "2022-07-17T13:04:54.430024Z",
     "shell.execute_reply": "2022-07-17T13:04:54.429183Z"
    },
    "papermill": {
     "duration": 0.02677,
     "end_time": "2022-07-17T13:04:54.432661",
     "exception": false,
     "start_time": "2022-07-17T13:04:54.405891",
     "status": "completed"
    },
    "tags": []
   },
   "outputs": [],
   "source": [
    "df1 = df1.append(pd.DataFrame({'Age':[5,90,95],'EstimatedSalary':[1000,250000,350000],'Purchased':[0,1,1]}),ignore_index=True)"
   ]
  },
  {
   "cell_type": "code",
   "execution_count": 32,
   "id": "82ca1804",
   "metadata": {
    "execution": {
     "iopub.execute_input": "2022-07-17T13:04:54.467035Z",
     "iopub.status.busy": "2022-07-17T13:04:54.466287Z",
     "iopub.status.idle": "2022-07-17T13:04:54.479013Z",
     "shell.execute_reply": "2022-07-17T13:04:54.477774Z"
    },
    "papermill": {
     "duration": 0.032521,
     "end_time": "2022-07-17T13:04:54.481404",
     "exception": false,
     "start_time": "2022-07-17T13:04:54.448883",
     "status": "completed"
    },
    "tags": []
   },
   "outputs": [
    {
     "data": {
      "text/html": [
       "<div>\n",
       "<style scoped>\n",
       "    .dataframe tbody tr th:only-of-type {\n",
       "        vertical-align: middle;\n",
       "    }\n",
       "\n",
       "    .dataframe tbody tr th {\n",
       "        vertical-align: top;\n",
       "    }\n",
       "\n",
       "    .dataframe thead th {\n",
       "        text-align: right;\n",
       "    }\n",
       "</style>\n",
       "<table border=\"1\" class=\"dataframe\">\n",
       "  <thead>\n",
       "    <tr style=\"text-align: right;\">\n",
       "      <th></th>\n",
       "      <th>Age</th>\n",
       "      <th>EstimatedSalary</th>\n",
       "      <th>Purchased</th>\n",
       "    </tr>\n",
       "  </thead>\n",
       "  <tbody>\n",
       "    <tr>\n",
       "      <th>0</th>\n",
       "      <td>19</td>\n",
       "      <td>19000</td>\n",
       "      <td>0</td>\n",
       "    </tr>\n",
       "    <tr>\n",
       "      <th>1</th>\n",
       "      <td>35</td>\n",
       "      <td>20000</td>\n",
       "      <td>0</td>\n",
       "    </tr>\n",
       "    <tr>\n",
       "      <th>2</th>\n",
       "      <td>26</td>\n",
       "      <td>43000</td>\n",
       "      <td>0</td>\n",
       "    </tr>\n",
       "    <tr>\n",
       "      <th>3</th>\n",
       "      <td>27</td>\n",
       "      <td>57000</td>\n",
       "      <td>0</td>\n",
       "    </tr>\n",
       "    <tr>\n",
       "      <th>4</th>\n",
       "      <td>19</td>\n",
       "      <td>76000</td>\n",
       "      <td>0</td>\n",
       "    </tr>\n",
       "    <tr>\n",
       "      <th>...</th>\n",
       "      <td>...</td>\n",
       "      <td>...</td>\n",
       "      <td>...</td>\n",
       "    </tr>\n",
       "    <tr>\n",
       "      <th>398</th>\n",
       "      <td>36</td>\n",
       "      <td>33000</td>\n",
       "      <td>0</td>\n",
       "    </tr>\n",
       "    <tr>\n",
       "      <th>399</th>\n",
       "      <td>49</td>\n",
       "      <td>36000</td>\n",
       "      <td>1</td>\n",
       "    </tr>\n",
       "    <tr>\n",
       "      <th>400</th>\n",
       "      <td>5</td>\n",
       "      <td>1000</td>\n",
       "      <td>0</td>\n",
       "    </tr>\n",
       "    <tr>\n",
       "      <th>401</th>\n",
       "      <td>90</td>\n",
       "      <td>250000</td>\n",
       "      <td>1</td>\n",
       "    </tr>\n",
       "    <tr>\n",
       "      <th>402</th>\n",
       "      <td>95</td>\n",
       "      <td>350000</td>\n",
       "      <td>1</td>\n",
       "    </tr>\n",
       "  </tbody>\n",
       "</table>\n",
       "<p>403 rows × 3 columns</p>\n",
       "</div>"
      ],
      "text/plain": [
       "     Age  EstimatedSalary  Purchased\n",
       "0     19            19000          0\n",
       "1     35            20000          0\n",
       "2     26            43000          0\n",
       "3     27            57000          0\n",
       "4     19            76000          0\n",
       "..   ...              ...        ...\n",
       "398   36            33000          0\n",
       "399   49            36000          1\n",
       "400    5             1000          0\n",
       "401   90           250000          1\n",
       "402   95           350000          1\n",
       "\n",
       "[403 rows x 3 columns]"
      ]
     },
     "execution_count": 32,
     "metadata": {},
     "output_type": "execute_result"
    }
   ],
   "source": [
    "df1"
   ]
  },
  {
   "cell_type": "code",
   "execution_count": 33,
   "id": "d8ca34f6",
   "metadata": {
    "execution": {
     "iopub.execute_input": "2022-07-17T13:04:54.515416Z",
     "iopub.status.busy": "2022-07-17T13:04:54.515019Z",
     "iopub.status.idle": "2022-07-17T13:04:54.662418Z",
     "shell.execute_reply": "2022-07-17T13:04:54.660977Z"
    },
    "papermill": {
     "duration": 0.16764,
     "end_time": "2022-07-17T13:04:54.665204",
     "exception": false,
     "start_time": "2022-07-17T13:04:54.497564",
     "status": "completed"
    },
    "tags": []
   },
   "outputs": [
    {
     "data": {
      "text/plain": [
       "<matplotlib.collections.PathCollection at 0x7f0f7355b8d0>"
      ]
     },
     "execution_count": 33,
     "metadata": {},
     "output_type": "execute_result"
    },
    {
     "data": {
      "image/png": "[encoded data removed]",
      "text/plain": [
       "<Figure size 432x288 with 1 Axes>"
      ]
     },
     "metadata": {
      "needs_background": "light"
     },
     "output_type": "display_data"
    }
   ],
   "source": [
    "plt.scatter(df1['Age'], df1['EstimatedSalary'])"
   ]
  },
  {
   "cell_type": "code",
   "execution_count": 34,
   "id": "6b64ba95",
   "metadata": {
    "execution": {
     "iopub.execute_input": "2022-07-17T13:04:54.701288Z",
     "iopub.status.busy": "2022-07-17T13:04:54.700871Z",
     "iopub.status.idle": "2022-07-17T13:04:54.711683Z",
     "shell.execute_reply": "2022-07-17T13:04:54.710472Z"
    },
    "papermill": {
     "duration": 0.031613,
     "end_time": "2022-07-17T13:04:54.713827",
     "exception": false,
     "start_time": "2022-07-17T13:04:54.682214",
     "status": "completed"
    },
    "tags": []
   },
   "outputs": [
    {
     "data": {
      "text/plain": [
       "((282, 2), (121, 2))"
      ]
     },
     "execution_count": 34,
     "metadata": {},
     "output_type": "execute_result"
    }
   ],
   "source": [
    "from sklearn.model_selection import train_test_split\n",
    "X_train, X_test, y_train, y_test = train_test_split(df1.drop('Purchased', axis=1),\n",
    "                                                    df1['Purchased'],\n",
    "                                                    test_size=0.3,\n",
    "                                                    random_state=0)\n",
    "\n",
    "X_train.shape, X_test.shape"
   ]
  },
  {
   "cell_type": "code",
   "execution_count": 35,
   "id": "7acbafa2",
   "metadata": {
    "execution": {
     "iopub.execute_input": "2022-07-17T13:04:54.750024Z",
     "iopub.status.busy": "2022-07-17T13:04:54.749352Z",
     "iopub.status.idle": "2022-07-17T13:04:54.759269Z",
     "shell.execute_reply": "2022-07-17T13:04:54.758308Z"
    },
    "papermill": {
     "duration": 0.030761,
     "end_time": "2022-07-17T13:04:54.761585",
     "exception": false,
     "start_time": "2022-07-17T13:04:54.730824",
     "status": "completed"
    },
    "tags": []
   },
   "outputs": [],
   "source": [
    "from sklearn.preprocessing import StandardScaler\n",
    "\n",
    "scaler = StandardScaler()\n",
    "\n",
    "# fit the scaler to the train set, it will learn the parameters\n",
    "scaler.fit(X_train)\n",
    "\n",
    "# transform train and test sets\n",
    "X_train_scaled = scaler.transform(X_train)\n",
    "X_test_scaled = scaler.transform(X_test)"
   ]
  },
  {
   "cell_type": "code",
   "execution_count": 36,
   "id": "66133b97",
   "metadata": {
    "execution": {
     "iopub.execute_input": "2022-07-17T13:04:54.797882Z",
     "iopub.status.busy": "2022-07-17T13:04:54.797220Z",
     "iopub.status.idle": "2022-07-17T13:04:54.802168Z",
     "shell.execute_reply": "2022-07-17T13:04:54.801283Z"
    },
    "papermill": {
     "duration": 0.025695,
     "end_time": "2022-07-17T13:04:54.804432",
     "exception": false,
     "start_time": "2022-07-17T13:04:54.778737",
     "status": "completed"
    },
    "tags": []
   },
   "outputs": [],
   "source": [
    "X_train_scaled = pd.DataFrame(X_train_scaled, columns=X_train.columns)\n",
    "X_test_scaled = pd.DataFrame(X_test_scaled, columns=X_test.columns)"
   ]
  },
  {
   "cell_type": "code",
   "execution_count": 37,
   "id": "87f11e71",
   "metadata": {
    "execution": {
     "iopub.execute_input": "2022-07-17T13:04:54.840370Z",
     "iopub.status.busy": "2022-07-17T13:04:54.839978Z",
     "iopub.status.idle": "2022-07-17T13:04:55.161948Z",
     "shell.execute_reply": "2022-07-17T13:04:55.160571Z"
    },
    "papermill": {
     "duration": 0.343146,
     "end_time": "2022-07-17T13:04:55.164708",
     "exception": false,
     "start_time": "2022-07-17T13:04:54.821562",
     "status": "completed"
    },
    "tags": []
   },
   "outputs": [
    {
     "data": {
      "image/png": "[encoded data removed]",
      "text/plain": [
       "<Figure size 864x360 with 2 Axes>"
      ]
     },
     "metadata": {
      "needs_background": "light"
     },
     "output_type": "display_data"
    }
   ],
   "source": [
    "fig, (ax1, ax2) = plt.subplots(ncols=2, figsize=(12, 5))\n",
    "\n",
    "ax1.scatter(X_train['Age'], X_train['EstimatedSalary'])\n",
    "ax1.set_title(\"Before Scaling\")\n",
    "ax2.scatter(X_train_scaled['Age'], X_train_scaled['EstimatedSalary'],color='red')\n",
    "ax2.set_title(\"After Scaling\")\n",
    "plt.show()"
   ]
  },
  {
   "cell_type": "code",
   "execution_count": null,
   "id": "f5b035a0",
   "metadata": {
    "papermill": {
     "duration": 0.026583,
     "end_time": "2022-07-17T13:04:55.208754",
     "exception": false,
     "start_time": "2022-07-17T13:04:55.182171",
     "status": "completed"
    },
    "tags": []
   },
   "outputs": [],
   "source": []
  },
  {
   "cell_type": "code",
   "execution_count": null,
   "id": "30910154",
   "metadata": {
    "papermill": {
     "duration": 0.017166,
     "end_time": "2022-07-17T13:04:55.243132",
     "exception": false,
     "start_time": "2022-07-17T13:04:55.225966",
     "status": "completed"
    },
    "tags": []
   },
   "outputs": [],
   "source": []
  },
  {
   "cell_type": "code",
   "execution_count": null,
   "id": "b3dc8c7e",
   "metadata": {
    "papermill": {
     "duration": 0.016541,
     "end_time": "2022-07-17T13:04:55.276847",
     "exception": false,
     "start_time": "2022-07-17T13:04:55.260306",
     "status": "completed"
    },
    "tags": []
   },
   "outputs": [],
   "source": []
  }
 ],
 "metadata": {
  "kernelspec": {
   "display_name": "Python 3",
   "language": "python",
   "name": "python3"
  },
  "language_info": {
   "codemirror_mode": {
    "name": "ipython",
    "version": 3
   },
   "file_extension": ".py",
   "mimetype": "text/x-python",
   "name": "python",
   "nbconvert_exporter": "python",
   "pygments_lexer": "ipython3",
   "version": "3.7.12"
  },
  "papermill": {
   "default_parameters": {},
   "duration": 17.046259,
   "end_time": "2022-07-17T13:04:56.118561",
   "environment_variables": {},
   "exception": null,
   "input_path": "__notebook__.ipynb",
   "output_path": "__notebook__.ipynb",
   "parameters": {},
   "start_time": "2022-07-17T13:04:39.072302",
   "version": "2.3.4"
  }
 },
 "nbformat": 4,
 "nbformat_minor": 5
}
