{
 "cells": [
  {
   "cell_type": "code",
   "execution_count": 1,
   "id": "0fdcde5b",
   "metadata": {
    "_cell_guid": "b1076dfc-b9ad-4769-8c92-a6c4dae69d19",
    "_uuid": "8f2839f25d086af736a60e9eeb907d3b93b6e0e5",
    "execution": {
     "iopub.execute_input": "2022-08-25T13:51:18.093806Z",
     "iopub.status.busy": "2022-08-25T13:51:18.093313Z",
     "iopub.status.idle": "2022-08-25T13:51:18.114124Z",
     "shell.execute_reply": "2022-08-25T13:51:18.112734Z"
    },
    "papermill": {
     "duration": 0.033843,
     "end_time": "2022-08-25T13:51:18.116976",
     "exception": false,
     "start_time": "2022-08-25T13:51:18.083133",
     "status": "completed"
    },
    "tags": []
   },
   "outputs": [
    {
     "name": "stdout",
     "output_type": "stream",
     "text": [
      "/kaggle/input/day20-1/train.csv\n"
     ]
    }
   ],
   "source": [
    "# This Python 3 environment comes with many helpful analytics libraries installed\n",
    "# It is defined by the kaggle/python Docker image: https://github.com/kaggle/docker-python\n",
    "# For example, here's several helpful packages to load\n",
    "\n",
    "import numpy as np # linear algebra\n",
    "import pandas as pd # data processing, CSV file I/O (e.g. pd.read_csv)\n",
    "\n",
    "# Input data files are available in the read-only \"../input/\" directory\n",
    "# For example, running this (by clicking run or pressing Shift+Enter) will list all files under the input directory\n",
    "\n",
    "import os\n",
    "for dirname, _, filenames in os.walk('/kaggle/input'):\n",
    "    for filename in filenames:\n",
    "        print(os.path.join(dirname, filename))\n",
    "\n",
    "# You can write up to 20GB to the current directory (/kaggle/working/) that gets preserved as output when you create a version using \"Save & Run All\" \n",
    "# You can also write temporary files to /kaggle/temp/, but they won't be saved outside of the current session"
   ]
  },
  {
   "cell_type": "code",
   "execution_count": 2,
   "id": "5c3b1361",
   "metadata": {
    "execution": {
     "iopub.execute_input": "2022-08-25T13:51:18.133942Z",
     "iopub.status.busy": "2022-08-25T13:51:18.133528Z",
     "iopub.status.idle": "2022-08-25T13:51:19.679456Z",
     "shell.execute_reply": "2022-08-25T13:51:19.678408Z"
    },
    "papermill": {
     "duration": 1.557656,
     "end_time": "2022-08-25T13:51:19.682310",
     "exception": false,
     "start_time": "2022-08-25T13:51:18.124654",
     "status": "completed"
    },
    "tags": []
   },
   "outputs": [],
   "source": [
    "import pandas as pd\n",
    "import numpy as np\n",
    "import scipy.stats as stats\n",
    "\n",
    "import matplotlib.pyplot as plt\n",
    "import seaborn as sns\n",
    "\n",
    "from sklearn.model_selection import train_test_split\n",
    "from sklearn.metrics import accuracy_score\n",
    "from sklearn.model_selection import cross_val_score\n",
    " \n",
    "from sklearn.linear_model import LogisticRegression\n",
    "from sklearn.tree import DecisionTreeClassifier\n",
    "\n",
    "from sklearn.preprocessing import FunctionTransformer\n",
    "from sklearn.compose import ColumnTransformer"
   ]
  },
  {
   "cell_type": "code",
   "execution_count": 3,
   "id": "049ee051",
   "metadata": {
    "execution": {
     "iopub.execute_input": "2022-08-25T13:51:19.699236Z",
     "iopub.status.busy": "2022-08-25T13:51:19.698179Z",
     "iopub.status.idle": "2022-08-25T13:51:19.720242Z",
     "shell.execute_reply": "2022-08-25T13:51:19.719112Z"
    },
    "papermill": {
     "duration": 0.033118,
     "end_time": "2022-08-25T13:51:19.722774",
     "exception": false,
     "start_time": "2022-08-25T13:51:19.689656",
     "status": "completed"
    },
    "tags": []
   },
   "outputs": [],
   "source": [
    "df=pd.read_csv(\"/kaggle/input/day20-1/train.csv\")"
   ]
  },
  {
   "cell_type": "code",
   "execution_count": 4,
   "id": "950c93b8",
   "metadata": {
    "execution": {
     "iopub.execute_input": "2022-08-25T13:51:19.739644Z",
     "iopub.status.busy": "2022-08-25T13:51:19.738907Z",
     "iopub.status.idle": "2022-08-25T13:51:19.762842Z",
     "shell.execute_reply": "2022-08-25T13:51:19.761877Z"
    },
    "papermill": {
     "duration": 0.034938,
     "end_time": "2022-08-25T13:51:19.765073",
     "exception": false,
     "start_time": "2022-08-25T13:51:19.730135",
     "status": "completed"
    },
    "tags": []
   },
   "outputs": [
    {
     "data": {
      "text/html": [
       "<div>\n",
       "<style scoped>\n",
       "    .dataframe tbody tr th:only-of-type {\n",
       "        vertical-align: middle;\n",
       "    }\n",
       "\n",
       "    .dataframe tbody tr th {\n",
       "        vertical-align: top;\n",
       "    }\n",
       "\n",
       "    .dataframe thead th {\n",
       "        text-align: right;\n",
       "    }\n",
       "</style>\n",
       "<table border=\"1\" class=\"dataframe\">\n",
       "  <thead>\n",
       "    <tr style=\"text-align: right;\">\n",
       "      <th></th>\n",
       "      <th>PassengerId</th>\n",
       "      <th>Survived</th>\n",
       "      <th>Pclass</th>\n",
       "      <th>Name</th>\n",
       "      <th>Sex</th>\n",
       "      <th>Age</th>\n",
       "      <th>SibSp</th>\n",
       "      <th>Parch</th>\n",
       "      <th>Ticket</th>\n",
       "      <th>Fare</th>\n",
       "      <th>Cabin</th>\n",
       "      <th>Embarked</th>\n",
       "    </tr>\n",
       "  </thead>\n",
       "  <tbody>\n",
       "    <tr>\n",
       "      <th>0</th>\n",
       "      <td>1</td>\n",
       "      <td>0</td>\n",
       "      <td>3</td>\n",
       "      <td>Braund, Mr. Owen Harris</td>\n",
       "      <td>male</td>\n",
       "      <td>22.0</td>\n",
       "      <td>1</td>\n",
       "      <td>0</td>\n",
       "      <td>A/5 21171</td>\n",
       "      <td>7.2500</td>\n",
       "      <td>NaN</td>\n",
       "      <td>S</td>\n",
       "    </tr>\n",
       "    <tr>\n",
       "      <th>1</th>\n",
       "      <td>2</td>\n",
       "      <td>1</td>\n",
       "      <td>1</td>\n",
       "      <td>Cumings, Mrs. John Bradley (Florence Briggs Th...</td>\n",
       "      <td>female</td>\n",
       "      <td>38.0</td>\n",
       "      <td>1</td>\n",
       "      <td>0</td>\n",
       "      <td>PC 17599</td>\n",
       "      <td>71.2833</td>\n",
       "      <td>C85</td>\n",
       "      <td>C</td>\n",
       "    </tr>\n",
       "    <tr>\n",
       "      <th>2</th>\n",
       "      <td>3</td>\n",
       "      <td>1</td>\n",
       "      <td>3</td>\n",
       "      <td>Heikkinen, Miss. Laina</td>\n",
       "      <td>female</td>\n",
       "      <td>26.0</td>\n",
       "      <td>0</td>\n",
       "      <td>0</td>\n",
       "      <td>STON/O2. 3101282</td>\n",
       "      <td>7.9250</td>\n",
       "      <td>NaN</td>\n",
       "      <td>S</td>\n",
       "    </tr>\n",
       "    <tr>\n",
       "      <th>3</th>\n",
       "      <td>4</td>\n",
       "      <td>1</td>\n",
       "      <td>1</td>\n",
       "      <td>Futrelle, Mrs. Jacques Heath (Lily May Peel)</td>\n",
       "      <td>female</td>\n",
       "      <td>35.0</td>\n",
       "      <td>1</td>\n",
       "      <td>0</td>\n",
       "      <td>113803</td>\n",
       "      <td>53.1000</td>\n",
       "      <td>C123</td>\n",
       "      <td>S</td>\n",
       "    </tr>\n",
       "    <tr>\n",
       "      <th>4</th>\n",
       "      <td>5</td>\n",
       "      <td>0</td>\n",
       "      <td>3</td>\n",
       "      <td>Allen, Mr. William Henry</td>\n",
       "      <td>male</td>\n",
       "      <td>35.0</td>\n",
       "      <td>0</td>\n",
       "      <td>0</td>\n",
       "      <td>373450</td>\n",
       "      <td>8.0500</td>\n",
       "      <td>NaN</td>\n",
       "      <td>S</td>\n",
       "    </tr>\n",
       "  </tbody>\n",
       "</table>\n",
       "</div>"
      ],
      "text/plain": [
       "   PassengerId  Survived  Pclass  \\\n",
       "0            1         0       3   \n",
       "1            2         1       1   \n",
       "2            3         1       3   \n",
       "3            4         1       1   \n",
       "4            5         0       3   \n",
       "\n",
       "                                                Name     Sex   Age  SibSp  \\\n",
       "0                            Braund, Mr. Owen Harris    male  22.0      1   \n",
       "1  Cumings, Mrs. John Bradley (Florence Briggs Th...  female  38.0      1   \n",
       "2                             Heikkinen, Miss. Laina  female  26.0      0   \n",
       "3       Futrelle, Mrs. Jacques Heath (Lily May Peel)  female  35.0      1   \n",
       "4                           Allen, Mr. William Henry    male  35.0      0   \n",
       "\n",
       "   Parch            Ticket     Fare Cabin Embarked  \n",
       "0      0         A/5 21171   7.2500   NaN        S  \n",
       "1      0          PC 17599  71.2833   C85        C  \n",
       "2      0  STON/O2. 3101282   7.9250   NaN        S  \n",
       "3      0            113803  53.1000  C123        S  \n",
       "4      0            373450   8.0500   NaN        S  "
      ]
     },
     "execution_count": 4,
     "metadata": {},
     "output_type": "execute_result"
    }
   ],
   "source": [
    "df.head()"
   ]
  },
  {
   "cell_type": "code",
   "execution_count": 5,
   "id": "2bed6550",
   "metadata": {
    "execution": {
     "iopub.execute_input": "2022-08-25T13:51:19.782302Z",
     "iopub.status.busy": "2022-08-25T13:51:19.781560Z",
     "iopub.status.idle": "2022-08-25T13:51:19.792198Z",
     "shell.execute_reply": "2022-08-25T13:51:19.791255Z"
    },
    "papermill": {
     "duration": 0.021854,
     "end_time": "2022-08-25T13:51:19.794463",
     "exception": false,
     "start_time": "2022-08-25T13:51:19.772609",
     "status": "completed"
    },
    "tags": []
   },
   "outputs": [],
   "source": [
    "df1=pd.DataFrame(df,columns=[\"Survived\",\"Age\",\"Fare\"])"
   ]
  },
  {
   "cell_type": "code",
   "execution_count": 6,
   "id": "d9a5e213",
   "metadata": {
    "execution": {
     "iopub.execute_input": "2022-08-25T13:51:19.811518Z",
     "iopub.status.busy": "2022-08-25T13:51:19.810743Z",
     "iopub.status.idle": "2022-08-25T13:51:19.821476Z",
     "shell.execute_reply": "2022-08-25T13:51:19.820373Z"
    },
    "papermill": {
     "duration": 0.021673,
     "end_time": "2022-08-25T13:51:19.823667",
     "exception": false,
     "start_time": "2022-08-25T13:51:19.801994",
     "status": "completed"
    },
    "tags": []
   },
   "outputs": [
    {
     "data": {
      "text/html": [
       "<div>\n",
       "<style scoped>\n",
       "    .dataframe tbody tr th:only-of-type {\n",
       "        vertical-align: middle;\n",
       "    }\n",
       "\n",
       "    .dataframe tbody tr th {\n",
       "        vertical-align: top;\n",
       "    }\n",
       "\n",
       "    .dataframe thead th {\n",
       "        text-align: right;\n",
       "    }\n",
       "</style>\n",
       "<table border=\"1\" class=\"dataframe\">\n",
       "  <thead>\n",
       "    <tr style=\"text-align: right;\">\n",
       "      <th></th>\n",
       "      <th>Survived</th>\n",
       "      <th>Age</th>\n",
       "      <th>Fare</th>\n",
       "    </tr>\n",
       "  </thead>\n",
       "  <tbody>\n",
       "    <tr>\n",
       "      <th>0</th>\n",
       "      <td>0</td>\n",
       "      <td>22.0</td>\n",
       "      <td>7.2500</td>\n",
       "    </tr>\n",
       "    <tr>\n",
       "      <th>1</th>\n",
       "      <td>1</td>\n",
       "      <td>38.0</td>\n",
       "      <td>71.2833</td>\n",
       "    </tr>\n",
       "    <tr>\n",
       "      <th>2</th>\n",
       "      <td>1</td>\n",
       "      <td>26.0</td>\n",
       "      <td>7.9250</td>\n",
       "    </tr>\n",
       "    <tr>\n",
       "      <th>3</th>\n",
       "      <td>1</td>\n",
       "      <td>35.0</td>\n",
       "      <td>53.1000</td>\n",
       "    </tr>\n",
       "    <tr>\n",
       "      <th>4</th>\n",
       "      <td>0</td>\n",
       "      <td>35.0</td>\n",
       "      <td>8.0500</td>\n",
       "    </tr>\n",
       "  </tbody>\n",
       "</table>\n",
       "</div>"
      ],
      "text/plain": [
       "   Survived   Age     Fare\n",
       "0         0  22.0   7.2500\n",
       "1         1  38.0  71.2833\n",
       "2         1  26.0   7.9250\n",
       "3         1  35.0  53.1000\n",
       "4         0  35.0   8.0500"
      ]
     },
     "execution_count": 6,
     "metadata": {},
     "output_type": "execute_result"
    }
   ],
   "source": [
    "df1.head()"
   ]
  },
  {
   "cell_type": "code",
   "execution_count": 7,
   "id": "5e5fab2b",
   "metadata": {
    "execution": {
     "iopub.execute_input": "2022-08-25T13:51:19.841496Z",
     "iopub.status.busy": "2022-08-25T13:51:19.840743Z",
     "iopub.status.idle": "2022-08-25T13:51:19.849170Z",
     "shell.execute_reply": "2022-08-25T13:51:19.848287Z"
    },
    "papermill": {
     "duration": 0.019687,
     "end_time": "2022-08-25T13:51:19.851318",
     "exception": false,
     "start_time": "2022-08-25T13:51:19.831631",
     "status": "completed"
    },
    "tags": []
   },
   "outputs": [
    {
     "data": {
      "text/plain": [
       "Survived      0\n",
       "Age         177\n",
       "Fare          0\n",
       "dtype: int64"
      ]
     },
     "execution_count": 7,
     "metadata": {},
     "output_type": "execute_result"
    }
   ],
   "source": [
    "df1.isnull().sum()"
   ]
  },
  {
   "cell_type": "code",
   "execution_count": 8,
   "id": "464f5e66",
   "metadata": {
    "execution": {
     "iopub.execute_input": "2022-08-25T13:51:19.869190Z",
     "iopub.status.busy": "2022-08-25T13:51:19.868433Z",
     "iopub.status.idle": "2022-08-25T13:51:19.876128Z",
     "shell.execute_reply": "2022-08-25T13:51:19.875001Z"
    },
    "papermill": {
     "duration": 0.019275,
     "end_time": "2022-08-25T13:51:19.878462",
     "exception": false,
     "start_time": "2022-08-25T13:51:19.859187",
     "status": "completed"
    },
    "tags": []
   },
   "outputs": [],
   "source": [
    "df1[\"Age\"]=df1[\"Age\"].fillna(df1[\"Age\"].mean( ))"
   ]
  },
  {
   "cell_type": "code",
   "execution_count": 9,
   "id": "96895241",
   "metadata": {
    "execution": {
     "iopub.execute_input": "2022-08-25T13:51:19.896836Z",
     "iopub.status.busy": "2022-08-25T13:51:19.896367Z",
     "iopub.status.idle": "2022-08-25T13:51:19.902147Z",
     "shell.execute_reply": "2022-08-25T13:51:19.901067Z"
    },
    "papermill": {
     "duration": 0.016918,
     "end_time": "2022-08-25T13:51:19.904231",
     "exception": false,
     "start_time": "2022-08-25T13:51:19.887313",
     "status": "completed"
    },
    "tags": []
   },
   "outputs": [],
   "source": [
    "X=df1.iloc[:,1:3]\n",
    "y=df1.iloc[:,0:1]"
   ]
  },
  {
   "cell_type": "code",
   "execution_count": 10,
   "id": "3ae0eaf9",
   "metadata": {
    "execution": {
     "iopub.execute_input": "2022-08-25T13:51:19.921880Z",
     "iopub.status.busy": "2022-08-25T13:51:19.921146Z",
     "iopub.status.idle": "2022-08-25T13:51:19.927730Z",
     "shell.execute_reply": "2022-08-25T13:51:19.926858Z"
    },
    "papermill": {
     "duration": 0.018091,
     "end_time": "2022-08-25T13:51:19.930141",
     "exception": false,
     "start_time": "2022-08-25T13:51:19.912050",
     "status": "completed"
    },
    "tags": []
   },
   "outputs": [],
   "source": [
    "X_train,X_test,y_train,y_test=train_test_split(X,y,test_size=0.2,random_state=42)"
   ]
  },
  {
   "cell_type": "code",
   "execution_count": 11,
   "id": "c7b30ff2",
   "metadata": {
    "execution": {
     "iopub.execute_input": "2022-08-25T13:51:19.948093Z",
     "iopub.status.busy": "2022-08-25T13:51:19.947381Z",
     "iopub.status.idle": "2022-08-25T13:51:20.354383Z",
     "shell.execute_reply": "2022-08-25T13:51:20.353240Z"
    },
    "papermill": {
     "duration": 0.418933,
     "end_time": "2022-08-25T13:51:20.357241",
     "exception": false,
     "start_time": "2022-08-25T13:51:19.938308",
     "status": "completed"
    },
    "tags": []
   },
   "outputs": [
    {
     "name": "stderr",
     "output_type": "stream",
     "text": [
      "/opt/conda/lib/python3.7/site-packages/seaborn/distributions.py:2619: FutureWarning: `distplot` is a deprecated function and will be removed in a future version. Please adapt your code to use either `displot` (a figure-level function with similar flexibility) or `histplot` (an axes-level function for histograms).\n",
      "  warnings.warn(msg, FutureWarning)\n"
     ]
    },
    {
     "data": {
      "image/png": "[encoded data removed]",
      "text/plain": [
       "<Figure size 1008x288 with 2 Axes>"
      ]
     },
     "metadata": {
      "needs_background": "light"
     },
     "output_type": "display_data"
    }
   ],
   "source": [
    "plt.figure(figsize=(14,4))\n",
    "plt.subplot(121)\n",
    "sns.distplot(X_train[\"Age\"])\n",
    "plt.title(\"Age_PDF\")\n",
    "\n",
    "plt.subplot(122)\n",
    "stats.probplot(X_train[\"Age\"],dist=\"norm\",plot=plt)\n",
    "plt.title(\"Age_QQ_Plot\")\n",
    "\n",
    "plt.show()"
   ]
  },
  {
   "cell_type": "code",
   "execution_count": 12,
   "id": "cc511078",
   "metadata": {
    "execution": {
     "iopub.execute_input": "2022-08-25T13:51:20.376505Z",
     "iopub.status.busy": "2022-08-25T13:51:20.375484Z",
     "iopub.status.idle": "2022-08-25T13:51:20.844300Z",
     "shell.execute_reply": "2022-08-25T13:51:20.842989Z"
    },
    "papermill": {
     "duration": 0.481364,
     "end_time": "2022-08-25T13:51:20.847002",
     "exception": false,
     "start_time": "2022-08-25T13:51:20.365638",
     "status": "completed"
    },
    "tags": []
   },
   "outputs": [
    {
     "name": "stderr",
     "output_type": "stream",
     "text": [
      "/opt/conda/lib/python3.7/site-packages/seaborn/distributions.py:2619: FutureWarning: `distplot` is a deprecated function and will be removed in a future version. Please adapt your code to use either `displot` (a figure-level function with similar flexibility) or `histplot` (an axes-level function for histograms).\n",
      "  warnings.warn(msg, FutureWarning)\n"
     ]
    },
    {
     "data": {
      "image/png": "[encoded data removed]",
      "text/plain": [
       "<Figure size 1656x504 with 2 Axes>"
      ]
     },
     "metadata": {
      "needs_background": "light"
     },
     "output_type": "display_data"
    }
   ],
   "source": [
    "plt.figure(figsize=(23,7))\n",
    "plt.subplot(121)\n",
    "sns.distplot(X_train[\"Fare\"])\n",
    "plt.title(\"Age_PDF\")\n",
    "\n",
    "plt.subplot(122)\n",
    "stats.probplot(X_train[\"Fare\"],dist=\"norm\",plot=plt)\n",
    "plt.title(\"Age_QQ_Plot\")\n",
    "\n",
    "plt.show()"
   ]
  },
  {
   "cell_type": "code",
   "execution_count": 13,
   "id": "2af7d923",
   "metadata": {
    "execution": {
     "iopub.execute_input": "2022-08-25T13:51:20.867090Z",
     "iopub.status.busy": "2022-08-25T13:51:20.866658Z",
     "iopub.status.idle": "2022-08-25T13:51:20.871651Z",
     "shell.execute_reply": "2022-08-25T13:51:20.870453Z"
    },
    "papermill": {
     "duration": 0.017903,
     "end_time": "2022-08-25T13:51:20.874166",
     "exception": false,
     "start_time": "2022-08-25T13:51:20.856263",
     "status": "completed"
    },
    "tags": []
   },
   "outputs": [],
   "source": [
    "clf=LogisticRegression()\n",
    "clf2=DecisionTreeClassifier()"
   ]
  },
  {
   "cell_type": "code",
   "execution_count": 14,
   "id": "bae31ec8",
   "metadata": {
    "execution": {
     "iopub.execute_input": "2022-08-25T13:51:20.894051Z",
     "iopub.status.busy": "2022-08-25T13:51:20.893622Z",
     "iopub.status.idle": "2022-08-25T13:51:20.920124Z",
     "shell.execute_reply": "2022-08-25T13:51:20.919231Z"
    },
    "papermill": {
     "duration": 0.039174,
     "end_time": "2022-08-25T13:51:20.922439",
     "exception": false,
     "start_time": "2022-08-25T13:51:20.883265",
     "status": "completed"
    },
    "tags": []
   },
   "outputs": [
    {
     "name": "stderr",
     "output_type": "stream",
     "text": [
      "/opt/conda/lib/python3.7/site-packages/sklearn/utils/validation.py:993: DataConversionWarning: A column-vector y was passed when a 1d array was expected. Please change the shape of y to (n_samples, ), for example using ravel().\n",
      "  y = column_or_1d(y, warn=True)\n"
     ]
    },
    {
     "data": {
      "text/plain": [
       "DecisionTreeClassifier()"
      ]
     },
     "execution_count": 14,
     "metadata": {},
     "output_type": "execute_result"
    }
   ],
   "source": [
    "clf.fit(X_train,y_train)\n",
    "clf2.fit(X_train,y_train)"
   ]
  },
  {
   "cell_type": "code",
   "execution_count": 15,
   "id": "39121e6d",
   "metadata": {
    "execution": {
     "iopub.execute_input": "2022-08-25T13:51:20.943176Z",
     "iopub.status.busy": "2022-08-25T13:51:20.941988Z",
     "iopub.status.idle": "2022-08-25T13:51:20.951172Z",
     "shell.execute_reply": "2022-08-25T13:51:20.950152Z"
    },
    "papermill": {
     "duration": 0.022021,
     "end_time": "2022-08-25T13:51:20.953578",
     "exception": false,
     "start_time": "2022-08-25T13:51:20.931557",
     "status": "completed"
    },
    "tags": []
   },
   "outputs": [],
   "source": [
    "y_pred=clf.predict(X_test)\n",
    "y_pred2=clf2.predict(X_test)"
   ]
  },
  {
   "cell_type": "code",
   "execution_count": 16,
   "id": "2dde25ba",
   "metadata": {
    "execution": {
     "iopub.execute_input": "2022-08-25T13:51:20.974004Z",
     "iopub.status.busy": "2022-08-25T13:51:20.973085Z",
     "iopub.status.idle": "2022-08-25T13:51:20.981711Z",
     "shell.execute_reply": "2022-08-25T13:51:20.980542Z"
    },
    "papermill": {
     "duration": 0.021412,
     "end_time": "2022-08-25T13:51:20.984153",
     "exception": false,
     "start_time": "2022-08-25T13:51:20.962741",
     "status": "completed"
    },
    "tags": []
   },
   "outputs": [
    {
     "data": {
      "text/plain": [
       "0.6480446927374302"
      ]
     },
     "execution_count": 16,
     "metadata": {},
     "output_type": "execute_result"
    }
   ],
   "source": [
    "accuracy_score(y_test,y_pred)"
   ]
  },
  {
   "cell_type": "code",
   "execution_count": 17,
   "id": "e9c4e128",
   "metadata": {
    "execution": {
     "iopub.execute_input": "2022-08-25T13:51:21.005378Z",
     "iopub.status.busy": "2022-08-25T13:51:21.004437Z",
     "iopub.status.idle": "2022-08-25T13:51:21.011089Z",
     "shell.execute_reply": "2022-08-25T13:51:21.010263Z"
    },
    "papermill": {
     "duration": 0.019576,
     "end_time": "2022-08-25T13:51:21.013165",
     "exception": false,
     "start_time": "2022-08-25T13:51:20.993589",
     "status": "completed"
    },
    "tags": []
   },
   "outputs": [
    {
     "data": {
      "text/plain": [
       "0.659217877094972"
      ]
     },
     "execution_count": 17,
     "metadata": {},
     "output_type": "execute_result"
    }
   ],
   "source": [
    "accuracy_score(y_test,y_pred2)"
   ]
  },
  {
   "cell_type": "code",
   "execution_count": 18,
   "id": "4835e97d",
   "metadata": {
    "execution": {
     "iopub.execute_input": "2022-08-25T13:51:21.034021Z",
     "iopub.status.busy": "2022-08-25T13:51:21.033270Z",
     "iopub.status.idle": "2022-08-25T13:51:21.038038Z",
     "shell.execute_reply": "2022-08-25T13:51:21.037065Z"
    },
    "papermill": {
     "duration": 0.018482,
     "end_time": "2022-08-25T13:51:21.041043",
     "exception": false,
     "start_time": "2022-08-25T13:51:21.022561",
     "status": "completed"
    },
    "tags": []
   },
   "outputs": [],
   "source": [
    "trf=FunctionTransformer(func=np.log1p)"
   ]
  },
  {
   "cell_type": "code",
   "execution_count": 19,
   "id": "86c67e8b",
   "metadata": {
    "execution": {
     "iopub.execute_input": "2022-08-25T13:51:21.062079Z",
     "iopub.status.busy": "2022-08-25T13:51:21.061662Z",
     "iopub.status.idle": "2022-08-25T13:51:21.067221Z",
     "shell.execute_reply": "2022-08-25T13:51:21.065993Z"
    },
    "papermill": {
     "duration": 0.018785,
     "end_time": "2022-08-25T13:51:21.069411",
     "exception": false,
     "start_time": "2022-08-25T13:51:21.050626",
     "status": "completed"
    },
    "tags": []
   },
   "outputs": [],
   "source": [
    "X_train_transformed=trf.fit_transform(X_train)\n",
    "X_test_transformed=trf.fit_transform(X_test)"
   ]
  },
  {
   "cell_type": "code",
   "execution_count": 20,
   "id": "53dfd3be",
   "metadata": {
    "execution": {
     "iopub.execute_input": "2022-08-25T13:51:21.090314Z",
     "iopub.status.busy": "2022-08-25T13:51:21.089482Z",
     "iopub.status.idle": "2022-08-25T13:51:21.094005Z",
     "shell.execute_reply": "2022-08-25T13:51:21.093074Z"
    },
    "papermill": {
     "duration": 0.017462,
     "end_time": "2022-08-25T13:51:21.096269",
     "exception": false,
     "start_time": "2022-08-25T13:51:21.078807",
     "status": "completed"
    },
    "tags": []
   },
   "outputs": [],
   "source": [
    "clf=LogisticRegression()\n",
    "clf2=DecisionTreeClassifier()"
   ]
  },
  {
   "cell_type": "code",
   "execution_count": 21,
   "id": "d77705ae",
   "metadata": {
    "execution": {
     "iopub.execute_input": "2022-08-25T13:51:21.116961Z",
     "iopub.status.busy": "2022-08-25T13:51:21.116345Z",
     "iopub.status.idle": "2022-08-25T13:51:21.135540Z",
     "shell.execute_reply": "2022-08-25T13:51:21.134746Z"
    },
    "papermill": {
     "duration": 0.032408,
     "end_time": "2022-08-25T13:51:21.138032",
     "exception": false,
     "start_time": "2022-08-25T13:51:21.105624",
     "status": "completed"
    },
    "tags": []
   },
   "outputs": [
    {
     "name": "stderr",
     "output_type": "stream",
     "text": [
      "/opt/conda/lib/python3.7/site-packages/sklearn/utils/validation.py:993: DataConversionWarning: A column-vector y was passed when a 1d array was expected. Please change the shape of y to (n_samples, ), for example using ravel().\n",
      "  y = column_or_1d(y, warn=True)\n"
     ]
    },
    {
     "data": {
      "text/plain": [
       "DecisionTreeClassifier()"
      ]
     },
     "execution_count": 21,
     "metadata": {},
     "output_type": "execute_result"
    }
   ],
   "source": [
    "clf.fit(X_train_transformed,y_train)\n",
    "clf2.fit(X_train_transformed,y_train)"
   ]
  },
  {
   "cell_type": "code",
   "execution_count": 22,
   "id": "2e1a32f7",
   "metadata": {
    "execution": {
     "iopub.execute_input": "2022-08-25T13:51:21.159581Z",
     "iopub.status.busy": "2022-08-25T13:51:21.158847Z",
     "iopub.status.idle": "2022-08-25T13:51:21.166610Z",
     "shell.execute_reply": "2022-08-25T13:51:21.165744Z"
    },
    "papermill": {
     "duration": 0.021138,
     "end_time": "2022-08-25T13:51:21.169092",
     "exception": false,
     "start_time": "2022-08-25T13:51:21.147954",
     "status": "completed"
    },
    "tags": []
   },
   "outputs": [],
   "source": [
    "y_pred=clf.predict(X_test_transformed)\n",
    "y_pred2=clf2.predict(X_test_transformed)"
   ]
  },
  {
   "cell_type": "code",
   "execution_count": 23,
   "id": "9c66fbc6",
   "metadata": {
    "execution": {
     "iopub.execute_input": "2022-08-25T13:51:21.190158Z",
     "iopub.status.busy": "2022-08-25T13:51:21.189405Z",
     "iopub.status.idle": "2022-08-25T13:51:21.195960Z",
     "shell.execute_reply": "2022-08-25T13:51:21.195004Z"
    },
    "papermill": {
     "duration": 0.019705,
     "end_time": "2022-08-25T13:51:21.198312",
     "exception": false,
     "start_time": "2022-08-25T13:51:21.178607",
     "status": "completed"
    },
    "tags": []
   },
   "outputs": [
    {
     "data": {
      "text/plain": [
       "0.6815642458100558"
      ]
     },
     "execution_count": 23,
     "metadata": {},
     "output_type": "execute_result"
    }
   ],
   "source": [
    "accuracy_score(y_pred,y_test)\n"
   ]
  },
  {
   "cell_type": "code",
   "execution_count": 24,
   "id": "9c258c03",
   "metadata": {
    "execution": {
     "iopub.execute_input": "2022-08-25T13:51:21.220485Z",
     "iopub.status.busy": "2022-08-25T13:51:21.219876Z",
     "iopub.status.idle": "2022-08-25T13:51:21.226301Z",
     "shell.execute_reply": "2022-08-25T13:51:21.225539Z"
    },
    "papermill": {
     "duration": 0.02008,
     "end_time": "2022-08-25T13:51:21.228454",
     "exception": false,
     "start_time": "2022-08-25T13:51:21.208374",
     "status": "completed"
    },
    "tags": []
   },
   "outputs": [
    {
     "data": {
      "text/plain": [
       "0.6759776536312849"
      ]
     },
     "execution_count": 24,
     "metadata": {},
     "output_type": "execute_result"
    }
   ],
   "source": [
    "accuracy_score(y_pred2,y_test)"
   ]
  },
  {
   "cell_type": "code",
   "execution_count": 25,
   "id": "06ba911b",
   "metadata": {
    "execution": {
     "iopub.execute_input": "2022-08-25T13:51:21.249838Z",
     "iopub.status.busy": "2022-08-25T13:51:21.249193Z",
     "iopub.status.idle": "2022-08-25T13:51:21.580265Z",
     "shell.execute_reply": "2022-08-25T13:51:21.579046Z"
    },
    "papermill": {
     "duration": 0.344941,
     "end_time": "2022-08-25T13:51:21.583034",
     "exception": false,
     "start_time": "2022-08-25T13:51:21.238093",
     "status": "completed"
    },
    "tags": []
   },
   "outputs": [
    {
     "data": {
      "image/png": "[encoded data removed]",
      "text/plain": [
       "<Figure size 1008x288 with 2 Axes>"
      ]
     },
     "metadata": {
      "needs_background": "light"
     },
     "output_type": "display_data"
    }
   ],
   "source": [
    "plt.figure(figsize=(14,4))\n",
    "\n",
    "plt.subplot(121)\n",
    "stats.probplot(X_train['Fare'], dist=\"norm\", plot=plt)\n",
    "plt.title('Fare Before Log')\n",
    "\n",
    "plt.subplot(122)\n",
    "stats.probplot(X_train_transformed['Fare'], dist=\"norm\", plot=plt)\n",
    "plt.title('Fare After Log')\n",
    "\n",
    "plt.show()"
   ]
  },
  {
   "cell_type": "code",
   "execution_count": null,
   "id": "b6588844",
   "metadata": {
    "papermill": {
     "duration": 0.009831,
     "end_time": "2022-08-25T13:51:21.603250",
     "exception": false,
     "start_time": "2022-08-25T13:51:21.593419",
     "status": "completed"
    },
    "tags": []
   },
   "outputs": [],
   "source": []
  },
  {
   "cell_type": "code",
   "execution_count": null,
   "id": "129af0b5",
   "metadata": {
    "papermill": {
     "duration": 0.009958,
     "end_time": "2022-08-25T13:51:21.623319",
     "exception": false,
     "start_time": "2022-08-25T13:51:21.613361",
     "status": "completed"
    },
    "tags": []
   },
   "outputs": [],
   "source": []
  },
  {
   "cell_type": "code",
   "execution_count": null,
   "id": "4120b07f",
   "metadata": {
    "papermill": {
     "duration": 0.009962,
     "end_time": "2022-08-25T13:51:21.643444",
     "exception": false,
     "start_time": "2022-08-25T13:51:21.633482",
     "status": "completed"
    },
    "tags": []
   },
   "outputs": [],
   "source": []
  },
  {
   "cell_type": "code",
   "execution_count": null,
   "id": "b8499976",
   "metadata": {
    "papermill": {
     "duration": 0.010137,
     "end_time": "2022-08-25T13:51:21.663940",
     "exception": false,
     "start_time": "2022-08-25T13:51:21.653803",
     "status": "completed"
    },
    "tags": []
   },
   "outputs": [],
   "source": []
  },
  {
   "cell_type": "code",
   "execution_count": null,
   "id": "19b3fe20",
   "metadata": {
    "papermill": {
     "duration": 0.009941,
     "end_time": "2022-08-25T13:51:21.684391",
     "exception": false,
     "start_time": "2022-08-25T13:51:21.674450",
     "status": "completed"
    },
    "tags": []
   },
   "outputs": [],
   "source": []
  }
 ],
 "metadata": {
  "kernelspec": {
   "display_name": "Python 3",
   "language": "python",
   "name": "python3"
  },
  "language_info": {
   "codemirror_mode": {
    "name": "ipython",
    "version": 3
   },
   "file_extension": ".py",
   "mimetype": "text/x-python",
   "name": "python",
   "nbconvert_exporter": "python",
   "pygments_lexer": "ipython3",
   "version": "3.7.12"
  },
  "papermill": {
   "default_parameters": {},
   "duration": 14.263235,
   "end_time": "2022-08-25T13:51:22.517864",
   "environment_variables": {},
   "exception": null,
   "input_path": "__notebook__.ipynb",
   "output_path": "__notebook__.ipynb",
   "parameters": {},
   "start_time": "2022-08-25T13:51:08.254629",
   "version": "2.3.4"
  }
 },
 "nbformat": 4,
 "nbformat_minor": 5
}
